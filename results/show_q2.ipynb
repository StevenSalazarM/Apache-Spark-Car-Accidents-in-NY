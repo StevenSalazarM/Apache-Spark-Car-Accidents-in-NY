{
 "cells": [
  {
   "cell_type": "markdown",
   "metadata": {},
   "source": [
    "# Query 2"
   ]
  },
  {
   "cell_type": "markdown",
   "metadata": {},
   "source": [
    "## Import of libraries"
   ]
  },
  {
   "cell_type": "code",
   "execution_count": 1,
   "metadata": {},
   "outputs": [],
   "source": [
    "import pandas as pd\n",
    "import numpy as np\n",
    "import matplotlib.pyplot as plt\n",
    "from matplotlib.pyplot import figure\n",
    "from ipywidgets import widgets, interactive\n",
    "from io import StringIO\n"
   ]
  },
  {
   "cell_type": "markdown",
   "metadata": {},
   "source": [
    "## Scan of the results"
   ]
  },
  {
   "cell_type": "code",
   "execution_count": 2,
   "metadata": {},
   "outputs": [],
   "source": [
    "df = pd.read_csv(\"files/second_query.csv\", sep=\",\",names=[\"C\",\"N_Acc\",\"Average\"])"
   ]
  },
  {
   "cell_type": "markdown",
   "metadata": {},
   "source": [
    "## Function to create the plot"
   ]
  },
  {
   "cell_type": "code",
   "execution_count": 3,
   "metadata": {},
   "outputs": [],
   "source": [
    "\n",
    "def plot_second_query():\n",
    "\tcontrib = list(df['C'])\n",
    "\tn_accidents = list(df['N_Acc'])\n",
    "\taverage = list(df['Average'])\n",
    "\tfig = plt.figure(figsize=(24,25))\n",
    "\tax = fig.add_subplot(111)\n",
    "\tfig.subplots_adjust(bottom=0.42,left=0.07,right=0.98)\n",
    "\tplt.xlabel('Contributing Factor')\n",
    "\tax.set_title(\"Results of the second query\")\n",
    "\tplt.ylabel('N. Accidents')\n",
    "\tplt.xticks(range(len(contrib)), rotation='vertical')\n",
    "\tbar_contrib = ax.bar(contrib,n_accidents)\n",
    "\tfor rect, label in zip(bar_contrib, average):\n",
    "\t\theight = rect.get_height()\n",
    "\t\tax.text(rect.get_x() + rect.get_width() / 2, height + 5, label[:-1],\n",
    "\t\tha='center', va='bottom')\n",
    "\t\n",
    "\tplt.show();"
   ]
  },
  {
   "cell_type": "code",
   "execution_count": 4,
   "metadata": {},
   "outputs": [
    {
     "data": {
      "application/vnd.jupyter.widget-view+json": {
       "model_id": "6067c029f40d4b179afbef1de628e3dc",
       "version_major": 2,
       "version_minor": 0
      },
      "text/plain": [
       "interactive(children=(Output(),), _dom_classes=('widget-interact',))"
      ]
     },
     "metadata": {},
     "output_type": "display_data"
    }
   ],
   "source": [
    "interactive(plot_second_query)"
   ]
  },
  {
   "cell_type": "code",
   "execution_count": null,
   "metadata": {},
   "outputs": [],
   "source": []
  }
 ],
 "metadata": {
  "kernelspec": {
   "display_name": "Python 3",
   "language": "python",
   "name": "python3"
  },
  "language_info": {
   "codemirror_mode": {
    "name": "ipython",
    "version": 3
   },
   "file_extension": ".py",
   "mimetype": "text/x-python",
   "name": "python",
   "nbconvert_exporter": "python",
   "pygments_lexer": "ipython3",
   "version": "3.6.9"
  }
 },
 "nbformat": 4,
 "nbformat_minor": 4
}

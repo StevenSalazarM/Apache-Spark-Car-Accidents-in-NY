{
 "cells": [
  {
   "cell_type": "markdown",
   "metadata": {},
   "source": [
    "# Query 1"
   ]
  },
  {
   "cell_type": "markdown",
   "metadata": {},
   "source": [
    "## Import of libraries"
   ]
  },
  {
   "cell_type": "code",
   "execution_count": 1,
   "metadata": {},
   "outputs": [],
   "source": [
    "import pandas as pd\n",
    "import numpy as np\n",
    "import matplotlib.pyplot as plt\n",
    "from matplotlib.pyplot import figure\n",
    "from ipywidgets import widgets, interactive\n",
    "from io import StringIO\n"
   ]
  },
  {
   "cell_type": "markdown",
   "metadata": {},
   "source": [
    "## Scan of the results"
   ]
  },
  {
   "cell_type": "code",
   "execution_count": 123,
   "metadata": {},
   "outputs": [],
   "source": [
    "df = pd.read_csv(\"files/first_query.csv\", sep=\",\",names=[\"Year\",\"Week\",\"Count\"])"
   ]
  },
  {
   "cell_type": "markdown",
   "metadata": {},
   "source": [
    "## Function to create the plot"
   ]
  },
  {
   "cell_type": "code",
   "execution_count": 124,
   "metadata": {},
   "outputs": [],
   "source": [
    "# Make a dropdown to select the Year\n",
    "year = widgets.Dropdown(\n",
    "    options=list(df['Year'].unique()),\n",
    "    value=2012,\n",
    "    description='Year:',\n",
    ")\n",
    "def plot_first_query(year):\n",
    "    df2 = df.copy()\n",
    "    df2 = df2[df2.Year == year]\n",
    "    week = range(1,54)\n",
    "    count = list(df2['Count'])\n",
    "    mycount = [0]*53\n",
    "    i=0\n",
    "    for w in list(df2['Week']):\n",
    "        mycount[w-1] = count[i]\n",
    "        i = i+1\n",
    "    # Plot it (only if there's data to plot)\n",
    "    if len(df2) > 0:\n",
    "       \tfig = plt.figure(figsize=(18,6))\n",
    "        ax = fig.add_subplot(111)\n",
    "        plt.xlabel('Week')\n",
    "        ax.set_title(\"Results of the first query for year: \"+str(year))\n",
    "        plt.ylabel('N. Lethal Accidents')\n",
    "        plt.xticks(week)\n",
    "        plt.bar(week,mycount)\n",
    "        plt.show();\n",
    "    else:\n",
    "        print(\"No data to show for current selection\")"
   ]
  },
  {
   "cell_type": "code",
   "execution_count": 125,
   "metadata": {},
   "outputs": [
    {
     "data": {
      "application/vnd.jupyter.widget-view+json": {
       "model_id": "8d1553d3ab47432ba7e07b107b851c76",
       "version_major": 2,
       "version_minor": 0
      },
      "text/plain": [
       "interactive(children=(Dropdown(description='Year:', options=(2012, 2013, 2014, 2015, 2016, 2017), value=2012),…"
      ]
     },
     "metadata": {},
     "output_type": "display_data"
    }
   ],
   "source": [
    "interactive(plot_first_query,year=year)"
   ]
  },
  {
   "cell_type": "code",
   "execution_count": null,
   "metadata": {},
   "outputs": [],
   "source": []
  }
 ],
 "metadata": {
  "kernelspec": {
   "display_name": "Python 3",
   "language": "python",
   "name": "python3"
  },
  "language_info": {
   "codemirror_mode": {
    "name": "ipython",
    "version": 3
   },
   "file_extension": ".py",
   "mimetype": "text/x-python",
   "name": "python",
   "nbconvert_exporter": "python",
   "pygments_lexer": "ipython3",
   "version": "3.6.9"
  },
  "widgets": {
   "application/vnd.jupyter.widget-state+json": {
    "state": {
     "0255a426d5b94609917ff2c921ec2616": {
      "model_module": "@jupyter-widgets/controls",
      "model_module_version": "1.5.0",
      "model_name": "BoundedFloatTextModel",
      "state": {
       "description": "End Year:",
       "layout": "IPY_MODEL_93464385d55b4ca18392aed01ea312c6",
       "max": 2015,
       "min": 2012,
       "step": 1,
       "style": "IPY_MODEL_721a8436d7074bb9a59f18ad3797b14e",
       "value": 2015
      }
     },
     "026c7efa6e584a27a4c58474d6e820e8": {
      "model_module": "@jupyter-widgets/base",
      "model_module_version": "1.2.0",
      "model_name": "LayoutModel",
      "state": {}
     },
     "03f9d3e9102e428189cd37c155fe6306": {
      "model_module": "@jupyter-widgets/base",
      "model_module_version": "1.2.0",
      "model_name": "LayoutModel",
      "state": {}
     },
     "05700e67ca7f48569fd0563f6a9c28cf": {
      "model_module": "@jupyter-widgets/controls",
      "model_module_version": "1.5.0",
      "model_name": "DescriptionStyleModel",
      "state": {
       "description_width": ""
      }
     },
     "05741485791445afb4091620cfd4aa70": {
      "model_module": "@jupyter-widgets/controls",
      "model_module_version": "1.5.0",
      "model_name": "DescriptionStyleModel",
      "state": {
       "description_width": ""
      }
     },
     "0690803cdebd43439aea52a618bf8b47": {
      "model_module": "@jupyter-widgets/base",
      "model_module_version": "1.2.0",
      "model_name": "LayoutModel",
      "state": {}
     },
     "098c7241b7ee4adc8ca266b818d22a29": {
      "model_module": "@jupyter-widgets/controls",
      "model_module_version": "1.5.0",
      "model_name": "DropdownModel",
      "state": {
       "_options_labels": [
        "2012",
        "2013",
        "2014",
        "2015",
        "2016",
        "2017"
       ],
       "description": "Year:",
       "index": 0,
       "layout": "IPY_MODEL_5d62e07b2203414a9d7030ed98b9ac4b",
       "style": "IPY_MODEL_2fbaccdd886b404a8eb9db0148840347"
      }
     },
     "09ef3d51d20c47b3bdb863c4ec969193": {
      "model_module": "@jupyter-widgets/controls",
      "model_module_version": "1.5.0",
      "model_name": "DropdownModel",
      "state": {
       "_options_labels": [
        "2012",
        "2013",
        "2014",
        "2015",
        "2016",
        "2017"
       ],
       "description": "Year:",
       "index": 1,
       "layout": "IPY_MODEL_b21b78e5083d40c78ef058bdda419ba5",
       "style": "IPY_MODEL_f24b9f73d4a7405db8d4c00f4346aaa6"
      }
     },
     "0a0d57b9cbe94caeb41d1384c57c2b16": {
      "model_module": "@jupyter-widgets/base",
      "model_module_version": "1.2.0",
      "model_name": "LayoutModel",
      "state": {}
     },
     "0b20ab5078c94575b41a7f2d4884adb4": {
      "model_module": "@jupyter-widgets/controls",
      "model_module_version": "1.5.0",
      "model_name": "DropdownModel",
      "state": {
       "_options_labels": [
        "2012",
        "2013",
        "2014",
        "2015",
        "2016",
        "2017"
       ],
       "description": "Year:",
       "index": 4,
       "layout": "IPY_MODEL_ea401e7d11f844e0a090cdb6665d0f99",
       "style": "IPY_MODEL_05741485791445afb4091620cfd4aa70"
      }
     },
     "0c3b6311692f46599272133a845c1bcd": {
      "model_module": "@jupyter-widgets/base",
      "model_module_version": "1.2.0",
      "model_name": "LayoutModel",
      "state": {}
     },
     "0cf0fe05543f4c1aa4c939b7318619a1": {
      "model_module": "@jupyter-widgets/base",
      "model_module_version": "1.2.0",
      "model_name": "LayoutModel",
      "state": {}
     },
     "0e7fc8173f7c43308fec50c50e66e47c": {
      "model_module": "@jupyter-widgets/controls",
      "model_module_version": "1.5.0",
      "model_name": "DescriptionStyleModel",
      "state": {
       "description_width": ""
      }
     },
     "0f235fc9fc2d4929983a345d0d0defe6": {
      "model_module": "@jupyter-widgets/controls",
      "model_module_version": "1.5.0",
      "model_name": "BoundedFloatTextModel",
      "state": {
       "description": "End Year:",
       "layout": "IPY_MODEL_03f9d3e9102e428189cd37c155fe6306",
       "max": 2015,
       "min": 2012,
       "step": 1,
       "style": "IPY_MODEL_cc1509dd2e804c58b39be3b98a71cf70",
       "value": 2015
      }
     },
     "0f6b91d90f884fc6851c6e418daafe95": {
      "model_module": "@jupyter-widgets/controls",
      "model_module_version": "1.5.0",
      "model_name": "DescriptionStyleModel",
      "state": {
       "description_width": ""
      }
     },
     "0f8c557c5fff4d51ab7bc21bdbaa1d73": {
      "model_module": "@jupyter-widgets/output",
      "model_module_version": "1.0.0",
      "model_name": "OutputModel",
      "state": {
       "layout": "IPY_MODEL_c747893ca1a6462f8ea01ef9ad19b22e",
       "outputs": [
        {
         "data": {
          "image/png": "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\n",
          "text/plain": "<Figure size 432x288 with 1 Axes>"
         },
         "metadata": {
          "needs_background": "light"
         },
         "output_type": "display_data"
        }
       ]
      }
     },
     "12ccf580b7f348c2b3748ae459a41372": {
      "model_module": "@jupyter-widgets/output",
      "model_module_version": "1.0.0",
      "model_name": "OutputModel",
      "state": {
       "layout": "IPY_MODEL_2e2d282888a74ee19e7e4575efca2850",
       "outputs": [
        {
         "data": {
          "image/png": "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\n",
          "text/plain": "<Figure size 1296x432 with 1 Axes>"
         },
         "metadata": {
          "needs_background": "light"
         },
         "output_type": "display_data"
        }
       ]
      }
     },
     "1356d38ddba349e9b7cc835eea249515": {
      "model_module": "@jupyter-widgets/base",
      "model_module_version": "1.2.0",
      "model_name": "LayoutModel",
      "state": {}
     },
     "142c1171ca1b40e09173c9f307cf67d4": {
      "model_module": "@jupyter-widgets/base",
      "model_module_version": "1.2.0",
      "model_name": "LayoutModel",
      "state": {}
     },
     "1507c18fa28044caa66e44758ec4175e": {
      "model_module": "@jupyter-widgets/controls",
      "model_module_version": "1.5.0",
      "model_name": "VBoxModel",
      "state": {
       "_dom_classes": [
        "widget-interact"
       ],
       "children": [
        "IPY_MODEL_79ba040bb44d4444a45efbfaaed6d9e1",
        "IPY_MODEL_2717d5ddb6fa41a89606938c6eea5fa2"
       ],
       "layout": "IPY_MODEL_8261216acde0414e87179b591ec032b1"
      }
     },
     "15c1afef3d5b45a4ad47c1012ba9cf1c": {
      "model_module": "@jupyter-widgets/controls",
      "model_module_version": "1.5.0",
      "model_name": "DropdownModel",
      "state": {
       "_options_labels": [
        "2012",
        "2013",
        "2014",
        "2015",
        "2016",
        "2017"
       ],
       "description": "Year:",
       "index": 1,
       "layout": "IPY_MODEL_361ef5bb99f7456b8ce67779a2c8ea8c",
       "style": "IPY_MODEL_05700e67ca7f48569fd0563f6a9c28cf"
      }
     },
     "176560ef130a474383bc1183aa1197f4": {
      "model_module": "@jupyter-widgets/output",
      "model_module_version": "1.0.0",
      "model_name": "OutputModel",
      "state": {
       "layout": "IPY_MODEL_97a1356c719e4226a2c76a625eb7134d",
       "outputs": [
        {
         "ename": "ValueError",
         "evalue": "shape mismatch: objects cannot be broadcast to a single shape",
         "output_type": "error",
         "traceback": [
          "\u001b[0;31m---------------------------------------------------------------------------\u001b[0m",
          "\u001b[0;31mValueError\u001b[0m                                Traceback (most recent call last)",
          "\u001b[0;32m~/.local/lib/python3.6/site-packages/ipywidgets/widgets/interaction.py\u001b[0m in \u001b[0;36mupdate\u001b[0;34m(self, *args)\u001b[0m\n\u001b[1;32m    254\u001b[0m                     \u001b[0mvalue\u001b[0m \u001b[0;34m=\u001b[0m \u001b[0mwidget\u001b[0m\u001b[0;34m.\u001b[0m\u001b[0mget_interact_value\u001b[0m\u001b[0;34m(\u001b[0m\u001b[0;34m)\u001b[0m\u001b[0;34m\u001b[0m\u001b[0;34m\u001b[0m\u001b[0m\n\u001b[1;32m    255\u001b[0m                     \u001b[0mself\u001b[0m\u001b[0;34m.\u001b[0m\u001b[0mkwargs\u001b[0m\u001b[0;34m[\u001b[0m\u001b[0mwidget\u001b[0m\u001b[0;34m.\u001b[0m\u001b[0m_kwarg\u001b[0m\u001b[0;34m]\u001b[0m \u001b[0;34m=\u001b[0m \u001b[0mvalue\u001b[0m\u001b[0;34m\u001b[0m\u001b[0;34m\u001b[0m\u001b[0m\n\u001b[0;32m--> 256\u001b[0;31m                 \u001b[0mself\u001b[0m\u001b[0;34m.\u001b[0m\u001b[0mresult\u001b[0m \u001b[0;34m=\u001b[0m \u001b[0mself\u001b[0m\u001b[0;34m.\u001b[0m\u001b[0mf\u001b[0m\u001b[0;34m(\u001b[0m\u001b[0;34m**\u001b[0m\u001b[0mself\u001b[0m\u001b[0;34m.\u001b[0m\u001b[0mkwargs\u001b[0m\u001b[0;34m)\u001b[0m\u001b[0;34m\u001b[0m\u001b[0;34m\u001b[0m\u001b[0m\n\u001b[0m\u001b[1;32m    257\u001b[0m                 \u001b[0mshow_inline_matplotlib_plots\u001b[0m\u001b[0;34m(\u001b[0m\u001b[0;34m)\u001b[0m\u001b[0;34m\u001b[0m\u001b[0;34m\u001b[0m\u001b[0m\n\u001b[1;32m    258\u001b[0m                 \u001b[0;32mif\u001b[0m \u001b[0mself\u001b[0m\u001b[0;34m.\u001b[0m\u001b[0mauto_display\u001b[0m \u001b[0;32mand\u001b[0m \u001b[0mself\u001b[0m\u001b[0;34m.\u001b[0m\u001b[0mresult\u001b[0m \u001b[0;32mis\u001b[0m \u001b[0;32mnot\u001b[0m \u001b[0;32mNone\u001b[0m\u001b[0;34m:\u001b[0m\u001b[0;34m\u001b[0m\u001b[0;34m\u001b[0m\u001b[0m\n",
          "\u001b[0;32m<ipython-input-69-f1dfa86b7e5b>\u001b[0m in \u001b[0;36mplot_first_query\u001b[0;34m(year)\u001b[0m\n\u001b[1;32m     19\u001b[0m     \u001b[0;31m# Plot it (only if there's data to plot)\u001b[0m\u001b[0;34m\u001b[0m\u001b[0;34m\u001b[0m\u001b[0;34m\u001b[0m\u001b[0m\n\u001b[1;32m     20\u001b[0m     \u001b[0;32mif\u001b[0m \u001b[0mlen\u001b[0m\u001b[0;34m(\u001b[0m\u001b[0mdf2\u001b[0m\u001b[0;34m)\u001b[0m \u001b[0;34m>\u001b[0m \u001b[0;36m0\u001b[0m\u001b[0;34m:\u001b[0m\u001b[0;34m\u001b[0m\u001b[0;34m\u001b[0m\u001b[0m\n\u001b[0;32m---> 21\u001b[0;31m         \u001b[0mplt\u001b[0m\u001b[0;34m.\u001b[0m\u001b[0mbar\u001b[0m\u001b[0;34m(\u001b[0m\u001b[0mweek\u001b[0m\u001b[0;34m,\u001b[0m\u001b[0mmycount\u001b[0m\u001b[0;34m)\u001b[0m\u001b[0;34m\u001b[0m\u001b[0;34m\u001b[0m\u001b[0m\n\u001b[0m\u001b[1;32m     22\u001b[0m         \u001b[0mplt\u001b[0m\u001b[0;34m.\u001b[0m\u001b[0mshow\u001b[0m\u001b[0;34m(\u001b[0m\u001b[0;34m)\u001b[0m\u001b[0;34m;\u001b[0m\u001b[0;34m\u001b[0m\u001b[0;34m\u001b[0m\u001b[0m\n\u001b[1;32m     23\u001b[0m     \u001b[0;32melse\u001b[0m\u001b[0;34m:\u001b[0m\u001b[0;34m\u001b[0m\u001b[0;34m\u001b[0m\u001b[0m\n",
          "\u001b[0;32m~/.local/lib/python3.6/site-packages/matplotlib/pyplot.py\u001b[0m in \u001b[0;36mbar\u001b[0;34m(x, height, width, bottom, align, data, **kwargs)\u001b[0m\n\u001b[1;32m   2407\u001b[0m     return gca().bar(\n\u001b[1;32m   2408\u001b[0m         \u001b[0mx\u001b[0m\u001b[0;34m,\u001b[0m \u001b[0mheight\u001b[0m\u001b[0;34m,\u001b[0m \u001b[0mwidth\u001b[0m\u001b[0;34m=\u001b[0m\u001b[0mwidth\u001b[0m\u001b[0;34m,\u001b[0m \u001b[0mbottom\u001b[0m\u001b[0;34m=\u001b[0m\u001b[0mbottom\u001b[0m\u001b[0;34m,\u001b[0m \u001b[0malign\u001b[0m\u001b[0;34m=\u001b[0m\u001b[0malign\u001b[0m\u001b[0;34m,\u001b[0m\u001b[0;34m\u001b[0m\u001b[0;34m\u001b[0m\u001b[0m\n\u001b[0;32m-> 2409\u001b[0;31m         **({\"data\": data} if data is not None else {}), **kwargs)\n\u001b[0m\u001b[1;32m   2410\u001b[0m \u001b[0;34m\u001b[0m\u001b[0m\n\u001b[1;32m   2411\u001b[0m \u001b[0;34m\u001b[0m\u001b[0m\n",
          "\u001b[0;32m~/.local/lib/python3.6/site-packages/matplotlib/__init__.py\u001b[0m in \u001b[0;36minner\u001b[0;34m(ax, data, *args, **kwargs)\u001b[0m\n\u001b[1;32m   1563\u001b[0m     \u001b[0;32mdef\u001b[0m \u001b[0minner\u001b[0m\u001b[0;34m(\u001b[0m\u001b[0max\u001b[0m\u001b[0;34m,\u001b[0m \u001b[0;34m*\u001b[0m\u001b[0margs\u001b[0m\u001b[0;34m,\u001b[0m \u001b[0mdata\u001b[0m\u001b[0;34m=\u001b[0m\u001b[0;32mNone\u001b[0m\u001b[0;34m,\u001b[0m \u001b[0;34m**\u001b[0m\u001b[0mkwargs\u001b[0m\u001b[0;34m)\u001b[0m\u001b[0;34m:\u001b[0m\u001b[0;34m\u001b[0m\u001b[0;34m\u001b[0m\u001b[0m\n\u001b[1;32m   1564\u001b[0m         \u001b[0;32mif\u001b[0m \u001b[0mdata\u001b[0m \u001b[0;32mis\u001b[0m \u001b[0;32mNone\u001b[0m\u001b[0;34m:\u001b[0m\u001b[0;34m\u001b[0m\u001b[0;34m\u001b[0m\u001b[0m\n\u001b[0;32m-> 1565\u001b[0;31m             \u001b[0;32mreturn\u001b[0m \u001b[0mfunc\u001b[0m\u001b[0;34m(\u001b[0m\u001b[0max\u001b[0m\u001b[0;34m,\u001b[0m \u001b[0;34m*\u001b[0m\u001b[0mmap\u001b[0m\u001b[0;34m(\u001b[0m\u001b[0msanitize_sequence\u001b[0m\u001b[0;34m,\u001b[0m \u001b[0margs\u001b[0m\u001b[0;34m)\u001b[0m\u001b[0;34m,\u001b[0m \u001b[0;34m**\u001b[0m\u001b[0mkwargs\u001b[0m\u001b[0;34m)\u001b[0m\u001b[0;34m\u001b[0m\u001b[0;34m\u001b[0m\u001b[0m\n\u001b[0m\u001b[1;32m   1566\u001b[0m \u001b[0;34m\u001b[0m\u001b[0m\n\u001b[1;32m   1567\u001b[0m         \u001b[0mbound\u001b[0m \u001b[0;34m=\u001b[0m \u001b[0mnew_sig\u001b[0m\u001b[0;34m.\u001b[0m\u001b[0mbind\u001b[0m\u001b[0;34m(\u001b[0m\u001b[0max\u001b[0m\u001b[0;34m,\u001b[0m \u001b[0;34m*\u001b[0m\u001b[0margs\u001b[0m\u001b[0;34m,\u001b[0m \u001b[0;34m**\u001b[0m\u001b[0mkwargs\u001b[0m\u001b[0;34m)\u001b[0m\u001b[0;34m\u001b[0m\u001b[0;34m\u001b[0m\u001b[0m\n",
          "\u001b[0;32m~/.local/lib/python3.6/site-packages/matplotlib/axes/_axes.py\u001b[0m in \u001b[0;36mbar\u001b[0;34m(self, x, height, width, bottom, align, **kwargs)\u001b[0m\n\u001b[1;32m   2339\u001b[0m         x, height, width, y, linewidth = np.broadcast_arrays(\n\u001b[1;32m   2340\u001b[0m             \u001b[0;31m# Make args iterable too.\u001b[0m\u001b[0;34m\u001b[0m\u001b[0;34m\u001b[0m\u001b[0;34m\u001b[0m\u001b[0m\n\u001b[0;32m-> 2341\u001b[0;31m             np.atleast_1d(x), height, width, y, linewidth)\n\u001b[0m\u001b[1;32m   2342\u001b[0m \u001b[0;34m\u001b[0m\u001b[0m\n\u001b[1;32m   2343\u001b[0m         \u001b[0;31m# Now that units have been converted, set the tick locations.\u001b[0m\u001b[0;34m\u001b[0m\u001b[0;34m\u001b[0m\u001b[0;34m\u001b[0m\u001b[0m\n",
          "\u001b[0;32m<__array_function__ internals>\u001b[0m in \u001b[0;36mbroadcast_arrays\u001b[0;34m(*args, **kwargs)\u001b[0m\n",
          "\u001b[0;32m~/.local/lib/python3.6/site-packages/numpy/lib/stride_tricks.py\u001b[0m in \u001b[0;36mbroadcast_arrays\u001b[0;34m(*args, **kwargs)\u001b[0m\n\u001b[1;32m    262\u001b[0m     \u001b[0margs\u001b[0m \u001b[0;34m=\u001b[0m \u001b[0;34m[\u001b[0m\u001b[0mnp\u001b[0m\u001b[0;34m.\u001b[0m\u001b[0marray\u001b[0m\u001b[0;34m(\u001b[0m\u001b[0m_m\u001b[0m\u001b[0;34m,\u001b[0m \u001b[0mcopy\u001b[0m\u001b[0;34m=\u001b[0m\u001b[0;32mFalse\u001b[0m\u001b[0;34m,\u001b[0m \u001b[0msubok\u001b[0m\u001b[0;34m=\u001b[0m\u001b[0msubok\u001b[0m\u001b[0;34m)\u001b[0m \u001b[0;32mfor\u001b[0m \u001b[0m_m\u001b[0m \u001b[0;32min\u001b[0m \u001b[0margs\u001b[0m\u001b[0;34m]\u001b[0m\u001b[0;34m\u001b[0m\u001b[0;34m\u001b[0m\u001b[0m\n\u001b[1;32m    263\u001b[0m \u001b[0;34m\u001b[0m\u001b[0m\n\u001b[0;32m--> 264\u001b[0;31m     \u001b[0mshape\u001b[0m \u001b[0;34m=\u001b[0m \u001b[0m_broadcast_shape\u001b[0m\u001b[0;34m(\u001b[0m\u001b[0;34m*\u001b[0m\u001b[0margs\u001b[0m\u001b[0;34m)\u001b[0m\u001b[0;34m\u001b[0m\u001b[0;34m\u001b[0m\u001b[0m\n\u001b[0m\u001b[1;32m    265\u001b[0m \u001b[0;34m\u001b[0m\u001b[0m\n\u001b[1;32m    266\u001b[0m     \u001b[0;32mif\u001b[0m \u001b[0mall\u001b[0m\u001b[0;34m(\u001b[0m\u001b[0marray\u001b[0m\u001b[0;34m.\u001b[0m\u001b[0mshape\u001b[0m \u001b[0;34m==\u001b[0m \u001b[0mshape\u001b[0m \u001b[0;32mfor\u001b[0m \u001b[0marray\u001b[0m \u001b[0;32min\u001b[0m \u001b[0margs\u001b[0m\u001b[0;34m)\u001b[0m\u001b[0;34m:\u001b[0m\u001b[0;34m\u001b[0m\u001b[0;34m\u001b[0m\u001b[0m\n",
          "\u001b[0;32m~/.local/lib/python3.6/site-packages/numpy/lib/stride_tricks.py\u001b[0m in \u001b[0;36m_broadcast_shape\u001b[0;34m(*args)\u001b[0m\n\u001b[1;32m    189\u001b[0m     \u001b[0;31m# use the old-iterator because np.nditer does not handle size 0 arrays\u001b[0m\u001b[0;34m\u001b[0m\u001b[0;34m\u001b[0m\u001b[0;34m\u001b[0m\u001b[0m\n\u001b[1;32m    190\u001b[0m     \u001b[0;31m# consistently\u001b[0m\u001b[0;34m\u001b[0m\u001b[0;34m\u001b[0m\u001b[0;34m\u001b[0m\u001b[0m\n\u001b[0;32m--> 191\u001b[0;31m     \u001b[0mb\u001b[0m \u001b[0;34m=\u001b[0m \u001b[0mnp\u001b[0m\u001b[0;34m.\u001b[0m\u001b[0mbroadcast\u001b[0m\u001b[0;34m(\u001b[0m\u001b[0;34m*\u001b[0m\u001b[0margs\u001b[0m\u001b[0;34m[\u001b[0m\u001b[0;34m:\u001b[0m\u001b[0;36m32\u001b[0m\u001b[0;34m]\u001b[0m\u001b[0;34m)\u001b[0m\u001b[0;34m\u001b[0m\u001b[0;34m\u001b[0m\u001b[0m\n\u001b[0m\u001b[1;32m    192\u001b[0m     \u001b[0;31m# unfortunately, it cannot handle 32 or more arguments directly\u001b[0m\u001b[0;34m\u001b[0m\u001b[0;34m\u001b[0m\u001b[0;34m\u001b[0m\u001b[0m\n\u001b[1;32m    193\u001b[0m     \u001b[0;32mfor\u001b[0m \u001b[0mpos\u001b[0m \u001b[0;32min\u001b[0m \u001b[0mrange\u001b[0m\u001b[0;34m(\u001b[0m\u001b[0;36m32\u001b[0m\u001b[0;34m,\u001b[0m \u001b[0mlen\u001b[0m\u001b[0;34m(\u001b[0m\u001b[0margs\u001b[0m\u001b[0;34m)\u001b[0m\u001b[0;34m,\u001b[0m \u001b[0;36m31\u001b[0m\u001b[0;34m)\u001b[0m\u001b[0;34m:\u001b[0m\u001b[0;34m\u001b[0m\u001b[0;34m\u001b[0m\u001b[0m\n",
          "\u001b[0;31mValueError\u001b[0m: shape mismatch: objects cannot be broadcast to a single shape"
         ]
        }
       ]
      }
     },
     "1977cbcf9f1c4e2c8ad1e405900e71f9": {
      "model_module": "@jupyter-widgets/base",
      "model_module_version": "1.2.0",
      "model_name": "LayoutModel",
      "state": {}
     },
     "1a00c95ec7834b0b84d62d2bb460aa43": {
      "model_module": "@jupyter-widgets/controls",
      "model_module_version": "1.5.0",
      "model_name": "VBoxModel",
      "state": {
       "_dom_classes": [
        "widget-interact"
       ],
       "children": [
        "IPY_MODEL_2878b034a325400da6854e07ca6ded82",
        "IPY_MODEL_176560ef130a474383bc1183aa1197f4"
       ],
       "layout": "IPY_MODEL_ca419d405b71472d9c5c7356102ce819"
      }
     },
     "1ae3b71456204ca1b63a640aaa18b37e": {
      "model_module": "@jupyter-widgets/controls",
      "model_module_version": "1.5.0",
      "model_name": "DropdownModel",
      "state": {
       "_options_labels": [
        "All",
        "Dhaka",
        "Khulna"
       ],
       "description": "Area:",
       "index": 0,
       "layout": "IPY_MODEL_558905a87d774d1ca92116ca312a2a94",
       "style": "IPY_MODEL_97ecfa09a2e54ef999373238f44dd4f7"
      }
     },
     "1b7919a65b6c4bfdbd170c2111009c86": {
      "model_module": "@jupyter-widgets/base",
      "model_module_version": "1.2.0",
      "model_name": "LayoutModel",
      "state": {}
     },
     "1e769cb5a6c4459db5bc13bb9e9df1cf": {
      "model_module": "@jupyter-widgets/controls",
      "model_module_version": "1.5.0",
      "model_name": "DropdownModel",
      "state": {
       "_options_labels": [
        "2012",
        "2013",
        "2014",
        "2015",
        "2016",
        "2017"
       ],
       "description": "Year:",
       "index": 0,
       "layout": "IPY_MODEL_a056947197484a478f4cef94388779f6",
       "style": "IPY_MODEL_e810401d749f48858628b641e572df8f"
      }
     },
     "1ecd5fd7a7424cf8818ba29d41370d5d": {
      "model_module": "@jupyter-widgets/base",
      "model_module_version": "1.2.0",
      "model_name": "LayoutModel",
      "state": {}
     },
     "1f3be21afc0e4aeb99b8d0a041efe7f0": {
      "model_module": "@jupyter-widgets/controls",
      "model_module_version": "1.5.0",
      "model_name": "DescriptionStyleModel",
      "state": {
       "description_width": ""
      }
     },
     "1fa4c1e03a494d749c18ce7e647e52b6": {
      "model_module": "@jupyter-widgets/controls",
      "model_module_version": "1.5.0",
      "model_name": "VBoxModel",
      "state": {
       "_dom_classes": [
        "widget-interact"
       ],
       "children": [
        "IPY_MODEL_7fac0928780a46d195ed6fd8bb506684",
        "IPY_MODEL_2aa739be9d4f4c64a8ceddad1cac5136"
       ],
       "layout": "IPY_MODEL_a82925266b074ec593d36afa2aee2265"
      }
     },
     "236b986f98eb4a029b1411b9a1f67960": {
      "model_module": "@jupyter-widgets/output",
      "model_module_version": "1.0.0",
      "model_name": "OutputModel",
      "state": {
       "layout": "IPY_MODEL_b2a39bcea0924d618472b5d68ee3d653",
       "outputs": [
        {
         "data": {
          "image/png": "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\n",
          "text/plain": "<Figure size 432x288 with 1 Axes>"
         },
         "metadata": {
          "needs_background": "light"
         },
         "output_type": "display_data"
        }
       ]
      }
     },
     "23db743892844944be73a15b3aced133": {
      "model_module": "@jupyter-widgets/base",
      "model_module_version": "1.2.0",
      "model_name": "LayoutModel",
      "state": {}
     },
     "24b4c04e80a84e7ca078987b52fcc621": {
      "model_module": "@jupyter-widgets/controls",
      "model_module_version": "1.5.0",
      "model_name": "DescriptionStyleModel",
      "state": {
       "description_width": ""
      }
     },
     "26cf67cd027441ea97f784e46c35100d": {
      "model_module": "@jupyter-widgets/controls",
      "model_module_version": "1.5.0",
      "model_name": "DescriptionStyleModel",
      "state": {
       "description_width": ""
      }
     },
     "2717d5ddb6fa41a89606938c6eea5fa2": {
      "model_module": "@jupyter-widgets/output",
      "model_module_version": "1.0.0",
      "model_name": "OutputModel",
      "state": {
       "layout": "IPY_MODEL_f50e043876c24b3cbd8f2ba269ed6a44",
       "outputs": [
        {
         "ename": "ValueError",
         "evalue": "shape mismatch: objects cannot be broadcast to a single shape",
         "output_type": "error",
         "traceback": [
          "\u001b[0;31m---------------------------------------------------------------------------\u001b[0m",
          "\u001b[0;31mValueError\u001b[0m                                Traceback (most recent call last)",
          "\u001b[0;32m~/.local/lib/python3.6/site-packages/ipywidgets/widgets/interaction.py\u001b[0m in \u001b[0;36mupdate\u001b[0;34m(self, *args)\u001b[0m\n\u001b[1;32m    254\u001b[0m                     \u001b[0mvalue\u001b[0m \u001b[0;34m=\u001b[0m \u001b[0mwidget\u001b[0m\u001b[0;34m.\u001b[0m\u001b[0mget_interact_value\u001b[0m\u001b[0;34m(\u001b[0m\u001b[0;34m)\u001b[0m\u001b[0;34m\u001b[0m\u001b[0;34m\u001b[0m\u001b[0m\n\u001b[1;32m    255\u001b[0m                     \u001b[0mself\u001b[0m\u001b[0;34m.\u001b[0m\u001b[0mkwargs\u001b[0m\u001b[0;34m[\u001b[0m\u001b[0mwidget\u001b[0m\u001b[0;34m.\u001b[0m\u001b[0m_kwarg\u001b[0m\u001b[0;34m]\u001b[0m \u001b[0;34m=\u001b[0m \u001b[0mvalue\u001b[0m\u001b[0;34m\u001b[0m\u001b[0;34m\u001b[0m\u001b[0m\n\u001b[0;32m--> 256\u001b[0;31m                 \u001b[0mself\u001b[0m\u001b[0;34m.\u001b[0m\u001b[0mresult\u001b[0m \u001b[0;34m=\u001b[0m \u001b[0mself\u001b[0m\u001b[0;34m.\u001b[0m\u001b[0mf\u001b[0m\u001b[0;34m(\u001b[0m\u001b[0;34m**\u001b[0m\u001b[0mself\u001b[0m\u001b[0;34m.\u001b[0m\u001b[0mkwargs\u001b[0m\u001b[0;34m)\u001b[0m\u001b[0;34m\u001b[0m\u001b[0;34m\u001b[0m\u001b[0m\n\u001b[0m\u001b[1;32m    257\u001b[0m                 \u001b[0mshow_inline_matplotlib_plots\u001b[0m\u001b[0;34m(\u001b[0m\u001b[0;34m)\u001b[0m\u001b[0;34m\u001b[0m\u001b[0;34m\u001b[0m\u001b[0m\n\u001b[1;32m    258\u001b[0m                 \u001b[0;32mif\u001b[0m \u001b[0mself\u001b[0m\u001b[0;34m.\u001b[0m\u001b[0mauto_display\u001b[0m \u001b[0;32mand\u001b[0m \u001b[0mself\u001b[0m\u001b[0;34m.\u001b[0m\u001b[0mresult\u001b[0m \u001b[0;32mis\u001b[0m \u001b[0;32mnot\u001b[0m \u001b[0;32mNone\u001b[0m\u001b[0;34m:\u001b[0m\u001b[0;34m\u001b[0m\u001b[0;34m\u001b[0m\u001b[0m\n",
          "\u001b[0;32m<ipython-input-73-f1c73589ea52>\u001b[0m in \u001b[0;36mplot_first_query\u001b[0;34m(year)\u001b[0m\n\u001b[1;32m     18\u001b[0m     \u001b[0;31m# Plot it (only if there's data to plot)\u001b[0m\u001b[0;34m\u001b[0m\u001b[0;34m\u001b[0m\u001b[0;34m\u001b[0m\u001b[0m\n\u001b[1;32m     19\u001b[0m     \u001b[0;32mif\u001b[0m \u001b[0mlen\u001b[0m\u001b[0;34m(\u001b[0m\u001b[0mdf2\u001b[0m\u001b[0;34m)\u001b[0m \u001b[0;34m>\u001b[0m \u001b[0;36m0\u001b[0m\u001b[0;34m:\u001b[0m\u001b[0;34m\u001b[0m\u001b[0;34m\u001b[0m\u001b[0m\n\u001b[0;32m---> 20\u001b[0;31m         \u001b[0mplt\u001b[0m\u001b[0;34m.\u001b[0m\u001b[0mbar\u001b[0m\u001b[0;34m(\u001b[0m\u001b[0mweek\u001b[0m\u001b[0;34m,\u001b[0m\u001b[0mmycount\u001b[0m\u001b[0;34m)\u001b[0m\u001b[0;34m\u001b[0m\u001b[0;34m\u001b[0m\u001b[0m\n\u001b[0m\u001b[1;32m     21\u001b[0m         \u001b[0mplt\u001b[0m\u001b[0;34m.\u001b[0m\u001b[0mshow\u001b[0m\u001b[0;34m(\u001b[0m\u001b[0;34m)\u001b[0m\u001b[0;34m;\u001b[0m\u001b[0;34m\u001b[0m\u001b[0;34m\u001b[0m\u001b[0m\n\u001b[1;32m     22\u001b[0m     \u001b[0;32melse\u001b[0m\u001b[0;34m:\u001b[0m\u001b[0;34m\u001b[0m\u001b[0;34m\u001b[0m\u001b[0m\n",
          "\u001b[0;32m~/.local/lib/python3.6/site-packages/matplotlib/pyplot.py\u001b[0m in \u001b[0;36mbar\u001b[0;34m(x, height, width, bottom, align, data, **kwargs)\u001b[0m\n\u001b[1;32m   2407\u001b[0m     return gca().bar(\n\u001b[1;32m   2408\u001b[0m         \u001b[0mx\u001b[0m\u001b[0;34m,\u001b[0m \u001b[0mheight\u001b[0m\u001b[0;34m,\u001b[0m \u001b[0mwidth\u001b[0m\u001b[0;34m=\u001b[0m\u001b[0mwidth\u001b[0m\u001b[0;34m,\u001b[0m \u001b[0mbottom\u001b[0m\u001b[0;34m=\u001b[0m\u001b[0mbottom\u001b[0m\u001b[0;34m,\u001b[0m \u001b[0malign\u001b[0m\u001b[0;34m=\u001b[0m\u001b[0malign\u001b[0m\u001b[0;34m,\u001b[0m\u001b[0;34m\u001b[0m\u001b[0;34m\u001b[0m\u001b[0m\n\u001b[0;32m-> 2409\u001b[0;31m         **({\"data\": data} if data is not None else {}), **kwargs)\n\u001b[0m\u001b[1;32m   2410\u001b[0m \u001b[0;34m\u001b[0m\u001b[0m\n\u001b[1;32m   2411\u001b[0m \u001b[0;34m\u001b[0m\u001b[0m\n",
          "\u001b[0;32m~/.local/lib/python3.6/site-packages/matplotlib/__init__.py\u001b[0m in \u001b[0;36minner\u001b[0;34m(ax, data, *args, **kwargs)\u001b[0m\n\u001b[1;32m   1563\u001b[0m     \u001b[0;32mdef\u001b[0m \u001b[0minner\u001b[0m\u001b[0;34m(\u001b[0m\u001b[0max\u001b[0m\u001b[0;34m,\u001b[0m \u001b[0;34m*\u001b[0m\u001b[0margs\u001b[0m\u001b[0;34m,\u001b[0m \u001b[0mdata\u001b[0m\u001b[0;34m=\u001b[0m\u001b[0;32mNone\u001b[0m\u001b[0;34m,\u001b[0m \u001b[0;34m**\u001b[0m\u001b[0mkwargs\u001b[0m\u001b[0;34m)\u001b[0m\u001b[0;34m:\u001b[0m\u001b[0;34m\u001b[0m\u001b[0;34m\u001b[0m\u001b[0m\n\u001b[1;32m   1564\u001b[0m         \u001b[0;32mif\u001b[0m \u001b[0mdata\u001b[0m \u001b[0;32mis\u001b[0m \u001b[0;32mNone\u001b[0m\u001b[0;34m:\u001b[0m\u001b[0;34m\u001b[0m\u001b[0;34m\u001b[0m\u001b[0m\n\u001b[0;32m-> 1565\u001b[0;31m             \u001b[0;32mreturn\u001b[0m \u001b[0mfunc\u001b[0m\u001b[0;34m(\u001b[0m\u001b[0max\u001b[0m\u001b[0;34m,\u001b[0m \u001b[0;34m*\u001b[0m\u001b[0mmap\u001b[0m\u001b[0;34m(\u001b[0m\u001b[0msanitize_sequence\u001b[0m\u001b[0;34m,\u001b[0m \u001b[0margs\u001b[0m\u001b[0;34m)\u001b[0m\u001b[0;34m,\u001b[0m \u001b[0;34m**\u001b[0m\u001b[0mkwargs\u001b[0m\u001b[0;34m)\u001b[0m\u001b[0;34m\u001b[0m\u001b[0;34m\u001b[0m\u001b[0m\n\u001b[0m\u001b[1;32m   1566\u001b[0m \u001b[0;34m\u001b[0m\u001b[0m\n\u001b[1;32m   1567\u001b[0m         \u001b[0mbound\u001b[0m \u001b[0;34m=\u001b[0m \u001b[0mnew_sig\u001b[0m\u001b[0;34m.\u001b[0m\u001b[0mbind\u001b[0m\u001b[0;34m(\u001b[0m\u001b[0max\u001b[0m\u001b[0;34m,\u001b[0m \u001b[0;34m*\u001b[0m\u001b[0margs\u001b[0m\u001b[0;34m,\u001b[0m \u001b[0;34m**\u001b[0m\u001b[0mkwargs\u001b[0m\u001b[0;34m)\u001b[0m\u001b[0;34m\u001b[0m\u001b[0;34m\u001b[0m\u001b[0m\n",
          "\u001b[0;32m~/.local/lib/python3.6/site-packages/matplotlib/axes/_axes.py\u001b[0m in \u001b[0;36mbar\u001b[0;34m(self, x, height, width, bottom, align, **kwargs)\u001b[0m\n\u001b[1;32m   2339\u001b[0m         x, height, width, y, linewidth = np.broadcast_arrays(\n\u001b[1;32m   2340\u001b[0m             \u001b[0;31m# Make args iterable too.\u001b[0m\u001b[0;34m\u001b[0m\u001b[0;34m\u001b[0m\u001b[0;34m\u001b[0m\u001b[0m\n\u001b[0;32m-> 2341\u001b[0;31m             np.atleast_1d(x), height, width, y, linewidth)\n\u001b[0m\u001b[1;32m   2342\u001b[0m \u001b[0;34m\u001b[0m\u001b[0m\n\u001b[1;32m   2343\u001b[0m         \u001b[0;31m# Now that units have been converted, set the tick locations.\u001b[0m\u001b[0;34m\u001b[0m\u001b[0;34m\u001b[0m\u001b[0;34m\u001b[0m\u001b[0m\n",
          "\u001b[0;32m<__array_function__ internals>\u001b[0m in \u001b[0;36mbroadcast_arrays\u001b[0;34m(*args, **kwargs)\u001b[0m\n",
          "\u001b[0;32m~/.local/lib/python3.6/site-packages/numpy/lib/stride_tricks.py\u001b[0m in \u001b[0;36mbroadcast_arrays\u001b[0;34m(*args, **kwargs)\u001b[0m\n\u001b[1;32m    262\u001b[0m     \u001b[0margs\u001b[0m \u001b[0;34m=\u001b[0m \u001b[0;34m[\u001b[0m\u001b[0mnp\u001b[0m\u001b[0;34m.\u001b[0m\u001b[0marray\u001b[0m\u001b[0;34m(\u001b[0m\u001b[0m_m\u001b[0m\u001b[0;34m,\u001b[0m \u001b[0mcopy\u001b[0m\u001b[0;34m=\u001b[0m\u001b[0;32mFalse\u001b[0m\u001b[0;34m,\u001b[0m \u001b[0msubok\u001b[0m\u001b[0;34m=\u001b[0m\u001b[0msubok\u001b[0m\u001b[0;34m)\u001b[0m \u001b[0;32mfor\u001b[0m \u001b[0m_m\u001b[0m \u001b[0;32min\u001b[0m \u001b[0margs\u001b[0m\u001b[0;34m]\u001b[0m\u001b[0;34m\u001b[0m\u001b[0;34m\u001b[0m\u001b[0m\n\u001b[1;32m    263\u001b[0m \u001b[0;34m\u001b[0m\u001b[0m\n\u001b[0;32m--> 264\u001b[0;31m     \u001b[0mshape\u001b[0m \u001b[0;34m=\u001b[0m \u001b[0m_broadcast_shape\u001b[0m\u001b[0;34m(\u001b[0m\u001b[0;34m*\u001b[0m\u001b[0margs\u001b[0m\u001b[0;34m)\u001b[0m\u001b[0;34m\u001b[0m\u001b[0;34m\u001b[0m\u001b[0m\n\u001b[0m\u001b[1;32m    265\u001b[0m \u001b[0;34m\u001b[0m\u001b[0m\n\u001b[1;32m    266\u001b[0m     \u001b[0;32mif\u001b[0m \u001b[0mall\u001b[0m\u001b[0;34m(\u001b[0m\u001b[0marray\u001b[0m\u001b[0;34m.\u001b[0m\u001b[0mshape\u001b[0m \u001b[0;34m==\u001b[0m \u001b[0mshape\u001b[0m \u001b[0;32mfor\u001b[0m \u001b[0marray\u001b[0m \u001b[0;32min\u001b[0m \u001b[0margs\u001b[0m\u001b[0;34m)\u001b[0m\u001b[0;34m:\u001b[0m\u001b[0;34m\u001b[0m\u001b[0;34m\u001b[0m\u001b[0m\n",
          "\u001b[0;32m~/.local/lib/python3.6/site-packages/numpy/lib/stride_tricks.py\u001b[0m in \u001b[0;36m_broadcast_shape\u001b[0;34m(*args)\u001b[0m\n\u001b[1;32m    189\u001b[0m     \u001b[0;31m# use the old-iterator because np.nditer does not handle size 0 arrays\u001b[0m\u001b[0;34m\u001b[0m\u001b[0;34m\u001b[0m\u001b[0;34m\u001b[0m\u001b[0m\n\u001b[1;32m    190\u001b[0m     \u001b[0;31m# consistently\u001b[0m\u001b[0;34m\u001b[0m\u001b[0;34m\u001b[0m\u001b[0;34m\u001b[0m\u001b[0m\n\u001b[0;32m--> 191\u001b[0;31m     \u001b[0mb\u001b[0m \u001b[0;34m=\u001b[0m \u001b[0mnp\u001b[0m\u001b[0;34m.\u001b[0m\u001b[0mbroadcast\u001b[0m\u001b[0;34m(\u001b[0m\u001b[0;34m*\u001b[0m\u001b[0margs\u001b[0m\u001b[0;34m[\u001b[0m\u001b[0;34m:\u001b[0m\u001b[0;36m32\u001b[0m\u001b[0;34m]\u001b[0m\u001b[0;34m)\u001b[0m\u001b[0;34m\u001b[0m\u001b[0;34m\u001b[0m\u001b[0m\n\u001b[0m\u001b[1;32m    192\u001b[0m     \u001b[0;31m# unfortunately, it cannot handle 32 or more arguments directly\u001b[0m\u001b[0;34m\u001b[0m\u001b[0;34m\u001b[0m\u001b[0;34m\u001b[0m\u001b[0m\n\u001b[1;32m    193\u001b[0m     \u001b[0;32mfor\u001b[0m \u001b[0mpos\u001b[0m \u001b[0;32min\u001b[0m \u001b[0mrange\u001b[0m\u001b[0;34m(\u001b[0m\u001b[0;36m32\u001b[0m\u001b[0;34m,\u001b[0m \u001b[0mlen\u001b[0m\u001b[0;34m(\u001b[0m\u001b[0margs\u001b[0m\u001b[0;34m)\u001b[0m\u001b[0;34m,\u001b[0m \u001b[0;36m31\u001b[0m\u001b[0;34m)\u001b[0m\u001b[0;34m:\u001b[0m\u001b[0;34m\u001b[0m\u001b[0;34m\u001b[0m\u001b[0m\n",
          "\u001b[0;31mValueError\u001b[0m: shape mismatch: objects cannot be broadcast to a single shape"
         ]
        }
       ]
      }
     },
     "273b47c282474656936247cb8e2efbbe": {
      "model_module": "@jupyter-widgets/controls",
      "model_module_version": "1.5.0",
      "model_name": "DescriptionStyleModel",
      "state": {
       "description_width": ""
      }
     },
     "2878b034a325400da6854e07ca6ded82": {
      "model_module": "@jupyter-widgets/controls",
      "model_module_version": "1.5.0",
      "model_name": "DropdownModel",
      "state": {
       "_options_labels": [
        "2012",
        "2013",
        "2014",
        "2015",
        "2016",
        "2017"
       ],
       "description": "Year:",
       "index": 0,
       "layout": "IPY_MODEL_1ecd5fd7a7424cf8818ba29d41370d5d",
       "style": "IPY_MODEL_26cf67cd027441ea97f784e46c35100d"
      }
     },
     "2aa739be9d4f4c64a8ceddad1cac5136": {
      "model_module": "@jupyter-widgets/output",
      "model_module_version": "1.0.0",
      "model_name": "OutputModel",
      "state": {
       "layout": "IPY_MODEL_c2b3f2d16abf448bb8dc3104611fa055",
       "outputs": [
        {
         "data": {
          "image/png": "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\n",
          "text/plain": "<Figure size 1296x432 with 1 Axes>"
         },
         "metadata": {
          "needs_background": "light"
         },
         "output_type": "display_data"
        }
       ]
      }
     },
     "2b27492b9468429c960d7c804ed7c8f0": {
      "model_module": "@jupyter-widgets/controls",
      "model_module_version": "1.5.0",
      "model_name": "DropdownModel",
      "state": {
       "_options_labels": [
        "2012",
        "2013",
        "2014",
        "2015",
        "2016",
        "2017"
       ],
       "description": "Year:",
       "index": 0,
       "layout": "IPY_MODEL_fd3abaad5d9b4da5a16edd8daec4aeaf",
       "style": "IPY_MODEL_8ea6092ff2af401fbcfbdcfc1631ef9e"
      }
     },
     "2dcd73bb804e40dda63dec6b0039d9a0": {
      "model_module": "@jupyter-widgets/controls",
      "model_module_version": "1.5.0",
      "model_name": "DescriptionStyleModel",
      "state": {
       "description_width": ""
      }
     },
     "2e0440342d53425d84745d9ba48096a4": {
      "model_module": "@jupyter-widgets/controls",
      "model_module_version": "1.5.0",
      "model_name": "DropdownModel",
      "state": {
       "_options_labels": [
        "2012",
        "2013",
        "2014",
        "2015",
        "2016",
        "2017"
       ],
       "description": "Year:",
       "index": 0,
       "layout": "IPY_MODEL_548db7104ccc4952a125a4a6244194d5",
       "style": "IPY_MODEL_b527359cd6ab4af9879dbf5e34fa2751"
      }
     },
     "2e2d282888a74ee19e7e4575efca2850": {
      "model_module": "@jupyter-widgets/base",
      "model_module_version": "1.2.0",
      "model_name": "LayoutModel",
      "state": {}
     },
     "2f4da8fb473544859019bcfb00140231": {
      "model_module": "@jupyter-widgets/output",
      "model_module_version": "1.0.0",
      "model_name": "OutputModel",
      "state": {
       "layout": "IPY_MODEL_f6f0519bfca04f5eb425b803fe125321",
       "outputs": [
        {
         "ename": "ValueError",
         "evalue": "shape mismatch: objects cannot be broadcast to a single shape",
         "output_type": "error",
         "traceback": [
          "\u001b[0;31m---------------------------------------------------------------------------\u001b[0m",
          "\u001b[0;31mValueError\u001b[0m                                Traceback (most recent call last)",
          "\u001b[0;32m~/.local/lib/python3.6/site-packages/ipywidgets/widgets/interaction.py\u001b[0m in \u001b[0;36mupdate\u001b[0;34m(self, *args)\u001b[0m\n\u001b[1;32m    254\u001b[0m                     \u001b[0mvalue\u001b[0m \u001b[0;34m=\u001b[0m \u001b[0mwidget\u001b[0m\u001b[0;34m.\u001b[0m\u001b[0mget_interact_value\u001b[0m\u001b[0;34m(\u001b[0m\u001b[0;34m)\u001b[0m\u001b[0;34m\u001b[0m\u001b[0;34m\u001b[0m\u001b[0m\n\u001b[1;32m    255\u001b[0m                     \u001b[0mself\u001b[0m\u001b[0;34m.\u001b[0m\u001b[0mkwargs\u001b[0m\u001b[0;34m[\u001b[0m\u001b[0mwidget\u001b[0m\u001b[0;34m.\u001b[0m\u001b[0m_kwarg\u001b[0m\u001b[0;34m]\u001b[0m \u001b[0;34m=\u001b[0m \u001b[0mvalue\u001b[0m\u001b[0;34m\u001b[0m\u001b[0;34m\u001b[0m\u001b[0m\n\u001b[0;32m--> 256\u001b[0;31m                 \u001b[0mself\u001b[0m\u001b[0;34m.\u001b[0m\u001b[0mresult\u001b[0m \u001b[0;34m=\u001b[0m \u001b[0mself\u001b[0m\u001b[0;34m.\u001b[0m\u001b[0mf\u001b[0m\u001b[0;34m(\u001b[0m\u001b[0;34m**\u001b[0m\u001b[0mself\u001b[0m\u001b[0;34m.\u001b[0m\u001b[0mkwargs\u001b[0m\u001b[0;34m)\u001b[0m\u001b[0;34m\u001b[0m\u001b[0;34m\u001b[0m\u001b[0m\n\u001b[0m\u001b[1;32m    257\u001b[0m                 \u001b[0mshow_inline_matplotlib_plots\u001b[0m\u001b[0;34m(\u001b[0m\u001b[0;34m)\u001b[0m\u001b[0;34m\u001b[0m\u001b[0;34m\u001b[0m\u001b[0m\n\u001b[1;32m    258\u001b[0m                 \u001b[0;32mif\u001b[0m \u001b[0mself\u001b[0m\u001b[0;34m.\u001b[0m\u001b[0mauto_display\u001b[0m \u001b[0;32mand\u001b[0m \u001b[0mself\u001b[0m\u001b[0;34m.\u001b[0m\u001b[0mresult\u001b[0m \u001b[0;32mis\u001b[0m \u001b[0;32mnot\u001b[0m \u001b[0;32mNone\u001b[0m\u001b[0;34m:\u001b[0m\u001b[0;34m\u001b[0m\u001b[0;34m\u001b[0m\u001b[0m\n",
          "\u001b[0;32m<ipython-input-23-2f180fc35de4>\u001b[0m in \u001b[0;36mplot_first_query\u001b[0;34m(year)\u001b[0m\n\u001b[1;32m     14\u001b[0m     \u001b[0;31m# Plot it (only if there's data to plot)\u001b[0m\u001b[0;34m\u001b[0m\u001b[0;34m\u001b[0m\u001b[0;34m\u001b[0m\u001b[0m\n\u001b[1;32m     15\u001b[0m     \u001b[0;32mif\u001b[0m \u001b[0mlen\u001b[0m\u001b[0;34m(\u001b[0m\u001b[0mdf2\u001b[0m\u001b[0;34m)\u001b[0m \u001b[0;34m>\u001b[0m \u001b[0;36m0\u001b[0m\u001b[0;34m:\u001b[0m\u001b[0;34m\u001b[0m\u001b[0;34m\u001b[0m\u001b[0m\n\u001b[0;32m---> 16\u001b[0;31m         \u001b[0mplt\u001b[0m\u001b[0;34m.\u001b[0m\u001b[0mbar\u001b[0m\u001b[0;34m(\u001b[0m\u001b[0mweek\u001b[0m\u001b[0;34m,\u001b[0m\u001b[0mcount\u001b[0m\u001b[0;34m)\u001b[0m\u001b[0;34m\u001b[0m\u001b[0;34m\u001b[0m\u001b[0m\n\u001b[0m\u001b[1;32m     17\u001b[0m         \u001b[0mplt\u001b[0m\u001b[0;34m.\u001b[0m\u001b[0mshow\u001b[0m\u001b[0;34m(\u001b[0m\u001b[0;34m)\u001b[0m\u001b[0;34m;\u001b[0m\u001b[0;34m\u001b[0m\u001b[0;34m\u001b[0m\u001b[0m\n\u001b[1;32m     18\u001b[0m     \u001b[0;32melse\u001b[0m\u001b[0;34m:\u001b[0m\u001b[0;34m\u001b[0m\u001b[0;34m\u001b[0m\u001b[0m\n",
          "\u001b[0;32m~/.local/lib/python3.6/site-packages/matplotlib/pyplot.py\u001b[0m in \u001b[0;36mbar\u001b[0;34m(x, height, width, bottom, align, data, **kwargs)\u001b[0m\n\u001b[1;32m   2407\u001b[0m     return gca().bar(\n\u001b[1;32m   2408\u001b[0m         \u001b[0mx\u001b[0m\u001b[0;34m,\u001b[0m \u001b[0mheight\u001b[0m\u001b[0;34m,\u001b[0m \u001b[0mwidth\u001b[0m\u001b[0;34m=\u001b[0m\u001b[0mwidth\u001b[0m\u001b[0;34m,\u001b[0m \u001b[0mbottom\u001b[0m\u001b[0;34m=\u001b[0m\u001b[0mbottom\u001b[0m\u001b[0;34m,\u001b[0m \u001b[0malign\u001b[0m\u001b[0;34m=\u001b[0m\u001b[0malign\u001b[0m\u001b[0;34m,\u001b[0m\u001b[0;34m\u001b[0m\u001b[0;34m\u001b[0m\u001b[0m\n\u001b[0;32m-> 2409\u001b[0;31m         **({\"data\": data} if data is not None else {}), **kwargs)\n\u001b[0m\u001b[1;32m   2410\u001b[0m \u001b[0;34m\u001b[0m\u001b[0m\n\u001b[1;32m   2411\u001b[0m \u001b[0;34m\u001b[0m\u001b[0m\n",
          "\u001b[0;32m~/.local/lib/python3.6/site-packages/matplotlib/__init__.py\u001b[0m in \u001b[0;36minner\u001b[0;34m(ax, data, *args, **kwargs)\u001b[0m\n\u001b[1;32m   1563\u001b[0m     \u001b[0;32mdef\u001b[0m \u001b[0minner\u001b[0m\u001b[0;34m(\u001b[0m\u001b[0max\u001b[0m\u001b[0;34m,\u001b[0m \u001b[0;34m*\u001b[0m\u001b[0margs\u001b[0m\u001b[0;34m,\u001b[0m \u001b[0mdata\u001b[0m\u001b[0;34m=\u001b[0m\u001b[0;32mNone\u001b[0m\u001b[0;34m,\u001b[0m \u001b[0;34m**\u001b[0m\u001b[0mkwargs\u001b[0m\u001b[0;34m)\u001b[0m\u001b[0;34m:\u001b[0m\u001b[0;34m\u001b[0m\u001b[0;34m\u001b[0m\u001b[0m\n\u001b[1;32m   1564\u001b[0m         \u001b[0;32mif\u001b[0m \u001b[0mdata\u001b[0m \u001b[0;32mis\u001b[0m \u001b[0;32mNone\u001b[0m\u001b[0;34m:\u001b[0m\u001b[0;34m\u001b[0m\u001b[0;34m\u001b[0m\u001b[0m\n\u001b[0;32m-> 1565\u001b[0;31m             \u001b[0;32mreturn\u001b[0m \u001b[0mfunc\u001b[0m\u001b[0;34m(\u001b[0m\u001b[0max\u001b[0m\u001b[0;34m,\u001b[0m \u001b[0;34m*\u001b[0m\u001b[0mmap\u001b[0m\u001b[0;34m(\u001b[0m\u001b[0msanitize_sequence\u001b[0m\u001b[0;34m,\u001b[0m \u001b[0margs\u001b[0m\u001b[0;34m)\u001b[0m\u001b[0;34m,\u001b[0m \u001b[0;34m**\u001b[0m\u001b[0mkwargs\u001b[0m\u001b[0;34m)\u001b[0m\u001b[0;34m\u001b[0m\u001b[0;34m\u001b[0m\u001b[0m\n\u001b[0m\u001b[1;32m   1566\u001b[0m \u001b[0;34m\u001b[0m\u001b[0m\n\u001b[1;32m   1567\u001b[0m         \u001b[0mbound\u001b[0m \u001b[0;34m=\u001b[0m \u001b[0mnew_sig\u001b[0m\u001b[0;34m.\u001b[0m\u001b[0mbind\u001b[0m\u001b[0;34m(\u001b[0m\u001b[0max\u001b[0m\u001b[0;34m,\u001b[0m \u001b[0;34m*\u001b[0m\u001b[0margs\u001b[0m\u001b[0;34m,\u001b[0m \u001b[0;34m**\u001b[0m\u001b[0mkwargs\u001b[0m\u001b[0;34m)\u001b[0m\u001b[0;34m\u001b[0m\u001b[0;34m\u001b[0m\u001b[0m\n",
          "\u001b[0;32m~/.local/lib/python3.6/site-packages/matplotlib/axes/_axes.py\u001b[0m in \u001b[0;36mbar\u001b[0;34m(self, x, height, width, bottom, align, **kwargs)\u001b[0m\n\u001b[1;32m   2339\u001b[0m         x, height, width, y, linewidth = np.broadcast_arrays(\n\u001b[1;32m   2340\u001b[0m             \u001b[0;31m# Make args iterable too.\u001b[0m\u001b[0;34m\u001b[0m\u001b[0;34m\u001b[0m\u001b[0;34m\u001b[0m\u001b[0m\n\u001b[0;32m-> 2341\u001b[0;31m             np.atleast_1d(x), height, width, y, linewidth)\n\u001b[0m\u001b[1;32m   2342\u001b[0m \u001b[0;34m\u001b[0m\u001b[0m\n\u001b[1;32m   2343\u001b[0m         \u001b[0;31m# Now that units have been converted, set the tick locations.\u001b[0m\u001b[0;34m\u001b[0m\u001b[0;34m\u001b[0m\u001b[0;34m\u001b[0m\u001b[0m\n",
          "\u001b[0;32m<__array_function__ internals>\u001b[0m in \u001b[0;36mbroadcast_arrays\u001b[0;34m(*args, **kwargs)\u001b[0m\n",
          "\u001b[0;32m~/.local/lib/python3.6/site-packages/numpy/lib/stride_tricks.py\u001b[0m in \u001b[0;36mbroadcast_arrays\u001b[0;34m(*args, **kwargs)\u001b[0m\n\u001b[1;32m    262\u001b[0m     \u001b[0margs\u001b[0m \u001b[0;34m=\u001b[0m \u001b[0;34m[\u001b[0m\u001b[0mnp\u001b[0m\u001b[0;34m.\u001b[0m\u001b[0marray\u001b[0m\u001b[0;34m(\u001b[0m\u001b[0m_m\u001b[0m\u001b[0;34m,\u001b[0m \u001b[0mcopy\u001b[0m\u001b[0;34m=\u001b[0m\u001b[0;32mFalse\u001b[0m\u001b[0;34m,\u001b[0m \u001b[0msubok\u001b[0m\u001b[0;34m=\u001b[0m\u001b[0msubok\u001b[0m\u001b[0;34m)\u001b[0m \u001b[0;32mfor\u001b[0m \u001b[0m_m\u001b[0m \u001b[0;32min\u001b[0m \u001b[0margs\u001b[0m\u001b[0;34m]\u001b[0m\u001b[0;34m\u001b[0m\u001b[0;34m\u001b[0m\u001b[0m\n\u001b[1;32m    263\u001b[0m \u001b[0;34m\u001b[0m\u001b[0m\n\u001b[0;32m--> 264\u001b[0;31m     \u001b[0mshape\u001b[0m \u001b[0;34m=\u001b[0m \u001b[0m_broadcast_shape\u001b[0m\u001b[0;34m(\u001b[0m\u001b[0;34m*\u001b[0m\u001b[0margs\u001b[0m\u001b[0;34m)\u001b[0m\u001b[0;34m\u001b[0m\u001b[0;34m\u001b[0m\u001b[0m\n\u001b[0m\u001b[1;32m    265\u001b[0m \u001b[0;34m\u001b[0m\u001b[0m\n\u001b[1;32m    266\u001b[0m     \u001b[0;32mif\u001b[0m \u001b[0mall\u001b[0m\u001b[0;34m(\u001b[0m\u001b[0marray\u001b[0m\u001b[0;34m.\u001b[0m\u001b[0mshape\u001b[0m \u001b[0;34m==\u001b[0m \u001b[0mshape\u001b[0m \u001b[0;32mfor\u001b[0m \u001b[0marray\u001b[0m \u001b[0;32min\u001b[0m \u001b[0margs\u001b[0m\u001b[0;34m)\u001b[0m\u001b[0;34m:\u001b[0m\u001b[0;34m\u001b[0m\u001b[0;34m\u001b[0m\u001b[0m\n",
          "\u001b[0;32m~/.local/lib/python3.6/site-packages/numpy/lib/stride_tricks.py\u001b[0m in \u001b[0;36m_broadcast_shape\u001b[0;34m(*args)\u001b[0m\n\u001b[1;32m    189\u001b[0m     \u001b[0;31m# use the old-iterator because np.nditer does not handle size 0 arrays\u001b[0m\u001b[0;34m\u001b[0m\u001b[0;34m\u001b[0m\u001b[0;34m\u001b[0m\u001b[0m\n\u001b[1;32m    190\u001b[0m     \u001b[0;31m# consistently\u001b[0m\u001b[0;34m\u001b[0m\u001b[0;34m\u001b[0m\u001b[0;34m\u001b[0m\u001b[0m\n\u001b[0;32m--> 191\u001b[0;31m     \u001b[0mb\u001b[0m \u001b[0;34m=\u001b[0m \u001b[0mnp\u001b[0m\u001b[0;34m.\u001b[0m\u001b[0mbroadcast\u001b[0m\u001b[0;34m(\u001b[0m\u001b[0;34m*\u001b[0m\u001b[0margs\u001b[0m\u001b[0;34m[\u001b[0m\u001b[0;34m:\u001b[0m\u001b[0;36m32\u001b[0m\u001b[0;34m]\u001b[0m\u001b[0;34m)\u001b[0m\u001b[0;34m\u001b[0m\u001b[0;34m\u001b[0m\u001b[0m\n\u001b[0m\u001b[1;32m    192\u001b[0m     \u001b[0;31m# unfortunately, it cannot handle 32 or more arguments directly\u001b[0m\u001b[0;34m\u001b[0m\u001b[0;34m\u001b[0m\u001b[0;34m\u001b[0m\u001b[0m\n\u001b[1;32m    193\u001b[0m     \u001b[0;32mfor\u001b[0m \u001b[0mpos\u001b[0m \u001b[0;32min\u001b[0m \u001b[0mrange\u001b[0m\u001b[0;34m(\u001b[0m\u001b[0;36m32\u001b[0m\u001b[0;34m,\u001b[0m \u001b[0mlen\u001b[0m\u001b[0;34m(\u001b[0m\u001b[0margs\u001b[0m\u001b[0;34m)\u001b[0m\u001b[0;34m,\u001b[0m \u001b[0;36m31\u001b[0m\u001b[0;34m)\u001b[0m\u001b[0;34m:\u001b[0m\u001b[0;34m\u001b[0m\u001b[0;34m\u001b[0m\u001b[0m\n",
          "\u001b[0;31mValueError\u001b[0m: shape mismatch: objects cannot be broadcast to a single shape"
         ]
        }
       ]
      }
     },
     "2fbaccdd886b404a8eb9db0148840347": {
      "model_module": "@jupyter-widgets/controls",
      "model_module_version": "1.5.0",
      "model_name": "DescriptionStyleModel",
      "state": {
       "description_width": ""
      }
     },
     "319fc727be914f52aca5ff7f7dff9c9a": {
      "model_module": "@jupyter-widgets/controls",
      "model_module_version": "1.5.0",
      "model_name": "DropdownModel",
      "state": {
       "_options_labels": [
        "2012",
        "2013",
        "2014",
        "2015",
        "2016",
        "2017"
       ],
       "description": "Year:",
       "index": 0,
       "layout": "IPY_MODEL_f5e5ae8e600e4fc49dafebb52fbfff2e",
       "style": "IPY_MODEL_9845910fa52348ada48edc7a85f5db22"
      }
     },
     "33479542c5e6449caaed742cd678e14f": {
      "model_module": "@jupyter-widgets/base",
      "model_module_version": "1.2.0",
      "model_name": "LayoutModel",
      "state": {}
     },
     "3533df102e154eb9b43414f7b087d500": {
      "model_module": "@jupyter-widgets/base",
      "model_module_version": "1.2.0",
      "model_name": "LayoutModel",
      "state": {}
     },
     "358037f5653a4421a332b4015826a91e": {
      "model_module": "@jupyter-widgets/base",
      "model_module_version": "1.2.0",
      "model_name": "LayoutModel",
      "state": {}
     },
     "361ef5bb99f7456b8ce67779a2c8ea8c": {
      "model_module": "@jupyter-widgets/base",
      "model_module_version": "1.2.0",
      "model_name": "LayoutModel",
      "state": {}
     },
     "36376c2080914edea8b6b3a29eb82f4c": {
      "model_module": "@jupyter-widgets/controls",
      "model_module_version": "1.5.0",
      "model_name": "BoundedFloatTextModel",
      "state": {
       "description": "Start Year:",
       "layout": "IPY_MODEL_3533df102e154eb9b43414f7b087d500",
       "max": 2015,
       "min": 2012,
       "step": 1,
       "style": "IPY_MODEL_8b25ae3aea174f518cdc21932a07a391",
       "value": 2012
      }
     },
     "36aa0e39f43449328c1e6431aae64aa8": {
      "model_module": "@jupyter-widgets/controls",
      "model_module_version": "1.5.0",
      "model_name": "DropdownModel",
      "state": {
       "_options_labels": [
        "2012",
        "2013",
        "2014",
        "2015",
        "2016",
        "2017"
       ],
       "description": "Year:",
       "index": 0,
       "layout": "IPY_MODEL_7550ec512cda4869ad324717ba7ee6b9",
       "style": "IPY_MODEL_78060b00a59e4cdeba4dc950ada26269"
      }
     },
     "371ce9dc7e20455d83a2e005d4145ff5": {
      "model_module": "@jupyter-widgets/base",
      "model_module_version": "1.2.0",
      "model_name": "LayoutModel",
      "state": {}
     },
     "374892f14aa245f1859137eaf9a6b31e": {
      "model_module": "@jupyter-widgets/output",
      "model_module_version": "1.0.0",
      "model_name": "OutputModel",
      "state": {
       "layout": "IPY_MODEL_142c1171ca1b40e09173c9f307cf67d4",
       "outputs": [
        {
         "data": {
          "image/png": "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\n",
          "text/plain": "<Figure size 1296x432 with 1 Axes>"
         },
         "metadata": {
          "needs_background": "light"
         },
         "output_type": "display_data"
        }
       ]
      }
     },
     "37918db3d0074db2aa4e94086092db33": {
      "model_module": "@jupyter-widgets/controls",
      "model_module_version": "1.5.0",
      "model_name": "DropdownModel",
      "state": {
       "_options_labels": [
        "2012",
        "2013",
        "2014",
        "2015",
        "2016",
        "2017"
       ],
       "description": "Year:",
       "index": 0,
       "layout": "IPY_MODEL_a35aa47bc5a4428dba3351736515d3e9",
       "style": "IPY_MODEL_a64733a283e64183b5848ee6e686ed88"
      }
     },
     "3996c24cfb2b4c1993dda4ab789b2715": {
      "model_module": "@jupyter-widgets/base",
      "model_module_version": "1.2.0",
      "model_name": "LayoutModel",
      "state": {}
     },
     "3d01feabe2a8412cb2b72832b8d7417a": {
      "model_module": "@jupyter-widgets/base",
      "model_module_version": "1.2.0",
      "model_name": "LayoutModel",
      "state": {}
     },
     "3dc49620a0964e16876d1d26cc68a437": {
      "model_module": "@jupyter-widgets/base",
      "model_module_version": "1.2.0",
      "model_name": "LayoutModel",
      "state": {}
     },
     "3ec0d3936ff845888eed344b01fae8bf": {
      "model_module": "@jupyter-widgets/controls",
      "model_module_version": "1.5.0",
      "model_name": "DropdownModel",
      "state": {
       "_options_labels": [
        "2012",
        "2013",
        "2014",
        "2015",
        "2016",
        "2017"
       ],
       "description": "Year:",
       "index": 0,
       "layout": "IPY_MODEL_47b93243aeb34e8aa384b90b6a038a61",
       "style": "IPY_MODEL_2dcd73bb804e40dda63dec6b0039d9a0"
      }
     },
     "3f7a5b0a16814d4f92d2023022263e1b": {
      "model_module": "@jupyter-widgets/output",
      "model_module_version": "1.0.0",
      "model_name": "OutputModel",
      "state": {
       "layout": "IPY_MODEL_577b4ba9e7b340d5a6f8b321ce316f04",
       "outputs": [
        {
         "ename": "ValueError",
         "evalue": "shape mismatch: objects cannot be broadcast to a single shape",
         "output_type": "error",
         "traceback": [
          "\u001b[0;31m---------------------------------------------------------------------------\u001b[0m",
          "\u001b[0;31mValueError\u001b[0m                                Traceback (most recent call last)",
          "\u001b[0;32m~/.local/lib/python3.6/site-packages/ipywidgets/widgets/interaction.py\u001b[0m in \u001b[0;36mupdate\u001b[0;34m(self, *args)\u001b[0m\n\u001b[1;32m    254\u001b[0m                     \u001b[0mvalue\u001b[0m \u001b[0;34m=\u001b[0m \u001b[0mwidget\u001b[0m\u001b[0;34m.\u001b[0m\u001b[0mget_interact_value\u001b[0m\u001b[0;34m(\u001b[0m\u001b[0;34m)\u001b[0m\u001b[0;34m\u001b[0m\u001b[0;34m\u001b[0m\u001b[0m\n\u001b[1;32m    255\u001b[0m                     \u001b[0mself\u001b[0m\u001b[0;34m.\u001b[0m\u001b[0mkwargs\u001b[0m\u001b[0;34m[\u001b[0m\u001b[0mwidget\u001b[0m\u001b[0;34m.\u001b[0m\u001b[0m_kwarg\u001b[0m\u001b[0;34m]\u001b[0m \u001b[0;34m=\u001b[0m \u001b[0mvalue\u001b[0m\u001b[0;34m\u001b[0m\u001b[0;34m\u001b[0m\u001b[0m\n\u001b[0;32m--> 256\u001b[0;31m                 \u001b[0mself\u001b[0m\u001b[0;34m.\u001b[0m\u001b[0mresult\u001b[0m \u001b[0;34m=\u001b[0m \u001b[0mself\u001b[0m\u001b[0;34m.\u001b[0m\u001b[0mf\u001b[0m\u001b[0;34m(\u001b[0m\u001b[0;34m**\u001b[0m\u001b[0mself\u001b[0m\u001b[0;34m.\u001b[0m\u001b[0mkwargs\u001b[0m\u001b[0;34m)\u001b[0m\u001b[0;34m\u001b[0m\u001b[0;34m\u001b[0m\u001b[0m\n\u001b[0m\u001b[1;32m    257\u001b[0m                 \u001b[0mshow_inline_matplotlib_plots\u001b[0m\u001b[0;34m(\u001b[0m\u001b[0;34m)\u001b[0m\u001b[0;34m\u001b[0m\u001b[0;34m\u001b[0m\u001b[0m\n\u001b[1;32m    258\u001b[0m                 \u001b[0;32mif\u001b[0m \u001b[0mself\u001b[0m\u001b[0;34m.\u001b[0m\u001b[0mauto_display\u001b[0m \u001b[0;32mand\u001b[0m \u001b[0mself\u001b[0m\u001b[0;34m.\u001b[0m\u001b[0mresult\u001b[0m \u001b[0;32mis\u001b[0m \u001b[0;32mnot\u001b[0m \u001b[0;32mNone\u001b[0m\u001b[0;34m:\u001b[0m\u001b[0;34m\u001b[0m\u001b[0;34m\u001b[0m\u001b[0m\n",
          "\u001b[0;32m<ipython-input-21-c6d42b54183b>\u001b[0m in \u001b[0;36mplot_first_query\u001b[0;34m(year)\u001b[0m\n\u001b[1;32m     13\u001b[0m     \u001b[0;31m# Plot it (only if there's data to plot)\u001b[0m\u001b[0;34m\u001b[0m\u001b[0;34m\u001b[0m\u001b[0;34m\u001b[0m\u001b[0m\n\u001b[1;32m     14\u001b[0m     \u001b[0;32mif\u001b[0m \u001b[0mlen\u001b[0m\u001b[0;34m(\u001b[0m\u001b[0mdf2\u001b[0m\u001b[0;34m)\u001b[0m \u001b[0;34m>\u001b[0m \u001b[0;36m0\u001b[0m\u001b[0;34m:\u001b[0m\u001b[0;34m\u001b[0m\u001b[0;34m\u001b[0m\u001b[0m\n\u001b[0;32m---> 15\u001b[0;31m         \u001b[0mplt\u001b[0m\u001b[0;34m.\u001b[0m\u001b[0mbar\u001b[0m\u001b[0;34m(\u001b[0m\u001b[0mweek\u001b[0m\u001b[0;34m,\u001b[0m\u001b[0mcount\u001b[0m\u001b[0;34m)\u001b[0m\u001b[0;34m\u001b[0m\u001b[0;34m\u001b[0m\u001b[0m\n\u001b[0m\u001b[1;32m     16\u001b[0m         \u001b[0mplt\u001b[0m\u001b[0;34m.\u001b[0m\u001b[0mshow\u001b[0m\u001b[0;34m(\u001b[0m\u001b[0;34m)\u001b[0m\u001b[0;34m;\u001b[0m\u001b[0;34m\u001b[0m\u001b[0;34m\u001b[0m\u001b[0m\n\u001b[1;32m     17\u001b[0m     \u001b[0;32melse\u001b[0m\u001b[0;34m:\u001b[0m\u001b[0;34m\u001b[0m\u001b[0;34m\u001b[0m\u001b[0m\n",
          "\u001b[0;32m~/.local/lib/python3.6/site-packages/matplotlib/pyplot.py\u001b[0m in \u001b[0;36mbar\u001b[0;34m(x, height, width, bottom, align, data, **kwargs)\u001b[0m\n\u001b[1;32m   2407\u001b[0m     return gca().bar(\n\u001b[1;32m   2408\u001b[0m         \u001b[0mx\u001b[0m\u001b[0;34m,\u001b[0m \u001b[0mheight\u001b[0m\u001b[0;34m,\u001b[0m \u001b[0mwidth\u001b[0m\u001b[0;34m=\u001b[0m\u001b[0mwidth\u001b[0m\u001b[0;34m,\u001b[0m \u001b[0mbottom\u001b[0m\u001b[0;34m=\u001b[0m\u001b[0mbottom\u001b[0m\u001b[0;34m,\u001b[0m \u001b[0malign\u001b[0m\u001b[0;34m=\u001b[0m\u001b[0malign\u001b[0m\u001b[0;34m,\u001b[0m\u001b[0;34m\u001b[0m\u001b[0;34m\u001b[0m\u001b[0m\n\u001b[0;32m-> 2409\u001b[0;31m         **({\"data\": data} if data is not None else {}), **kwargs)\n\u001b[0m\u001b[1;32m   2410\u001b[0m \u001b[0;34m\u001b[0m\u001b[0m\n\u001b[1;32m   2411\u001b[0m \u001b[0;34m\u001b[0m\u001b[0m\n",
          "\u001b[0;32m~/.local/lib/python3.6/site-packages/matplotlib/__init__.py\u001b[0m in \u001b[0;36minner\u001b[0;34m(ax, data, *args, **kwargs)\u001b[0m\n\u001b[1;32m   1563\u001b[0m     \u001b[0;32mdef\u001b[0m \u001b[0minner\u001b[0m\u001b[0;34m(\u001b[0m\u001b[0max\u001b[0m\u001b[0;34m,\u001b[0m \u001b[0;34m*\u001b[0m\u001b[0margs\u001b[0m\u001b[0;34m,\u001b[0m \u001b[0mdata\u001b[0m\u001b[0;34m=\u001b[0m\u001b[0;32mNone\u001b[0m\u001b[0;34m,\u001b[0m \u001b[0;34m**\u001b[0m\u001b[0mkwargs\u001b[0m\u001b[0;34m)\u001b[0m\u001b[0;34m:\u001b[0m\u001b[0;34m\u001b[0m\u001b[0;34m\u001b[0m\u001b[0m\n\u001b[1;32m   1564\u001b[0m         \u001b[0;32mif\u001b[0m \u001b[0mdata\u001b[0m \u001b[0;32mis\u001b[0m \u001b[0;32mNone\u001b[0m\u001b[0;34m:\u001b[0m\u001b[0;34m\u001b[0m\u001b[0;34m\u001b[0m\u001b[0m\n\u001b[0;32m-> 1565\u001b[0;31m             \u001b[0;32mreturn\u001b[0m \u001b[0mfunc\u001b[0m\u001b[0;34m(\u001b[0m\u001b[0max\u001b[0m\u001b[0;34m,\u001b[0m \u001b[0;34m*\u001b[0m\u001b[0mmap\u001b[0m\u001b[0;34m(\u001b[0m\u001b[0msanitize_sequence\u001b[0m\u001b[0;34m,\u001b[0m \u001b[0margs\u001b[0m\u001b[0;34m)\u001b[0m\u001b[0;34m,\u001b[0m \u001b[0;34m**\u001b[0m\u001b[0mkwargs\u001b[0m\u001b[0;34m)\u001b[0m\u001b[0;34m\u001b[0m\u001b[0;34m\u001b[0m\u001b[0m\n\u001b[0m\u001b[1;32m   1566\u001b[0m \u001b[0;34m\u001b[0m\u001b[0m\n\u001b[1;32m   1567\u001b[0m         \u001b[0mbound\u001b[0m \u001b[0;34m=\u001b[0m \u001b[0mnew_sig\u001b[0m\u001b[0;34m.\u001b[0m\u001b[0mbind\u001b[0m\u001b[0;34m(\u001b[0m\u001b[0max\u001b[0m\u001b[0;34m,\u001b[0m \u001b[0;34m*\u001b[0m\u001b[0margs\u001b[0m\u001b[0;34m,\u001b[0m \u001b[0;34m**\u001b[0m\u001b[0mkwargs\u001b[0m\u001b[0;34m)\u001b[0m\u001b[0;34m\u001b[0m\u001b[0;34m\u001b[0m\u001b[0m\n",
          "\u001b[0;32m~/.local/lib/python3.6/site-packages/matplotlib/axes/_axes.py\u001b[0m in \u001b[0;36mbar\u001b[0;34m(self, x, height, width, bottom, align, **kwargs)\u001b[0m\n\u001b[1;32m   2339\u001b[0m         x, height, width, y, linewidth = np.broadcast_arrays(\n\u001b[1;32m   2340\u001b[0m             \u001b[0;31m# Make args iterable too.\u001b[0m\u001b[0;34m\u001b[0m\u001b[0;34m\u001b[0m\u001b[0;34m\u001b[0m\u001b[0m\n\u001b[0;32m-> 2341\u001b[0;31m             np.atleast_1d(x), height, width, y, linewidth)\n\u001b[0m\u001b[1;32m   2342\u001b[0m \u001b[0;34m\u001b[0m\u001b[0m\n\u001b[1;32m   2343\u001b[0m         \u001b[0;31m# Now that units have been converted, set the tick locations.\u001b[0m\u001b[0;34m\u001b[0m\u001b[0;34m\u001b[0m\u001b[0;34m\u001b[0m\u001b[0m\n",
          "\u001b[0;32m<__array_function__ internals>\u001b[0m in \u001b[0;36mbroadcast_arrays\u001b[0;34m(*args, **kwargs)\u001b[0m\n",
          "\u001b[0;32m~/.local/lib/python3.6/site-packages/numpy/lib/stride_tricks.py\u001b[0m in \u001b[0;36mbroadcast_arrays\u001b[0;34m(*args, **kwargs)\u001b[0m\n\u001b[1;32m    262\u001b[0m     \u001b[0margs\u001b[0m \u001b[0;34m=\u001b[0m \u001b[0;34m[\u001b[0m\u001b[0mnp\u001b[0m\u001b[0;34m.\u001b[0m\u001b[0marray\u001b[0m\u001b[0;34m(\u001b[0m\u001b[0m_m\u001b[0m\u001b[0;34m,\u001b[0m \u001b[0mcopy\u001b[0m\u001b[0;34m=\u001b[0m\u001b[0;32mFalse\u001b[0m\u001b[0;34m,\u001b[0m \u001b[0msubok\u001b[0m\u001b[0;34m=\u001b[0m\u001b[0msubok\u001b[0m\u001b[0;34m)\u001b[0m \u001b[0;32mfor\u001b[0m \u001b[0m_m\u001b[0m \u001b[0;32min\u001b[0m \u001b[0margs\u001b[0m\u001b[0;34m]\u001b[0m\u001b[0;34m\u001b[0m\u001b[0;34m\u001b[0m\u001b[0m\n\u001b[1;32m    263\u001b[0m \u001b[0;34m\u001b[0m\u001b[0m\n\u001b[0;32m--> 264\u001b[0;31m     \u001b[0mshape\u001b[0m \u001b[0;34m=\u001b[0m \u001b[0m_broadcast_shape\u001b[0m\u001b[0;34m(\u001b[0m\u001b[0;34m*\u001b[0m\u001b[0margs\u001b[0m\u001b[0;34m)\u001b[0m\u001b[0;34m\u001b[0m\u001b[0;34m\u001b[0m\u001b[0m\n\u001b[0m\u001b[1;32m    265\u001b[0m \u001b[0;34m\u001b[0m\u001b[0m\n\u001b[1;32m    266\u001b[0m     \u001b[0;32mif\u001b[0m \u001b[0mall\u001b[0m\u001b[0;34m(\u001b[0m\u001b[0marray\u001b[0m\u001b[0;34m.\u001b[0m\u001b[0mshape\u001b[0m \u001b[0;34m==\u001b[0m \u001b[0mshape\u001b[0m \u001b[0;32mfor\u001b[0m \u001b[0marray\u001b[0m \u001b[0;32min\u001b[0m \u001b[0margs\u001b[0m\u001b[0;34m)\u001b[0m\u001b[0;34m:\u001b[0m\u001b[0;34m\u001b[0m\u001b[0;34m\u001b[0m\u001b[0m\n",
          "\u001b[0;32m~/.local/lib/python3.6/site-packages/numpy/lib/stride_tricks.py\u001b[0m in \u001b[0;36m_broadcast_shape\u001b[0;34m(*args)\u001b[0m\n\u001b[1;32m    189\u001b[0m     \u001b[0;31m# use the old-iterator because np.nditer does not handle size 0 arrays\u001b[0m\u001b[0;34m\u001b[0m\u001b[0;34m\u001b[0m\u001b[0;34m\u001b[0m\u001b[0m\n\u001b[1;32m    190\u001b[0m     \u001b[0;31m# consistently\u001b[0m\u001b[0;34m\u001b[0m\u001b[0;34m\u001b[0m\u001b[0;34m\u001b[0m\u001b[0m\n\u001b[0;32m--> 191\u001b[0;31m     \u001b[0mb\u001b[0m \u001b[0;34m=\u001b[0m \u001b[0mnp\u001b[0m\u001b[0;34m.\u001b[0m\u001b[0mbroadcast\u001b[0m\u001b[0;34m(\u001b[0m\u001b[0;34m*\u001b[0m\u001b[0margs\u001b[0m\u001b[0;34m[\u001b[0m\u001b[0;34m:\u001b[0m\u001b[0;36m32\u001b[0m\u001b[0;34m]\u001b[0m\u001b[0;34m)\u001b[0m\u001b[0;34m\u001b[0m\u001b[0;34m\u001b[0m\u001b[0m\n\u001b[0m\u001b[1;32m    192\u001b[0m     \u001b[0;31m# unfortunately, it cannot handle 32 or more arguments directly\u001b[0m\u001b[0;34m\u001b[0m\u001b[0;34m\u001b[0m\u001b[0;34m\u001b[0m\u001b[0m\n\u001b[1;32m    193\u001b[0m     \u001b[0;32mfor\u001b[0m \u001b[0mpos\u001b[0m \u001b[0;32min\u001b[0m \u001b[0mrange\u001b[0m\u001b[0;34m(\u001b[0m\u001b[0;36m32\u001b[0m\u001b[0;34m,\u001b[0m \u001b[0mlen\u001b[0m\u001b[0;34m(\u001b[0m\u001b[0margs\u001b[0m\u001b[0;34m)\u001b[0m\u001b[0;34m,\u001b[0m \u001b[0;36m31\u001b[0m\u001b[0;34m)\u001b[0m\u001b[0;34m:\u001b[0m\u001b[0;34m\u001b[0m\u001b[0;34m\u001b[0m\u001b[0m\n",
          "\u001b[0;31mValueError\u001b[0m: shape mismatch: objects cannot be broadcast to a single shape"
         ]
        }
       ]
      }
     },
     "402a562a39d84b24abeb6ccd3521fefd": {
      "model_module": "@jupyter-widgets/base",
      "model_module_version": "1.2.0",
      "model_name": "LayoutModel",
      "state": {}
     },
     "4035c2bdc1674fdc929b367684b1a955": {
      "model_module": "@jupyter-widgets/controls",
      "model_module_version": "1.5.0",
      "model_name": "DescriptionStyleModel",
      "state": {
       "description_width": ""
      }
     },
     "4662f0e4afea475eac1b94872b8af553": {
      "model_module": "@jupyter-widgets/controls",
      "model_module_version": "1.5.0",
      "model_name": "DescriptionStyleModel",
      "state": {
       "description_width": ""
      }
     },
     "47b93243aeb34e8aa384b90b6a038a61": {
      "model_module": "@jupyter-widgets/base",
      "model_module_version": "1.2.0",
      "model_name": "LayoutModel",
      "state": {}
     },
     "499502d6baf54f26802869b6f1262e1f": {
      "model_module": "@jupyter-widgets/base",
      "model_module_version": "1.2.0",
      "model_name": "LayoutModel",
      "state": {}
     },
     "4a83053290a34ff6a71a770f0a641dd5": {
      "model_module": "@jupyter-widgets/controls",
      "model_module_version": "1.5.0",
      "model_name": "VBoxModel",
      "state": {
       "_dom_classes": [
        "widget-interact"
       ],
       "children": [
        "IPY_MODEL_cef224aaf99c47be94aee28f72d7eea1",
        "IPY_MODEL_5582445503034394b11b4ba397734ee0"
       ],
       "layout": "IPY_MODEL_5722d812cc6f4855b1d40c6ffcc408df"
      }
     },
     "4b91115c795c4a5aba72f1795524810b": {
      "model_module": "@jupyter-widgets/controls",
      "model_module_version": "1.5.0",
      "model_name": "VBoxModel",
      "state": {
       "_dom_classes": [
        "widget-interact"
       ],
       "children": [
        "IPY_MODEL_cef224aaf99c47be94aee28f72d7eea1",
        "IPY_MODEL_d3703b410d0544eb94d71f9ebc8347a9"
       ],
       "layout": "IPY_MODEL_402a562a39d84b24abeb6ccd3521fefd"
      }
     },
     "4d77d87cf25b4824a0f3010f6940ab26": {
      "model_module": "@jupyter-widgets/output",
      "model_module_version": "1.0.0",
      "model_name": "OutputModel",
      "state": {
       "layout": "IPY_MODEL_499502d6baf54f26802869b6f1262e1f",
       "outputs": [
        {
         "data": {
          "image/png": "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\n",
          "text/plain": "<Figure size 1296x432 with 1 Axes>"
         },
         "metadata": {
          "needs_background": "light"
         },
         "output_type": "display_data"
        }
       ]
      }
     },
     "4eb29131c38c4d7794e907504dc60c45": {
      "model_module": "@jupyter-widgets/base",
      "model_module_version": "1.2.0",
      "model_name": "LayoutModel",
      "state": {}
     },
     "501cb2d4f5c5445bb0edee370d48c06b": {
      "model_module": "@jupyter-widgets/base",
      "model_module_version": "1.2.0",
      "model_name": "LayoutModel",
      "state": {}
     },
     "5402cf93ec6746af927775db64e906e1": {
      "model_module": "@jupyter-widgets/base",
      "model_module_version": "1.2.0",
      "model_name": "LayoutModel",
      "state": {}
     },
     "548db7104ccc4952a125a4a6244194d5": {
      "model_module": "@jupyter-widgets/base",
      "model_module_version": "1.2.0",
      "model_name": "LayoutModel",
      "state": {}
     },
     "55774d00f0904d20b117e6dc8b567cbc": {
      "model_module": "@jupyter-widgets/controls",
      "model_module_version": "1.5.0",
      "model_name": "VBoxModel",
      "state": {
       "_dom_classes": [
        "widget-interact"
       ],
       "children": [
        "IPY_MODEL_946056a1465947d9a3dc4e929a5bcb7f",
        "IPY_MODEL_d97b7744076540e182318dbfff38176c"
       ],
       "layout": "IPY_MODEL_0cf0fe05543f4c1aa4c939b7318619a1"
      }
     },
     "5582445503034394b11b4ba397734ee0": {
      "model_module": "@jupyter-widgets/output",
      "model_module_version": "1.0.0",
      "model_name": "OutputModel",
      "state": {
       "layout": "IPY_MODEL_6f3ab6592b7f4a269eab4bd9f4944761",
       "outputs": [
        {
         "data": {
          "image/png": "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\n",
          "text/plain": "<Figure size 432x288 with 1 Axes>"
         },
         "metadata": {
          "needs_background": "light"
         },
         "output_type": "display_data"
        }
       ]
      }
     },
     "558905a87d774d1ca92116ca312a2a94": {
      "model_module": "@jupyter-widgets/base",
      "model_module_version": "1.2.0",
      "model_name": "LayoutModel",
      "state": {}
     },
     "563b157eb3a241c8b4821b78fe79c342": {
      "model_module": "@jupyter-widgets/base",
      "model_module_version": "1.2.0",
      "model_name": "LayoutModel",
      "state": {}
     },
     "565385c20c63411aab8ac07682f55d6e": {
      "model_module": "@jupyter-widgets/base",
      "model_module_version": "1.2.0",
      "model_name": "LayoutModel",
      "state": {}
     },
     "56811a3416394efda2aba106a84cbd38": {
      "model_module": "@jupyter-widgets/base",
      "model_module_version": "1.2.0",
      "model_name": "LayoutModel",
      "state": {}
     },
     "569704a6ab2a4bedbfe204bcbf472040": {
      "model_module": "@jupyter-widgets/base",
      "model_module_version": "1.2.0",
      "model_name": "LayoutModel",
      "state": {}
     },
     "5722d812cc6f4855b1d40c6ffcc408df": {
      "model_module": "@jupyter-widgets/base",
      "model_module_version": "1.2.0",
      "model_name": "LayoutModel",
      "state": {}
     },
     "577b4ba9e7b340d5a6f8b321ce316f04": {
      "model_module": "@jupyter-widgets/base",
      "model_module_version": "1.2.0",
      "model_name": "LayoutModel",
      "state": {}
     },
     "577cae0cf51845fcafc0d958927322cf": {
      "model_module": "@jupyter-widgets/controls",
      "model_module_version": "1.5.0",
      "model_name": "DropdownModel",
      "state": {
       "_options_labels": [
        "2012",
        "2013",
        "2014",
        "2015",
        "2016",
        "2017"
       ],
       "description": "Year:",
       "index": 0,
       "layout": "IPY_MODEL_569704a6ab2a4bedbfe204bcbf472040",
       "style": "IPY_MODEL_24b4c04e80a84e7ca078987b52fcc621"
      }
     },
     "57eb349a1a36493097e4dcc9a2ba6304": {
      "model_module": "@jupyter-widgets/controls",
      "model_module_version": "1.5.0",
      "model_name": "VBoxModel",
      "state": {
       "_dom_classes": [
        "widget-interact"
       ],
       "children": [
        "IPY_MODEL_2e0440342d53425d84745d9ba48096a4",
        "IPY_MODEL_8f0924962ab34be994987f3edd02e83d"
       ],
       "layout": "IPY_MODEL_e526670475b04d0b880ffc9de81e0745"
      }
     },
     "5d62e07b2203414a9d7030ed98b9ac4b": {
      "model_module": "@jupyter-widgets/base",
      "model_module_version": "1.2.0",
      "model_name": "LayoutModel",
      "state": {}
     },
     "6330291ee88e4da98c3d0fed92a3e011": {
      "model_module": "@jupyter-widgets/controls",
      "model_module_version": "1.5.0",
      "model_name": "DescriptionStyleModel",
      "state": {
       "description_width": ""
      }
     },
     "6821ef8b57bf43488959e1cc4e91ac4b": {
      "model_module": "@jupyter-widgets/controls",
      "model_module_version": "1.5.0",
      "model_name": "DescriptionStyleModel",
      "state": {
       "description_width": ""
      }
     },
     "68616b2ef2364eecb64429c433f87d92": {
      "model_module": "@jupyter-widgets/controls",
      "model_module_version": "1.5.0",
      "model_name": "VBoxModel",
      "state": {
       "_dom_classes": [
        "widget-interact"
       ],
       "children": [
        "IPY_MODEL_09ef3d51d20c47b3bdb863c4ec969193",
        "IPY_MODEL_4d77d87cf25b4824a0f3010f6940ab26"
       ],
       "layout": "IPY_MODEL_a8a0084d6c1a494a870ebacba29eee97"
      }
     },
     "68c30351ee3f4c16ba9510dac6ceefc7": {
      "model_module": "@jupyter-widgets/controls",
      "model_module_version": "1.5.0",
      "model_name": "VBoxModel",
      "state": {
       "_dom_classes": [
        "widget-interact"
       ],
       "children": [
        "IPY_MODEL_7f2a1c2448a0422b84dcfdbf70c29951",
        "IPY_MODEL_236b986f98eb4a029b1411b9a1f67960"
       ],
       "layout": "IPY_MODEL_7898541cc4bf4a20bf152fc67cd52a78"
      }
     },
     "6a29127b5d914f55bc9d4cf50de38d09": {
      "model_module": "@jupyter-widgets/controls",
      "model_module_version": "1.5.0",
      "model_name": "VBoxModel",
      "state": {
       "_dom_classes": [
        "widget-interact"
       ],
       "children": [
        "IPY_MODEL_bd1567d3b90d4f78bdb2d7b8de923cc0",
        "IPY_MODEL_b9d3b297f7064948be1d0fc3d9c4cf6f"
       ],
       "layout": "IPY_MODEL_a2a63c2560044490ac081b6bcf0cb156"
      }
     },
     "6b4478ca598d4d19b986fd962ebde74f": {
      "model_module": "@jupyter-widgets/controls",
      "model_module_version": "1.5.0",
      "model_name": "VBoxModel",
      "state": {
       "_dom_classes": [
        "widget-interact"
       ],
       "children": [
        "IPY_MODEL_36aa0e39f43449328c1e6431aae64aa8",
        "IPY_MODEL_3f7a5b0a16814d4f92d2023022263e1b"
       ],
       "layout": "IPY_MODEL_b0a87f8e76194a859e17a663b1619501"
      }
     },
     "6d4bdff55a64407db4ef781e76b0765f": {
      "model_module": "@jupyter-widgets/output",
      "model_module_version": "1.0.0",
      "model_name": "OutputModel",
      "state": {
       "layout": "IPY_MODEL_e72bc28f38a94ffb973cbf43dcebe133",
       "outputs": [
        {
         "data": {
          "image/png": "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\n",
          "text/plain": "<Figure size 432x288 with 1 Axes>"
         },
         "metadata": {
          "needs_background": "light"
         },
         "output_type": "display_data"
        }
       ]
      }
     },
     "6eb83f4108364081aa2fec4d9ddd166a": {
      "model_module": "@jupyter-widgets/output",
      "model_module_version": "1.0.0",
      "model_name": "OutputModel",
      "state": {
       "layout": "IPY_MODEL_aa35041bf54a4dfdbecde7d74ef49913",
       "outputs": [
        {
         "ename": "NameError",
         "evalue": "name 'figure' is not defined",
         "output_type": "error",
         "traceback": [
          "\u001b[0;31m---------------------------------------------------------------------------\u001b[0m",
          "\u001b[0;31mNameError\u001b[0m                                 Traceback (most recent call last)",
          "\u001b[0;32m~/.local/lib/python3.6/site-packages/ipywidgets/widgets/interaction.py\u001b[0m in \u001b[0;36mupdate\u001b[0;34m(self, *args)\u001b[0m\n\u001b[1;32m    254\u001b[0m                     \u001b[0mvalue\u001b[0m \u001b[0;34m=\u001b[0m \u001b[0mwidget\u001b[0m\u001b[0;34m.\u001b[0m\u001b[0mget_interact_value\u001b[0m\u001b[0;34m(\u001b[0m\u001b[0;34m)\u001b[0m\u001b[0;34m\u001b[0m\u001b[0;34m\u001b[0m\u001b[0m\n\u001b[1;32m    255\u001b[0m                     \u001b[0mself\u001b[0m\u001b[0;34m.\u001b[0m\u001b[0mkwargs\u001b[0m\u001b[0;34m[\u001b[0m\u001b[0mwidget\u001b[0m\u001b[0;34m.\u001b[0m\u001b[0m_kwarg\u001b[0m\u001b[0;34m]\u001b[0m \u001b[0;34m=\u001b[0m \u001b[0mvalue\u001b[0m\u001b[0;34m\u001b[0m\u001b[0;34m\u001b[0m\u001b[0m\n\u001b[0;32m--> 256\u001b[0;31m                 \u001b[0mself\u001b[0m\u001b[0;34m.\u001b[0m\u001b[0mresult\u001b[0m \u001b[0;34m=\u001b[0m \u001b[0mself\u001b[0m\u001b[0;34m.\u001b[0m\u001b[0mf\u001b[0m\u001b[0;34m(\u001b[0m\u001b[0;34m**\u001b[0m\u001b[0mself\u001b[0m\u001b[0;34m.\u001b[0m\u001b[0mkwargs\u001b[0m\u001b[0;34m)\u001b[0m\u001b[0;34m\u001b[0m\u001b[0;34m\u001b[0m\u001b[0m\n\u001b[0m\u001b[1;32m    257\u001b[0m                 \u001b[0mshow_inline_matplotlib_plots\u001b[0m\u001b[0;34m(\u001b[0m\u001b[0;34m)\u001b[0m\u001b[0;34m\u001b[0m\u001b[0;34m\u001b[0m\u001b[0m\n\u001b[1;32m    258\u001b[0m                 \u001b[0;32mif\u001b[0m \u001b[0mself\u001b[0m\u001b[0;34m.\u001b[0m\u001b[0mauto_display\u001b[0m \u001b[0;32mand\u001b[0m \u001b[0mself\u001b[0m\u001b[0;34m.\u001b[0m\u001b[0mresult\u001b[0m \u001b[0;32mis\u001b[0m \u001b[0;32mnot\u001b[0m \u001b[0;32mNone\u001b[0m\u001b[0;34m:\u001b[0m\u001b[0;34m\u001b[0m\u001b[0;34m\u001b[0m\u001b[0m\n",
          "\u001b[0;32m<ipython-input-104-2af1ee88c1ba>\u001b[0m in \u001b[0;36mplot_first_query\u001b[0;34m(year)\u001b[0m\n\u001b[1;32m     18\u001b[0m     \u001b[0;31m# Plot it (only if there's data to plot)\u001b[0m\u001b[0;34m\u001b[0m\u001b[0;34m\u001b[0m\u001b[0;34m\u001b[0m\u001b[0m\n\u001b[1;32m     19\u001b[0m     \u001b[0;32mif\u001b[0m \u001b[0mlen\u001b[0m\u001b[0;34m(\u001b[0m\u001b[0mdf2\u001b[0m\u001b[0;34m)\u001b[0m \u001b[0;34m>\u001b[0m \u001b[0;36m0\u001b[0m\u001b[0;34m:\u001b[0m\u001b[0;34m\u001b[0m\u001b[0;34m\u001b[0m\u001b[0m\n\u001b[0;32m---> 20\u001b[0;31m         \u001b[0mfigure\u001b[0m\u001b[0;34m(\u001b[0m\u001b[0mfigsize\u001b[0m\u001b[0;34m=\u001b[0m\u001b[0;34m(\u001b[0m\u001b[0;36m1\u001b[0m\u001b[0;34m,\u001b[0m\u001b[0;36m1\u001b[0m\u001b[0;34m)\u001b[0m\u001b[0;34m)\u001b[0m\u001b[0;34m\u001b[0m\u001b[0;34m\u001b[0m\u001b[0m\n\u001b[0m\u001b[1;32m     21\u001b[0m         \u001b[0mplt\u001b[0m\u001b[0;34m.\u001b[0m\u001b[0mxticks\u001b[0m\u001b[0;34m(\u001b[0m\u001b[0mweek\u001b[0m\u001b[0;34m)\u001b[0m\u001b[0;34m\u001b[0m\u001b[0;34m\u001b[0m\u001b[0m\n\u001b[1;32m     22\u001b[0m         \u001b[0mplt\u001b[0m\u001b[0;34m.\u001b[0m\u001b[0mbar\u001b[0m\u001b[0;34m(\u001b[0m\u001b[0mweek\u001b[0m\u001b[0;34m,\u001b[0m\u001b[0mmycount\u001b[0m\u001b[0;34m)\u001b[0m\u001b[0;34m\u001b[0m\u001b[0;34m\u001b[0m\u001b[0m\n",
          "\u001b[0;31mNameError\u001b[0m: name 'figure' is not defined"
         ]
        }
       ]
      }
     },
     "6f2113afce7345169f6cfb89a086d5d4": {
      "model_module": "@jupyter-widgets/output",
      "model_module_version": "1.0.0",
      "model_name": "OutputModel",
      "state": {
       "layout": "IPY_MODEL_76a86f7ee2a84b25a4b64bf065a2ee30",
       "outputs": [
        {
         "data": {
          "image/png": "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\n",
          "text/plain": "<Figure size 432x288 with 1 Axes>"
         },
         "metadata": {
          "needs_background": "light"
         },
         "output_type": "display_data"
        }
       ]
      }
     },
     "6f3ab6592b7f4a269eab4bd9f4944761": {
      "model_module": "@jupyter-widgets/base",
      "model_module_version": "1.2.0",
      "model_name": "LayoutModel",
      "state": {}
     },
     "70b32903c7ec4d548d3ee9310e10ea71": {
      "model_module": "@jupyter-widgets/controls",
      "model_module_version": "1.5.0",
      "model_name": "DescriptionStyleModel",
      "state": {
       "description_width": ""
      }
     },
     "721a8436d7074bb9a59f18ad3797b14e": {
      "model_module": "@jupyter-widgets/controls",
      "model_module_version": "1.5.0",
      "model_name": "DescriptionStyleModel",
      "state": {
       "description_width": ""
      }
     },
     "7550ec512cda4869ad324717ba7ee6b9": {
      "model_module": "@jupyter-widgets/base",
      "model_module_version": "1.2.0",
      "model_name": "LayoutModel",
      "state": {}
     },
     "7624a346d5f74902808bb1152883ef9d": {
      "model_module": "@jupyter-widgets/controls",
      "model_module_version": "1.5.0",
      "model_name": "DropdownModel",
      "state": {
       "_options_labels": [
        "2012",
        "2013",
        "2014",
        "2015",
        "2016",
        "2017"
       ],
       "description": "Year:",
       "index": 0,
       "layout": "IPY_MODEL_af0cd3bf62964584a827847202b29e27",
       "style": "IPY_MODEL_8cc21ff76c554f8e8b35923d4881682a"
      }
     },
     "7694ce9739454a6f9497f32fcdc359df": {
      "model_module": "@jupyter-widgets/controls",
      "model_module_version": "1.5.0",
      "model_name": "VBoxModel",
      "state": {
       "_dom_classes": [
        "widget-interact"
       ],
       "children": [
        "IPY_MODEL_8dff0455dc4c479fb63b38933da00ad1",
        "IPY_MODEL_12ccf580b7f348c2b3748ae459a41372"
       ],
       "layout": "IPY_MODEL_56811a3416394efda2aba106a84cbd38"
      }
     },
     "76a86f7ee2a84b25a4b64bf065a2ee30": {
      "model_module": "@jupyter-widgets/base",
      "model_module_version": "1.2.0",
      "model_name": "LayoutModel",
      "state": {}
     },
     "77de853a2e2d4002895b0137d6a98ab3": {
      "model_module": "@jupyter-widgets/output",
      "model_module_version": "1.0.0",
      "model_name": "OutputModel",
      "state": {
       "layout": "IPY_MODEL_1356d38ddba349e9b7cc835eea249515",
       "outputs": [
        {
         "data": {
          "image/png": "iVBORw0KGgoAAAANSUhEUgAAAXAAAAD4CAYAAAD1jb0+AAAABHNCSVQICAgIfAhkiAAAAAlwSFlzAAALEgAACxIB0t1+/AAAADh0RVh0U29mdHdhcmUAbWF0cGxvdGxpYiB2ZXJzaW9uMy4yLjEsIGh0dHA6Ly9tYXRwbG90bGliLm9yZy+j8jraAAAYBElEQVR4nO3df9RdVX3n8feGKBIgoPJIEUxDZykjxVYxtVCFUkBLY6fxB+3AGih2cDKtyxGr6GBdg1LqD/xZ6Tg6KAzOwGg7aNXiLyxIQalRAhECIYISQ/gN4UdCEkLgO3/s7/GeXPLzuZckG96vtZ6V59nPvvvsfc7Zn7PvuffJLRGBJKk9O2zrDkiSJscAl6RGGeCS1CgDXJIaZYBLUqOmbM2N7bnnnjFjxoytuUlJat68efPujYiJ4fKtGuAzZszgqquu2pqblKTmlVJ+sb5yb6FIUqMMcElqlAEuSY0ywCWpUQa4JDXKAJekRhngktQoA1ySGmWAS1KjtupfYkrSU8mMU7/xhLLFH37tVtu+K3BJapQBLkmNMsAlqVEGuCQ1ygCXpEYZ4JLUKANckhplgEtSowxwSWqUAS5JjTLAJalRBrgkNcoAl6RGGeCS1KhNBngp5dxSyt2llAW9sueUUr5bSrkp/332k9tNSdKwzVmBnwccPVR2KnBJRLwQuCR/liRtRZsM8Ii4HFg2VDwb+EJ+/wXgdWPulyRpEyZ7D3yviLgjv78T2GtM/ZEkbaaRP1ItIqKUEhv6fSllDjAHYPr06aNuTnpa2dYf2aXt22RX4HeVUvYGyH/v3lDFiDg7ImZGxMyJiYlJbk6SNGyyAf514MT8/kTga+PpjiRpc23O2wi/CPwrsH8pZWkp5STgw8CrSyk3AUflz5KkrWiT98Aj4rgN/OrIMfdFkrQF/EtMSWqUAS5JjTLAJalRBrgkNcoAl6RGGeCS1CgDXJIaZYBLUqMMcElqlAEuSY0ywCWpUQa4JDXKAJekRo38iTySnlr8FKB2uAKXpEYZ4JLUKANckhplgEtSowxwSWqUAS5JjTLAJalRBrgkNcoAl6RGGeCS1CgDXJIaZYBLUqMMcElqlAEuSY0ywCWpUSMFeCnlL0sp15dSFpRSvlhKeda4OiZJ2rhJB3gpZR/gbcDMiDgQ2BE4dlwdkyRt3Ki3UKYAO5dSpgBTgdtH75IkaXNM+iPVIuK2UsrHgCXAKuDiiLh4uF4pZQ4wB2D69OmT3ZykMXsyPzrNj2XbOka5hfJsYDawH/B8YJdSyvHD9SLi7IiYGREzJyYmJt9TSdI6RrmFchRwS0TcExGPAl8Bfmc83ZIkbcooAb4EOLiUMrWUUoAjgYXj6ZYkaVMmHeARMRe4ELgauC7bOntM/ZIkbcKkX8QEiIj3Ae8bU18kSVvAv8SUpEYZ4JLUKANckhplgEtSowxwSWqUAS5JjTLAJalRBrgkNcoAl6RGGeCS1CgDXJIaZYBLUqMMcElq1Ej/G6GkLTf8cWNb46PGtsU2N6cfsP191Nr2sq82hytwSWqUAS5JjTLAJalRBrgkNcoAl6RGGeCS1CgDXJIaZYBLUqMMcElqlAEuSY0ywCWpUQa4JDXKAJekRhngktQoA1ySGjVSgJdS9iilXFhKubGUsrCUcsi4OiZJ2rhRP9DhU8C3I+KYUsozgalj6JMkaTNMOsBLKbsDhwFvAoiINcCa8XRLkrQpo6zA9wPuAf5XKeU3gXnAyRHxcL9SKWUOMAdg+vTpI2xO2ra2p48D25768nSwve7vUe6BTwEOAj4TES8DHgZOHa4UEWdHxMyImDkxMTHC5iRJfaME+FJgaUTMzZ8vpAa6JGkrmHSAR8SdwK2llP2z6EjghrH0SpK0SaO+C+W/ABfkO1B+DvzZ6F2SJG2OkQI8IuYDM8fUF0nSFvAvMSWpUQa4JDXKAJekRhngktQoA1ySGmWAS1KjDHBJapQBLkmNMsAlqVEGuCQ1ygCXpEYZ4JLUKANckho16n8nKz0lDX+E1mQ+Pmt7/RguPXW4ApekRhngktQoA1ySGmWAS1KjDHBJapQBLkmNMsAlqVEGuCQ1ygCXpEYZ4JLUKANckhplgEtSowxwSWqUAS5JjRo5wEspO5ZSrimlXDSODkmSNs84VuAnAwvH0I4kaQuMFOCllH2B1wKfH093JEmba9RP5Plb4N3AbhuqUEqZA8wBmD59+oibk8bLT81pz4aO2dPxWE56BV5K+UPg7oiYt7F6EXF2RMyMiJkTExOT3Zwkacgot1BeCfxRKWUx8CXgiFLK+WPplSRpkyYd4BHxnojYNyJmAMcCl0bE8WPrmSRpo3wfuCQ1atQXMQGIiMuAy8bRliRp87gCl6RGGeCS1CgDXJIaZYBLUqMMcElqlAEuSY0ywCWpUQa4JDXKAJekRhngktQoA1ySGmWAS1KjDHBJatRY/jdCSU9fwx9lNpmPMXs6fhzaOLgCl6RGGeCS1CgDXJIaZYBLUqMMcElqlAEuSY0ywCWpUQa4JDXKAJekRhngktQoA1ySGmWAS1KjDHBJapQBLkmNMsAlqVGTDvBSygtKKd8rpdxQSrm+lHLyODsmSdq4UT7QYS3wzoi4upSyGzCvlPLdiLhhTH2TJG3EpFfgEXFHRFyd3y8HFgL7jKtjkqSNG8tHqpVSZgAvA+au53dzgDkA06dPH8fmJG0D4/jotG2xzafyx7WN/CJmKWVX4MvA2yPioeHfR8TZETEzImZOTEyMujlJUhopwEspz6CG9wUR8ZXxdEmStDlGeRdKAc4BFkbEJ8bXJUnS5hhlBf5K4ATgiFLK/PyaNaZ+SZI2YdIvYkbE94Eyxr5IkraAf4kpSY0ywCWpUQa4JDXKAJekRhngktQoA1ySGmWAS1KjDHBJapQBLkmNMsAlqVEGuCQ1ygCXpEYZ4JLUqLF8pJr0dDauj+x6Mj4+7Kny0WFPhqfCvnIFLkmNMsAlqVEGuCQ1ygCXpEYZ4JLUKANckhplgEtSowxwSWqUAS5JjTLAJalRBrgkNcoAl6RGGeCS1CgDXJIaZYBLUqNGCvBSytGllEWllJtLKaeOq1OSpE2bdICXUnYEPg38AXAAcFwp5YBxdUyStHGjrMBfAdwcET+PiDXAl4DZ4+mWJGlTSkRM7oGlHAMcHRFvzp9PAH47It46VG8OMCd/3B9YNPnuArAncO+TVN5q29tim7a9fWzTtrePbW5pG1vqVyNi4gmlETGpL+AY4PO9n08A/vtk29uC7V71ZJW32vZTbTyttv1UG0+rbbcwnnF9jXIL5TbgBb2f980ySdJWMEqA/xh4YSllv1LKM4Fjga+Pp1uSpE2ZMtkHRsTaUspbge8AOwLnRsT1Y+vZhp39JJa32va22KZtbx/btO3tY5tb2sZYTPpFTEnStuVfYkpSowxwSWrVk/kWl3F+AecCdwMLhspfAHwPuAG4HjgZeBbwI+AnWXb60GN2BK4BLuqVLQauA+bTe+sPsAdwIXAjsBA4hPp+9vm9r4eAtwN/mdtbAHwReFa2cXKW3Q8s748BeA713TtrgRXAs7P8j7N+UP9gqqt/XdZdDfxj9u8MYBnwaLb//KH9tjzb2TPL3g88nPVXAbOG6j6S4/gI8PfAfVl3DTA/6740j0fXxiuy/DXAg9m/5cC7s/zA7OMjOc5Ts/zPsy8B/Aw4Ocs/m+Wrc/+emsd6cZatymPy/N45cGe281fZxidye139z/bOmZ/2fndJlt3Vq3tfHtvf741nFfDxbOO3cnyr8t8PZfn+Ob5H8nFnUM/HxVkWwEey7hfz8avyWJ+R5ecBK7P8QeCDWd6d1/cAj5HnNfB/su2urc/26t6Vv7sHeBvw/dyvq/LY3ZhtHN0rfxg4K8uPAK7O8lupr5vtB8wFbs5+fyPrvjXLAriWnF/ABdS//1iQ+7Wrfw51jq4C7gB27Z23f5djvKi3T27JY7ISuDzLC/CBPJ6rybkFXNGruxr4KnBkjmV+HqNLe2PszoVl5Pynzs1V+bvlwDW9ubkmx7moV/+jDObDA736Z+T+mA9cTG9+jpyL2zqYtyDADwMO4okBvjdwUH6/Wx7IA7qTAXhGnmwH9x7zDuD/8sQA33M92/0C8Ob8/pnAHuu5GNxJ/cvUW4Cds/wfgDdRg2sBMBX4vezLT3uP/wh1wh2U7ZyZ5S8G/gNwFesG+Dup4bEAODO/pvX2z+1kUGX9NwJX5gnXD/BPD+9P6oVmLnB9/vy8oX1/L3Ball0MvCvLFwOXZfn83v56C3XCHpDb60LhNOpEOQA4FHg9cFlupzt+xwK/lfU/mfUPAw7tHeu7qReYvan/pcN3gCXUEDkA+BjwyfWcG2/Mce6U5T/rxtiru4waIpcBb+3ty5XZxo+pf8gG8J+oF+GD87ifmOVnU8+Jg4HfAWbkvpqXZbOAXakh9KVe3WkMzt+/zTEdnPUOpQb2ihzDwdRwO374fKdeHP839bydm/uo9Nr+So794Nw3L+8F8T3Z51uBD1Hny0+Bk3KMx1Ln0U3Adfm4l+UYlwFfZhC+s3K778jxd/WnMZiLP2dwUZ9JPe8fZd0AP4ahuQv8WY7xnVl+8Xrm+R3An2b/X5zlP86x7ZD/LqX+0c1fAyf15ub9WX4q687NpcAPgJm97b0mx7cnOTe7cfbqvI3e/Bz1q5lbKBFxOfXEGC6/IyKuzu+XU1fJ+0TEiqzyjPyql+tS9gVeC3x+U9sspexOndjnZPtrIuKBoWpHUifBbdTVyc6llCnUwL6derDnRsTKiPgedQU0rff42cDpObYHgNflthZGxAXU1XZ/vB+nTi6AHwL7RsRDvf2zQzfWdBx1BTDsFp64P18JnNU9PiLuzn+7tnenrhrJOkuyfMccK9TV2Tn5/T9Rw2Mf4ChqEAB8jnpM9omIKyLiH7N8JYPj96WI+HGWX05dFe4UEVdkn5ZTLyhTI+IOarC8G3icGir7UEPutl79hVn+74H3RsQjWb4g2746t7cC2JkatN3qlRzLsmzjRdQLBtSQf07ukyOoK06o4fHcuvm4MiIWU4NsSpZ9MyJWRJ3ZV1NXzZHHc0UppQC75P4N6rH96xwn9M5r6uqxK+vK/2PWn5Jly6JaUUqZRl1QdM/OgsG70p5DXf12X6+gzpd7qRexI4B/pc6jTwF75T6+hnq+7ky9yJDl38x99lrgGzlOqPOgm4s7AJH/x9JZ1FXsOud+9mt47v4F9UI5K8vXwDrzvDsGX80x/pssn5/77Ln5mG5b380xQp2bXY58gd7cXE/fiIiLez/+kPq3MUTEQ73yXVh3fo5mXFeCrfFFvbov2MTvl1BPjB0ZPFU6s1fnQuDlwOGsuwK/hTqJ5gFzsuyl1Keh51FvuXwe2GVom+cyWKGdnNu7B7ggBlfrn1JPlKm5jft6j3+gP7bu597vf0hvBT5U958YrLw+QA3R1cBEls2mTrAZPHEFvpgaaPczuG0zn7riWwn8C7kCzt/9CbCq9/OLc1/fTl0p/WqWXwm8Lr8/gxqo0/rjyv48zrork8uAf9cdv6Hx/jM1PKYNjXUN9YIxG/hU/m5pfk3rjfNa6qrx1iyfT71ozs39e+dQX/6EGtzTeuO8NevdluVXAm/Ith7Jrz2pq//u3HsYuCfb7MoeJ5+JDJU/Rp4zMVhxPkoNiu62zcnU1eN8agic2au7iBp6a4CPZfl91NXnY9QV7gt72/xFtt21cWjWX5N9/CT1YvMwcDx1vtxCvVV5M4N59MfAQ0Pz6/Y8JhcNlf82dS5c2Sv7OvWieC91fpxMva3y8hxPfwW+nHpx/n/AN3tjXJD9msvgtkjXvw8Cd/TG+Aj1ttJi4Ns5xl/kcb06f7e0m5usmwsrh/KiWxTMWU+OPACc0yv/APUcWkDOz7Fk4rYO5S3q7EYCnPpUdB7whqHyPaj3Rw8E/hD4H1l++NAJtk/++7w8gQ6jPpVbS/0/XqCG4Rm9xzwzT7y9gGcDlwIT1NXOVxmE60nZt8uB84F7e20MB/j9Q/3fUIDfRb0HXobK76SG09Q8oXfniQG+F3US70e9DXFuli+gTpQFDG4JdW81Pb+bCPnzWdSVygxqwP1zlv9b6u2Va6gTefnQOLvjtGJoTFfkZBg+fqdTLzJv6JV1bZyfE6Mb567UCXri0Dh3owbZJb1x/l3WX5j7svTavgc4b2icu1JD8CdD45xHfWbxKPAq1r3d9evUC/qBvbIl1Gdh/bLPAZ8hz9Ne+Y7URcNC6vn4fWBK/m4Fg/N6b2oQ7cTgdsSBWeed1DlwHTCv1/a3qP/9RdfGVxic5/8tj91bqLdCumNzU7ZzO4N59MsAJ+cXNRx/GeC98s9Rg/Ui1p2LR+RjuteQPpPl/QA/IdvYiRq8i3p1ftDr931Dbc9lcI/6SuDC/P4zwJL8/pCs9yPq6yarcn8/wLq5sBY4rMsL6qLj1WRe9MrfS32m8cvy3n5/D0OvyY2UidsykLe4sxsIcGpgfgd4xwYedxpwCnWiLc2T5U7qSvP89dR/f9b/FWBxr/xQ8gWY/Hk2ec8tT+T+FfdPu5NoqO1PA7f3fl5EnYAzqC/KLRqqv74APyX7PnU9+6d7segl1HBenGMOanj8yvrq58/fpt7b7H7+GfWCNIUaajf2HvsgNTRm5Pb6q7DueHwI+FFvnC/I8vf1x5n1lwGfGBrPSTmJ/uv6jjUwnRoq3ThXUVebvxxnr/4ZQ+M8qtdON85nUEN5OfXWVDfO/jYf6vcx67wo9/G7qBf0LmQPyf6d0qu7GPhwV5b74qvUWwin9evm7w/Lffc+6jm7OL8ep4bVcP3Ds/4p1PNpv94cWJXf75mPfVaWvwv4Wa+N6blPL2Hd+bKaulpd2Su/L/f5+Qzm11rqRXFlr/zB/LmbdwvW0/Ya6kVnbX5FjrPf9mLqudJts3uW0bUTvbaX5ONXUgP1/l4bd3dtD+2/11AvIqfkftw7y/fOY9s/lpdRF3nv7x3PN1FvL03tlw/t2w3eRdjSr2bugW9I3ic8B1gYEZ/IsolSyh75/c7Uq+SNEfGeiNg3ImZQg+rSiDi+lLJLKWW3rL8L9SAuiIg7gVtLKfvn5o6kPlXrHMfgnvAS4OBSytTs05HUVQullOflv9Opr/b376N/HTgxv98D+Nomxns08J+BX0TEyix7Ya/KbjnW6yLieTnWV1FXiAdFxJ2llL179adRT3ioQXJItvkiBs8wjqKGXP++3+3A7+b3u1CDqhvrOQzuN3+2N86vZfkj3Th7x28ldfXYH+fHgb+PiDN7df+BwbGeTV3l7EV9dvM/qU9T++Ps+rJsaJwfz/KLeuM8h3rL4OqIWNob50VZ9ye9cb64lLJHKWUHarh29+9/QL14Q70HXYDbu/Mxf/5d4MZSytup926Po64sXw0sKqW8Itsu1Ns0u1BX+i8BXprHdCX1XLyxlPLrvfpvZPD6y7eA38s5cAz1XJ6grmYvyr68Ovu9Rynl5dnHWdQLyidzX87Ix6ygvmj4DWowzcjx3hARx3fzixqSc8j5RT13rqfeRjyW+kz1JcDhvbl4G/XW0q4RMSUiplBD/ZvZxlnZ9n75+Fuy/HPU1zNmUC+MD0bEgVn3g9QL8qV5rjwGHJF1zwPuyvk/o5SyWyllJ+oKubsIfIv6AjXAm6nn7YJ+XlAvgq/J8tnUFzv/KPdtV96fn7OpF9bxGNeV4Mn+ogblHdQgWsrgleJXMXjbUve2vrdQn8JfmwfitPW0dziDp2e/Rp2c3dsO39ur91LqK+LXUid+d794F+rVf/de3dPz4CygvoizU5ZfQZ1s9zN4S95S6grzudSVw1rqiuC2LH89dZJGfq3O8uXUEzGoK5bLqE9zH8h2H6dO3pOG9lt05dm3J9SnvqNjVa/tj2YbP6euoPr9fhWDty4+Tl1xnUS9hx4M7jXOpwbCrF75cupT8VnAXzFYaT1KfcvgLAbPGrq3xt1LXRV1+6J7i90JQ+fAml7b3+618WAel1l57Lt2VlLv6XZtL6NeBLp+/0WvjYepq7JZ1HcZrGbwImf37pw/yHrd2whPB34jx9O99ewh6q2Rtaz79r9LqMF5Tf68Oo/TB7Lt32BwXj/W2+bcofp/k3WvzW2tzjH9ZpYvz2O6oNfG23v9eJjBu3c+Sg34JQzenfRr1NsNN1PPv+5+9NsYrMDvZXCLYi01xOfnYxblOH+Qx+qWfNzwax/9WyiXZt0F1Bcav5Xle1AvKNdR5+6/DK2Q391r4/VZ7yfZl+5++dm5j1ZT58p7s/wgBm+rXQH8TZb/OYPXCtYCN8Xg2dWa3n6cm+Vfzn5fS33dap9x5aJ/Si9JjWr+FookPV0Z4JLUKANckhplgEtSowxwSWqUAS5JjTLAJalR/x9ZGNIcakh+KAAAAABJRU5ErkJggg==\n",
          "text/plain": "<Figure size 432x288 with 1 Axes>"
         },
         "metadata": {
          "needs_background": "light"
         },
         "output_type": "display_data"
        }
       ]
      }
     },
     "78060b00a59e4cdeba4dc950ada26269": {
      "model_module": "@jupyter-widgets/controls",
      "model_module_version": "1.5.0",
      "model_name": "DescriptionStyleModel",
      "state": {
       "description_width": ""
      }
     },
     "7898541cc4bf4a20bf152fc67cd52a78": {
      "model_module": "@jupyter-widgets/base",
      "model_module_version": "1.2.0",
      "model_name": "LayoutModel",
      "state": {}
     },
     "79ba040bb44d4444a45efbfaaed6d9e1": {
      "model_module": "@jupyter-widgets/controls",
      "model_module_version": "1.5.0",
      "model_name": "DropdownModel",
      "state": {
       "_options_labels": [
        "2012",
        "2013",
        "2014",
        "2015",
        "2016",
        "2017"
       ],
       "description": "Year:",
       "index": 0,
       "layout": "IPY_MODEL_ed557db0fef045d692152e6f3f9d6c94",
       "style": "IPY_MODEL_6821ef8b57bf43488959e1cc4e91ac4b"
      }
     },
     "7c632af6d3c6425886fc508a2712cf28": {
      "model_module": "@jupyter-widgets/output",
      "model_module_version": "1.0.0",
      "model_name": "OutputModel",
      "state": {
       "layout": "IPY_MODEL_7f10999098b44f78b9725415b5745e0a",
       "outputs": [
        {
         "data": {
          "image/png": "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\n",
          "text/plain": "<Figure size 432x288 with 1 Axes>"
         },
         "metadata": {
          "needs_background": "light"
         },
         "output_type": "display_data"
        }
       ]
      }
     },
     "7def9d5748ec43f7b39c7cdd7be8b294": {
      "model_module": "@jupyter-widgets/base",
      "model_module_version": "1.2.0",
      "model_name": "LayoutModel",
      "state": {}
     },
     "7f10999098b44f78b9725415b5745e0a": {
      "model_module": "@jupyter-widgets/base",
      "model_module_version": "1.2.0",
      "model_name": "LayoutModel",
      "state": {}
     },
     "7f2a1c2448a0422b84dcfdbf70c29951": {
      "model_module": "@jupyter-widgets/controls",
      "model_module_version": "1.5.0",
      "model_name": "DropdownModel",
      "state": {
       "_options_labels": [
        "2012",
        "2013",
        "2014",
        "2015",
        "2016",
        "2017"
       ],
       "description": "Year:",
       "index": 0,
       "layout": "IPY_MODEL_eeff19c76fb84c0b94de8c7f11fe6724",
       "style": "IPY_MODEL_d6720b70c6504aa199f40f2bd0093008"
      }
     },
     "7fac0928780a46d195ed6fd8bb506684": {
      "model_module": "@jupyter-widgets/controls",
      "model_module_version": "1.5.0",
      "model_name": "DropdownModel",
      "state": {
       "_options_labels": [
        "2012",
        "2013",
        "2014",
        "2015",
        "2016",
        "2017"
       ],
       "description": "Year:",
       "index": 5,
       "layout": "IPY_MODEL_f68a2d275922497cab08f6ff5355cff6",
       "style": "IPY_MODEL_273b47c282474656936247cb8e2efbbe"
      }
     },
     "7fce602b27a14a15b4ee9e7fa92f0dce": {
      "model_module": "@jupyter-widgets/controls",
      "model_module_version": "1.5.0",
      "model_name": "DropdownModel",
      "state": {
       "_options_labels": [
        "27",
        "28",
        "29",
        "30",
        "31",
        "32",
        "33",
        "34",
        "35",
        "36",
        "37",
        "38",
        "39",
        "40",
        "41",
        "42",
        "43",
        "44",
        "45",
        "46",
        "47",
        "48",
        "49",
        "50",
        "51",
        "52",
        "1",
        "2",
        "3",
        "4",
        "5",
        "6",
        "7",
        "8",
        "9",
        "10",
        "11",
        "12",
        "13",
        "14",
        "15",
        "16",
        "17",
        "18",
        "19",
        "20",
        "21",
        "22",
        "23",
        "24",
        "25",
        "26"
       ],
       "description": "Week:",
       "index": 37,
       "layout": "IPY_MODEL_5402cf93ec6746af927775db64e906e1",
       "style": "IPY_MODEL_ac563142bdd4427fbac4712753d92761"
      }
     },
     "80d4de6f64084db68d4230484be643ad": {
      "model_module": "@jupyter-widgets/base",
      "model_module_version": "1.2.0",
      "model_name": "LayoutModel",
      "state": {}
     },
     "8261216acde0414e87179b591ec032b1": {
      "model_module": "@jupyter-widgets/base",
      "model_module_version": "1.2.0",
      "model_name": "LayoutModel",
      "state": {}
     },
     "835d6a8bda544003925ef2be93fe5cb9": {
      "model_module": "@jupyter-widgets/base",
      "model_module_version": "1.2.0",
      "model_name": "LayoutModel",
      "state": {}
     },
     "84b70af2e3484812a4fe08a3c684a5ef": {
      "model_module": "@jupyter-widgets/controls",
      "model_module_version": "1.5.0",
      "model_name": "VBoxModel",
      "state": {
       "_dom_classes": [
        "widget-interact"
       ],
       "children": [
        "IPY_MODEL_949eceb79624408e888323f6158dd9fd",
        "IPY_MODEL_6d4bdff55a64407db4ef781e76b0765f"
       ],
       "layout": "IPY_MODEL_80d4de6f64084db68d4230484be643ad"
      }
     },
     "854c44a04e6643c495c2a335b6071d49": {
      "model_module": "@jupyter-widgets/controls",
      "model_module_version": "1.5.0",
      "model_name": "VBoxModel",
      "state": {
       "_dom_classes": [
        "widget-interact"
       ],
       "children": [
        "IPY_MODEL_2b27492b9468429c960d7c804ed7c8f0",
        "IPY_MODEL_c6554c38c2b64e1483f0b63dc00b0b9f"
       ],
       "layout": "IPY_MODEL_3996c24cfb2b4c1993dda4ab789b2715"
      }
     },
     "88d40c595a5f407da0748f530a814f67": {
      "model_module": "@jupyter-widgets/controls",
      "model_module_version": "1.5.0",
      "model_name": "DropdownModel",
      "state": {
       "_options_labels": [
        "All",
        "Dhaka",
        "Khulna"
       ],
       "description": "Area:",
       "index": 0,
       "layout": "IPY_MODEL_3dc49620a0964e16876d1d26cc68a437",
       "style": "IPY_MODEL_eed3799beaaa4fe888d53ab0ebad2586"
      }
     },
     "8b25ae3aea174f518cdc21932a07a391": {
      "model_module": "@jupyter-widgets/controls",
      "model_module_version": "1.5.0",
      "model_name": "DescriptionStyleModel",
      "state": {
       "description_width": ""
      }
     },
     "8cc21ff76c554f8e8b35923d4881682a": {
      "model_module": "@jupyter-widgets/controls",
      "model_module_version": "1.5.0",
      "model_name": "DescriptionStyleModel",
      "state": {
       "description_width": ""
      }
     },
     "8d1553d3ab47432ba7e07b107b851c76": {
      "model_module": "@jupyter-widgets/controls",
      "model_module_version": "1.5.0",
      "model_name": "VBoxModel",
      "state": {
       "_dom_classes": [
        "widget-interact"
       ],
       "children": [
        "IPY_MODEL_0b20ab5078c94575b41a7f2d4884adb4",
        "IPY_MODEL_f4790c3752104533a93b997c3b25f852"
       ],
       "layout": "IPY_MODEL_c230c9ead1a34657bd056378e654c81e"
      }
     },
     "8dff0455dc4c479fb63b38933da00ad1": {
      "model_module": "@jupyter-widgets/controls",
      "model_module_version": "1.5.0",
      "model_name": "DropdownModel",
      "state": {
       "_options_labels": [
        "2012",
        "2013",
        "2014",
        "2015",
        "2016",
        "2017"
       ],
       "description": "Year:",
       "index": 0,
       "layout": "IPY_MODEL_1b7919a65b6c4bfdbd170c2111009c86",
       "style": "IPY_MODEL_4035c2bdc1674fdc929b367684b1a955"
      }
     },
     "8ea6092ff2af401fbcfbdcfc1631ef9e": {
      "model_module": "@jupyter-widgets/controls",
      "model_module_version": "1.5.0",
      "model_name": "DescriptionStyleModel",
      "state": {
       "description_width": ""
      }
     },
     "8f0924962ab34be994987f3edd02e83d": {
      "model_module": "@jupyter-widgets/output",
      "model_module_version": "1.0.0",
      "model_name": "OutputModel",
      "state": {
       "layout": "IPY_MODEL_563b157eb3a241c8b4821b78fe79c342",
       "outputs": [
        {
         "ename": "NameError",
         "evalue": "name 'x' is not defined",
         "output_type": "error",
         "traceback": [
          "\u001b[0;31m---------------------------------------------------------------------------\u001b[0m",
          "\u001b[0;31mNameError\u001b[0m                                 Traceback (most recent call last)",
          "\u001b[0;32m~/.local/lib/python3.6/site-packages/ipywidgets/widgets/interaction.py\u001b[0m in \u001b[0;36mupdate\u001b[0;34m(self, *args)\u001b[0m\n\u001b[1;32m    254\u001b[0m                     \u001b[0mvalue\u001b[0m \u001b[0;34m=\u001b[0m \u001b[0mwidget\u001b[0m\u001b[0;34m.\u001b[0m\u001b[0mget_interact_value\u001b[0m\u001b[0;34m(\u001b[0m\u001b[0;34m)\u001b[0m\u001b[0;34m\u001b[0m\u001b[0;34m\u001b[0m\u001b[0m\n\u001b[1;32m    255\u001b[0m                     \u001b[0mself\u001b[0m\u001b[0;34m.\u001b[0m\u001b[0mkwargs\u001b[0m\u001b[0;34m[\u001b[0m\u001b[0mwidget\u001b[0m\u001b[0;34m.\u001b[0m\u001b[0m_kwarg\u001b[0m\u001b[0;34m]\u001b[0m \u001b[0;34m=\u001b[0m \u001b[0mvalue\u001b[0m\u001b[0;34m\u001b[0m\u001b[0;34m\u001b[0m\u001b[0m\n\u001b[0;32m--> 256\u001b[0;31m                 \u001b[0mself\u001b[0m\u001b[0;34m.\u001b[0m\u001b[0mresult\u001b[0m \u001b[0;34m=\u001b[0m \u001b[0mself\u001b[0m\u001b[0;34m.\u001b[0m\u001b[0mf\u001b[0m\u001b[0;34m(\u001b[0m\u001b[0;34m**\u001b[0m\u001b[0mself\u001b[0m\u001b[0;34m.\u001b[0m\u001b[0mkwargs\u001b[0m\u001b[0;34m)\u001b[0m\u001b[0;34m\u001b[0m\u001b[0;34m\u001b[0m\u001b[0m\n\u001b[0m\u001b[1;32m    257\u001b[0m                 \u001b[0mshow_inline_matplotlib_plots\u001b[0m\u001b[0;34m(\u001b[0m\u001b[0;34m)\u001b[0m\u001b[0;34m\u001b[0m\u001b[0;34m\u001b[0m\u001b[0m\n\u001b[1;32m    258\u001b[0m                 \u001b[0;32mif\u001b[0m \u001b[0mself\u001b[0m\u001b[0;34m.\u001b[0m\u001b[0mauto_display\u001b[0m \u001b[0;32mand\u001b[0m \u001b[0mself\u001b[0m\u001b[0;34m.\u001b[0m\u001b[0mresult\u001b[0m \u001b[0;32mis\u001b[0m \u001b[0;32mnot\u001b[0m \u001b[0;32mNone\u001b[0m\u001b[0;34m:\u001b[0m\u001b[0;34m\u001b[0m\u001b[0;34m\u001b[0m\u001b[0m\n",
          "\u001b[0;32m<ipython-input-100-073ebf119df9>\u001b[0m in \u001b[0;36mplot_first_query\u001b[0;34m(year)\u001b[0m\n\u001b[1;32m     18\u001b[0m     \u001b[0;31m# Plot it (only if there's data to plot)\u001b[0m\u001b[0;34m\u001b[0m\u001b[0;34m\u001b[0m\u001b[0;34m\u001b[0m\u001b[0m\n\u001b[1;32m     19\u001b[0m     \u001b[0;32mif\u001b[0m \u001b[0mlen\u001b[0m\u001b[0;34m(\u001b[0m\u001b[0mdf2\u001b[0m\u001b[0;34m)\u001b[0m \u001b[0;34m>\u001b[0m \u001b[0;36m0\u001b[0m\u001b[0;34m:\u001b[0m\u001b[0;34m\u001b[0m\u001b[0;34m\u001b[0m\u001b[0m\n\u001b[0;32m---> 20\u001b[0;31m         \u001b[0mplt\u001b[0m\u001b[0;34m.\u001b[0m\u001b[0mxticks\u001b[0m\u001b[0;34m(\u001b[0m\u001b[0mx\u001b[0m\u001b[0;34m)\u001b[0m\u001b[0;34m\u001b[0m\u001b[0;34m\u001b[0m\u001b[0m\n\u001b[0m\u001b[1;32m     21\u001b[0m         \u001b[0mplt\u001b[0m\u001b[0;34m.\u001b[0m\u001b[0mbar\u001b[0m\u001b[0;34m(\u001b[0m\u001b[0mweek\u001b[0m\u001b[0;34m,\u001b[0m\u001b[0mmycount\u001b[0m\u001b[0;34m)\u001b[0m\u001b[0;34m\u001b[0m\u001b[0;34m\u001b[0m\u001b[0m\n\u001b[1;32m     22\u001b[0m         \u001b[0mplt\u001b[0m\u001b[0;34m.\u001b[0m\u001b[0mshow\u001b[0m\u001b[0;34m(\u001b[0m\u001b[0;34m)\u001b[0m\u001b[0;34m;\u001b[0m\u001b[0;34m\u001b[0m\u001b[0;34m\u001b[0m\u001b[0m\n",
          "\u001b[0;31mNameError\u001b[0m: name 'x' is not defined"
         ]
        }
       ]
      }
     },
     "901ca2bc073042dc85a8685eb2b20e5b": {
      "model_module": "@jupyter-widgets/controls",
      "model_module_version": "1.5.0",
      "model_name": "VBoxModel",
      "state": {
       "_dom_classes": [
        "widget-interact"
       ],
       "children": [
        "IPY_MODEL_db00d581862e4407b839c071535b56e2",
        "IPY_MODEL_6f2113afce7345169f6cfb89a086d5d4"
       ],
       "layout": "IPY_MODEL_97fe4a55476f4aed8594e9cd2f8b2f5f"
      }
     },
     "93464385d55b4ca18392aed01ea312c6": {
      "model_module": "@jupyter-widgets/base",
      "model_module_version": "1.2.0",
      "model_name": "LayoutModel",
      "state": {}
     },
     "93a16dd9872a4b3488cb732e8eacc735": {
      "model_module": "@jupyter-widgets/base",
      "model_module_version": "1.2.0",
      "model_name": "LayoutModel",
      "state": {}
     },
     "946056a1465947d9a3dc4e929a5bcb7f": {
      "model_module": "@jupyter-widgets/controls",
      "model_module_version": "1.5.0",
      "model_name": "DropdownModel",
      "state": {
       "_options_labels": [
        "2012",
        "2013",
        "2014",
        "2015",
        "2016",
        "2017"
       ],
       "description": "Year:",
       "index": 5,
       "layout": "IPY_MODEL_d2e0d7a3ade04feba698a968ae7c2ea6",
       "style": "IPY_MODEL_70b32903c7ec4d548d3ee9310e10ea71"
      }
     },
     "949eceb79624408e888323f6158dd9fd": {
      "model_module": "@jupyter-widgets/controls",
      "model_module_version": "1.5.0",
      "model_name": "DropdownModel",
      "state": {
       "_options_labels": [
        "2012",
        "2013",
        "2014",
        "2015",
        "2016",
        "2017"
       ],
       "description": "Year:",
       "index": 0,
       "layout": "IPY_MODEL_bf7b9414a542471b9f4ad7b1546276b2",
       "style": "IPY_MODEL_4662f0e4afea475eac1b94872b8af553"
      }
     },
     "96d04500156d4782804d6217fc31d52a": {
      "model_module": "@jupyter-widgets/base",
      "model_module_version": "1.2.0",
      "model_name": "LayoutModel",
      "state": {}
     },
     "97a1356c719e4226a2c76a625eb7134d": {
      "model_module": "@jupyter-widgets/base",
      "model_module_version": "1.2.0",
      "model_name": "LayoutModel",
      "state": {}
     },
     "97ecfa09a2e54ef999373238f44dd4f7": {
      "model_module": "@jupyter-widgets/controls",
      "model_module_version": "1.5.0",
      "model_name": "DescriptionStyleModel",
      "state": {
       "description_width": ""
      }
     },
     "97fe4a55476f4aed8594e9cd2f8b2f5f": {
      "model_module": "@jupyter-widgets/base",
      "model_module_version": "1.2.0",
      "model_name": "LayoutModel",
      "state": {}
     },
     "9845910fa52348ada48edc7a85f5db22": {
      "model_module": "@jupyter-widgets/controls",
      "model_module_version": "1.5.0",
      "model_name": "DescriptionStyleModel",
      "state": {
       "description_width": ""
      }
     },
     "998bf3585b414f09b02156b2ae7c502d": {
      "model_module": "@jupyter-widgets/base",
      "model_module_version": "1.2.0",
      "model_name": "LayoutModel",
      "state": {}
     },
     "9add548442a645b4917c57097e99a10f": {
      "model_module": "@jupyter-widgets/base",
      "model_module_version": "1.2.0",
      "model_name": "LayoutModel",
      "state": {}
     },
     "9afd9acc3da84843b3ea5445e4b6a48c": {
      "model_module": "@jupyter-widgets/controls",
      "model_module_version": "1.5.0",
      "model_name": "VBoxModel",
      "state": {
       "_dom_classes": [
        "widget-interact"
       ],
       "children": [
        "IPY_MODEL_7fac0928780a46d195ed6fd8bb506684",
        "IPY_MODEL_374892f14aa245f1859137eaf9a6b31e"
       ],
       "layout": "IPY_MODEL_a23447e81ff64505975d4b3eca962131"
      }
     },
     "9b0b4769aaab473dbec2f3bf289eedc5": {
      "model_module": "@jupyter-widgets/base",
      "model_module_version": "1.2.0",
      "model_name": "LayoutModel",
      "state": {}
     },
     "9c9c86a22a3146d1a2edb2bd2921d2cc": {
      "model_module": "@jupyter-widgets/controls",
      "model_module_version": "1.5.0",
      "model_name": "DropdownModel",
      "state": {
       "_options_labels": [
        "27",
        "28",
        "29",
        "30",
        "31",
        "32",
        "33",
        "34",
        "35",
        "36",
        "37",
        "38",
        "39",
        "40",
        "41",
        "42",
        "43",
        "44",
        "45",
        "46",
        "47",
        "48",
        "49",
        "50",
        "51",
        "52",
        "1",
        "2",
        "3",
        "4",
        "5",
        "6",
        "7",
        "8",
        "9",
        "10",
        "11",
        "12",
        "13",
        "14",
        "15",
        "16",
        "17",
        "18",
        "19",
        "20",
        "21",
        "22",
        "23",
        "24",
        "25",
        "26"
       ],
       "description": "Week:",
       "index": 37,
       "layout": "IPY_MODEL_e73db2910c90476ba3b5af7ba2781099",
       "style": "IPY_MODEL_0e7fc8173f7c43308fec50c50e66e47c"
      }
     },
     "9d3159e23aed478895c5ddfcb498385c": {
      "model_module": "@jupyter-widgets/controls",
      "model_module_version": "1.5.0",
      "model_name": "VBoxModel",
      "state": {
       "_dom_classes": [
        "widget-interact"
       ],
       "children": [
        "IPY_MODEL_15c1afef3d5b45a4ad47c1012ba9cf1c",
        "IPY_MODEL_fd32bdf38afc4334b71a132e501342b3"
       ],
       "layout": "IPY_MODEL_4eb29131c38c4d7794e907504dc60c45"
      }
     },
     "9f15e7ec208544a186d53a19ff82a2ef": {
      "model_module": "@jupyter-widgets/controls",
      "model_module_version": "1.5.0",
      "model_name": "DropdownModel",
      "state": {
       "_options_labels": [
        "2012",
        "2013",
        "2014",
        "2015",
        "2016",
        "2017"
       ],
       "description": "Year:",
       "index": 0,
       "layout": "IPY_MODEL_c1efaec813ce424ab526c9f4cfd15e19",
       "style": "IPY_MODEL_b7a004f5a972452b8be1dfdb5ec0d3da"
      }
     },
     "a056947197484a478f4cef94388779f6": {
      "model_module": "@jupyter-widgets/base",
      "model_module_version": "1.2.0",
      "model_name": "LayoutModel",
      "state": {}
     },
     "a23447e81ff64505975d4b3eca962131": {
      "model_module": "@jupyter-widgets/base",
      "model_module_version": "1.2.0",
      "model_name": "LayoutModel",
      "state": {}
     },
     "a2a63c2560044490ac081b6bcf0cb156": {
      "model_module": "@jupyter-widgets/base",
      "model_module_version": "1.2.0",
      "model_name": "LayoutModel",
      "state": {}
     },
     "a35aa47bc5a4428dba3351736515d3e9": {
      "model_module": "@jupyter-widgets/base",
      "model_module_version": "1.2.0",
      "model_name": "LayoutModel",
      "state": {}
     },
     "a64733a283e64183b5848ee6e686ed88": {
      "model_module": "@jupyter-widgets/controls",
      "model_module_version": "1.5.0",
      "model_name": "DescriptionStyleModel",
      "state": {
       "description_width": ""
      }
     },
     "a82925266b074ec593d36afa2aee2265": {
      "model_module": "@jupyter-widgets/base",
      "model_module_version": "1.2.0",
      "model_name": "LayoutModel",
      "state": {}
     },
     "a8a0084d6c1a494a870ebacba29eee97": {
      "model_module": "@jupyter-widgets/base",
      "model_module_version": "1.2.0",
      "model_name": "LayoutModel",
      "state": {}
     },
     "aa35041bf54a4dfdbecde7d74ef49913": {
      "model_module": "@jupyter-widgets/base",
      "model_module_version": "1.2.0",
      "model_name": "LayoutModel",
      "state": {}
     },
     "abc2a67ad301411eb3b0c09943b79526": {
      "model_module": "@jupyter-widgets/controls",
      "model_module_version": "1.5.0",
      "model_name": "VBoxModel",
      "state": {
       "_dom_classes": [
        "widget-interact"
       ],
       "children": [
        "IPY_MODEL_c4c2ea5c797247b2b7a791ef4a84da72",
        "IPY_MODEL_fe1104a5d3e342dca134188065a6206a"
       ],
       "layout": "IPY_MODEL_93a16dd9872a4b3488cb732e8eacc735"
      }
     },
     "ac11baff82dd434d88b05a2db3de4986": {
      "model_module": "@jupyter-widgets/output",
      "model_module_version": "1.0.0",
      "model_name": "OutputModel",
      "state": {
       "layout": "IPY_MODEL_e408b88464a44b8d8cc39922d5a344ba",
       "outputs": [
        {
         "data": {
          "image/png": "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\n",
          "text/plain": "<Figure size 1296x432 with 1 Axes>"
         },
         "metadata": {
          "needs_background": "light"
         },
         "output_type": "display_data"
        }
       ]
      }
     },
     "ac563142bdd4427fbac4712753d92761": {
      "model_module": "@jupyter-widgets/controls",
      "model_module_version": "1.5.0",
      "model_name": "DescriptionStyleModel",
      "state": {
       "description_width": ""
      }
     },
     "ad89176e39b4414ea276f631ff032ccf": {
      "model_module": "@jupyter-widgets/controls",
      "model_module_version": "1.5.0",
      "model_name": "DescriptionStyleModel",
      "state": {
       "description_width": ""
      }
     },
     "af0cd3bf62964584a827847202b29e27": {
      "model_module": "@jupyter-widgets/base",
      "model_module_version": "1.2.0",
      "model_name": "LayoutModel",
      "state": {}
     },
     "b0a87f8e76194a859e17a663b1619501": {
      "model_module": "@jupyter-widgets/base",
      "model_module_version": "1.2.0",
      "model_name": "LayoutModel",
      "state": {}
     },
     "b21b78e5083d40c78ef058bdda419ba5": {
      "model_module": "@jupyter-widgets/base",
      "model_module_version": "1.2.0",
      "model_name": "LayoutModel",
      "state": {}
     },
     "b2a39bcea0924d618472b5d68ee3d653": {
      "model_module": "@jupyter-widgets/base",
      "model_module_version": "1.2.0",
      "model_name": "LayoutModel",
      "state": {}
     },
     "b336b27c1b1a46e79b9afdb4718fcd8b": {
      "model_module": "@jupyter-widgets/output",
      "model_module_version": "1.0.0",
      "model_name": "OutputModel",
      "state": {
       "layout": "IPY_MODEL_0690803cdebd43439aea52a618bf8b47",
       "outputs": [
        {
         "data": {
          "image/png": "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\n",
          "text/plain": "<Figure size 1296x432 with 1 Axes>"
         },
         "metadata": {
          "needs_background": "light"
         },
         "output_type": "display_data"
        }
       ]
      }
     },
     "b3c163116d0b46ebba43bad7cd9a9166": {
      "model_module": "@jupyter-widgets/base",
      "model_module_version": "1.2.0",
      "model_name": "LayoutModel",
      "state": {}
     },
     "b527359cd6ab4af9879dbf5e34fa2751": {
      "model_module": "@jupyter-widgets/controls",
      "model_module_version": "1.5.0",
      "model_name": "DescriptionStyleModel",
      "state": {
       "description_width": ""
      }
     },
     "b5edaf93297a4bfab7bd07c25620f317": {
      "model_module": "@jupyter-widgets/controls",
      "model_module_version": "1.5.0",
      "model_name": "DropdownModel",
      "state": {
       "_options_labels": [
        "2012",
        "2013",
        "2014",
        "2015",
        "2016",
        "2017"
       ],
       "description": "Year:",
       "index": 0,
       "layout": "IPY_MODEL_7def9d5748ec43f7b39c7cdd7be8b294",
       "style": "IPY_MODEL_ad89176e39b4414ea276f631ff032ccf"
      }
     },
     "b71b872f8acb461ba4f5ddf16dddd491": {
      "model_module": "@jupyter-widgets/base",
      "model_module_version": "1.2.0",
      "model_name": "LayoutModel",
      "state": {}
     },
     "b7a004f5a972452b8be1dfdb5ec0d3da": {
      "model_module": "@jupyter-widgets/controls",
      "model_module_version": "1.5.0",
      "model_name": "DescriptionStyleModel",
      "state": {
       "description_width": ""
      }
     },
     "b7f45a1ad0a64c95aadcc99a746c63aa": {
      "model_module": "@jupyter-widgets/base",
      "model_module_version": "1.2.0",
      "model_name": "LayoutModel",
      "state": {}
     },
     "b9d3b297f7064948be1d0fc3d9c4cf6f": {
      "model_module": "@jupyter-widgets/output",
      "model_module_version": "1.0.0",
      "model_name": "OutputModel",
      "state": {
       "layout": "IPY_MODEL_358037f5653a4421a332b4015826a91e",
       "outputs": [
        {
         "ename": "ValueError",
         "evalue": "shape mismatch: objects cannot be broadcast to a single shape",
         "output_type": "error",
         "traceback": [
          "\u001b[0;31m---------------------------------------------------------------------------\u001b[0m",
          "\u001b[0;31mValueError\u001b[0m                                Traceback (most recent call last)",
          "\u001b[0;32m~/.local/lib/python3.6/site-packages/ipywidgets/widgets/interaction.py\u001b[0m in \u001b[0;36mupdate\u001b[0;34m(self, *args)\u001b[0m\n\u001b[1;32m    254\u001b[0m                     \u001b[0mvalue\u001b[0m \u001b[0;34m=\u001b[0m \u001b[0mwidget\u001b[0m\u001b[0;34m.\u001b[0m\u001b[0mget_interact_value\u001b[0m\u001b[0;34m(\u001b[0m\u001b[0;34m)\u001b[0m\u001b[0;34m\u001b[0m\u001b[0;34m\u001b[0m\u001b[0m\n\u001b[1;32m    255\u001b[0m                     \u001b[0mself\u001b[0m\u001b[0;34m.\u001b[0m\u001b[0mkwargs\u001b[0m\u001b[0;34m[\u001b[0m\u001b[0mwidget\u001b[0m\u001b[0;34m.\u001b[0m\u001b[0m_kwarg\u001b[0m\u001b[0;34m]\u001b[0m \u001b[0;34m=\u001b[0m \u001b[0mvalue\u001b[0m\u001b[0;34m\u001b[0m\u001b[0;34m\u001b[0m\u001b[0m\n\u001b[0;32m--> 256\u001b[0;31m                 \u001b[0mself\u001b[0m\u001b[0;34m.\u001b[0m\u001b[0mresult\u001b[0m \u001b[0;34m=\u001b[0m \u001b[0mself\u001b[0m\u001b[0;34m.\u001b[0m\u001b[0mf\u001b[0m\u001b[0;34m(\u001b[0m\u001b[0;34m**\u001b[0m\u001b[0mself\u001b[0m\u001b[0;34m.\u001b[0m\u001b[0mkwargs\u001b[0m\u001b[0;34m)\u001b[0m\u001b[0;34m\u001b[0m\u001b[0;34m\u001b[0m\u001b[0m\n\u001b[0m\u001b[1;32m    257\u001b[0m                 \u001b[0mshow_inline_matplotlib_plots\u001b[0m\u001b[0;34m(\u001b[0m\u001b[0;34m)\u001b[0m\u001b[0;34m\u001b[0m\u001b[0;34m\u001b[0m\u001b[0m\n\u001b[1;32m    258\u001b[0m                 \u001b[0;32mif\u001b[0m \u001b[0mself\u001b[0m\u001b[0;34m.\u001b[0m\u001b[0mauto_display\u001b[0m \u001b[0;32mand\u001b[0m \u001b[0mself\u001b[0m\u001b[0;34m.\u001b[0m\u001b[0mresult\u001b[0m \u001b[0;32mis\u001b[0m \u001b[0;32mnot\u001b[0m \u001b[0;32mNone\u001b[0m\u001b[0;34m:\u001b[0m\u001b[0;34m\u001b[0m\u001b[0;34m\u001b[0m\u001b[0m\n",
          "\u001b[0;32m<ipython-input-23-2f180fc35de4>\u001b[0m in \u001b[0;36mplot_first_query\u001b[0;34m(year)\u001b[0m\n\u001b[1;32m     14\u001b[0m     \u001b[0;31m# Plot it (only if there's data to plot)\u001b[0m\u001b[0;34m\u001b[0m\u001b[0;34m\u001b[0m\u001b[0;34m\u001b[0m\u001b[0m\n\u001b[1;32m     15\u001b[0m     \u001b[0;32mif\u001b[0m \u001b[0mlen\u001b[0m\u001b[0;34m(\u001b[0m\u001b[0mdf2\u001b[0m\u001b[0;34m)\u001b[0m \u001b[0;34m>\u001b[0m \u001b[0;36m0\u001b[0m\u001b[0;34m:\u001b[0m\u001b[0;34m\u001b[0m\u001b[0;34m\u001b[0m\u001b[0m\n\u001b[0;32m---> 16\u001b[0;31m         \u001b[0mplt\u001b[0m\u001b[0;34m.\u001b[0m\u001b[0mbar\u001b[0m\u001b[0;34m(\u001b[0m\u001b[0mweek\u001b[0m\u001b[0;34m,\u001b[0m\u001b[0mcount\u001b[0m\u001b[0;34m)\u001b[0m\u001b[0;34m\u001b[0m\u001b[0;34m\u001b[0m\u001b[0m\n\u001b[0m\u001b[1;32m     17\u001b[0m         \u001b[0mplt\u001b[0m\u001b[0;34m.\u001b[0m\u001b[0mshow\u001b[0m\u001b[0;34m(\u001b[0m\u001b[0;34m)\u001b[0m\u001b[0;34m;\u001b[0m\u001b[0;34m\u001b[0m\u001b[0;34m\u001b[0m\u001b[0m\n\u001b[1;32m     18\u001b[0m     \u001b[0;32melse\u001b[0m\u001b[0;34m:\u001b[0m\u001b[0;34m\u001b[0m\u001b[0;34m\u001b[0m\u001b[0m\n",
          "\u001b[0;32m~/.local/lib/python3.6/site-packages/matplotlib/pyplot.py\u001b[0m in \u001b[0;36mbar\u001b[0;34m(x, height, width, bottom, align, data, **kwargs)\u001b[0m\n\u001b[1;32m   2407\u001b[0m     return gca().bar(\n\u001b[1;32m   2408\u001b[0m         \u001b[0mx\u001b[0m\u001b[0;34m,\u001b[0m \u001b[0mheight\u001b[0m\u001b[0;34m,\u001b[0m \u001b[0mwidth\u001b[0m\u001b[0;34m=\u001b[0m\u001b[0mwidth\u001b[0m\u001b[0;34m,\u001b[0m \u001b[0mbottom\u001b[0m\u001b[0;34m=\u001b[0m\u001b[0mbottom\u001b[0m\u001b[0;34m,\u001b[0m \u001b[0malign\u001b[0m\u001b[0;34m=\u001b[0m\u001b[0malign\u001b[0m\u001b[0;34m,\u001b[0m\u001b[0;34m\u001b[0m\u001b[0;34m\u001b[0m\u001b[0m\n\u001b[0;32m-> 2409\u001b[0;31m         **({\"data\": data} if data is not None else {}), **kwargs)\n\u001b[0m\u001b[1;32m   2410\u001b[0m \u001b[0;34m\u001b[0m\u001b[0m\n\u001b[1;32m   2411\u001b[0m \u001b[0;34m\u001b[0m\u001b[0m\n",
          "\u001b[0;32m~/.local/lib/python3.6/site-packages/matplotlib/__init__.py\u001b[0m in \u001b[0;36minner\u001b[0;34m(ax, data, *args, **kwargs)\u001b[0m\n\u001b[1;32m   1563\u001b[0m     \u001b[0;32mdef\u001b[0m \u001b[0minner\u001b[0m\u001b[0;34m(\u001b[0m\u001b[0max\u001b[0m\u001b[0;34m,\u001b[0m \u001b[0;34m*\u001b[0m\u001b[0margs\u001b[0m\u001b[0;34m,\u001b[0m \u001b[0mdata\u001b[0m\u001b[0;34m=\u001b[0m\u001b[0;32mNone\u001b[0m\u001b[0;34m,\u001b[0m \u001b[0;34m**\u001b[0m\u001b[0mkwargs\u001b[0m\u001b[0;34m)\u001b[0m\u001b[0;34m:\u001b[0m\u001b[0;34m\u001b[0m\u001b[0;34m\u001b[0m\u001b[0m\n\u001b[1;32m   1564\u001b[0m         \u001b[0;32mif\u001b[0m \u001b[0mdata\u001b[0m \u001b[0;32mis\u001b[0m \u001b[0;32mNone\u001b[0m\u001b[0;34m:\u001b[0m\u001b[0;34m\u001b[0m\u001b[0;34m\u001b[0m\u001b[0m\n\u001b[0;32m-> 1565\u001b[0;31m             \u001b[0;32mreturn\u001b[0m \u001b[0mfunc\u001b[0m\u001b[0;34m(\u001b[0m\u001b[0max\u001b[0m\u001b[0;34m,\u001b[0m \u001b[0;34m*\u001b[0m\u001b[0mmap\u001b[0m\u001b[0;34m(\u001b[0m\u001b[0msanitize_sequence\u001b[0m\u001b[0;34m,\u001b[0m \u001b[0margs\u001b[0m\u001b[0;34m)\u001b[0m\u001b[0;34m,\u001b[0m \u001b[0;34m**\u001b[0m\u001b[0mkwargs\u001b[0m\u001b[0;34m)\u001b[0m\u001b[0;34m\u001b[0m\u001b[0;34m\u001b[0m\u001b[0m\n\u001b[0m\u001b[1;32m   1566\u001b[0m \u001b[0;34m\u001b[0m\u001b[0m\n\u001b[1;32m   1567\u001b[0m         \u001b[0mbound\u001b[0m \u001b[0;34m=\u001b[0m \u001b[0mnew_sig\u001b[0m\u001b[0;34m.\u001b[0m\u001b[0mbind\u001b[0m\u001b[0;34m(\u001b[0m\u001b[0max\u001b[0m\u001b[0;34m,\u001b[0m \u001b[0;34m*\u001b[0m\u001b[0margs\u001b[0m\u001b[0;34m,\u001b[0m \u001b[0;34m**\u001b[0m\u001b[0mkwargs\u001b[0m\u001b[0;34m)\u001b[0m\u001b[0;34m\u001b[0m\u001b[0;34m\u001b[0m\u001b[0m\n",
          "\u001b[0;32m~/.local/lib/python3.6/site-packages/matplotlib/axes/_axes.py\u001b[0m in \u001b[0;36mbar\u001b[0;34m(self, x, height, width, bottom, align, **kwargs)\u001b[0m\n\u001b[1;32m   2339\u001b[0m         x, height, width, y, linewidth = np.broadcast_arrays(\n\u001b[1;32m   2340\u001b[0m             \u001b[0;31m# Make args iterable too.\u001b[0m\u001b[0;34m\u001b[0m\u001b[0;34m\u001b[0m\u001b[0;34m\u001b[0m\u001b[0m\n\u001b[0;32m-> 2341\u001b[0;31m             np.atleast_1d(x), height, width, y, linewidth)\n\u001b[0m\u001b[1;32m   2342\u001b[0m \u001b[0;34m\u001b[0m\u001b[0m\n\u001b[1;32m   2343\u001b[0m         \u001b[0;31m# Now that units have been converted, set the tick locations.\u001b[0m\u001b[0;34m\u001b[0m\u001b[0;34m\u001b[0m\u001b[0;34m\u001b[0m\u001b[0m\n",
          "\u001b[0;32m<__array_function__ internals>\u001b[0m in \u001b[0;36mbroadcast_arrays\u001b[0;34m(*args, **kwargs)\u001b[0m\n",
          "\u001b[0;32m~/.local/lib/python3.6/site-packages/numpy/lib/stride_tricks.py\u001b[0m in \u001b[0;36mbroadcast_arrays\u001b[0;34m(*args, **kwargs)\u001b[0m\n\u001b[1;32m    262\u001b[0m     \u001b[0margs\u001b[0m \u001b[0;34m=\u001b[0m \u001b[0;34m[\u001b[0m\u001b[0mnp\u001b[0m\u001b[0;34m.\u001b[0m\u001b[0marray\u001b[0m\u001b[0;34m(\u001b[0m\u001b[0m_m\u001b[0m\u001b[0;34m,\u001b[0m \u001b[0mcopy\u001b[0m\u001b[0;34m=\u001b[0m\u001b[0;32mFalse\u001b[0m\u001b[0;34m,\u001b[0m \u001b[0msubok\u001b[0m\u001b[0;34m=\u001b[0m\u001b[0msubok\u001b[0m\u001b[0;34m)\u001b[0m \u001b[0;32mfor\u001b[0m \u001b[0m_m\u001b[0m \u001b[0;32min\u001b[0m \u001b[0margs\u001b[0m\u001b[0;34m]\u001b[0m\u001b[0;34m\u001b[0m\u001b[0;34m\u001b[0m\u001b[0m\n\u001b[1;32m    263\u001b[0m \u001b[0;34m\u001b[0m\u001b[0m\n\u001b[0;32m--> 264\u001b[0;31m     \u001b[0mshape\u001b[0m \u001b[0;34m=\u001b[0m \u001b[0m_broadcast_shape\u001b[0m\u001b[0;34m(\u001b[0m\u001b[0;34m*\u001b[0m\u001b[0margs\u001b[0m\u001b[0;34m)\u001b[0m\u001b[0;34m\u001b[0m\u001b[0;34m\u001b[0m\u001b[0m\n\u001b[0m\u001b[1;32m    265\u001b[0m \u001b[0;34m\u001b[0m\u001b[0m\n\u001b[1;32m    266\u001b[0m     \u001b[0;32mif\u001b[0m \u001b[0mall\u001b[0m\u001b[0;34m(\u001b[0m\u001b[0marray\u001b[0m\u001b[0;34m.\u001b[0m\u001b[0mshape\u001b[0m \u001b[0;34m==\u001b[0m \u001b[0mshape\u001b[0m \u001b[0;32mfor\u001b[0m \u001b[0marray\u001b[0m \u001b[0;32min\u001b[0m \u001b[0margs\u001b[0m\u001b[0;34m)\u001b[0m\u001b[0;34m:\u001b[0m\u001b[0;34m\u001b[0m\u001b[0;34m\u001b[0m\u001b[0m\n",
          "\u001b[0;32m~/.local/lib/python3.6/site-packages/numpy/lib/stride_tricks.py\u001b[0m in \u001b[0;36m_broadcast_shape\u001b[0;34m(*args)\u001b[0m\n\u001b[1;32m    189\u001b[0m     \u001b[0;31m# use the old-iterator because np.nditer does not handle size 0 arrays\u001b[0m\u001b[0;34m\u001b[0m\u001b[0;34m\u001b[0m\u001b[0;34m\u001b[0m\u001b[0m\n\u001b[1;32m    190\u001b[0m     \u001b[0;31m# consistently\u001b[0m\u001b[0;34m\u001b[0m\u001b[0;34m\u001b[0m\u001b[0;34m\u001b[0m\u001b[0m\n\u001b[0;32m--> 191\u001b[0;31m     \u001b[0mb\u001b[0m \u001b[0;34m=\u001b[0m \u001b[0mnp\u001b[0m\u001b[0;34m.\u001b[0m\u001b[0mbroadcast\u001b[0m\u001b[0;34m(\u001b[0m\u001b[0;34m*\u001b[0m\u001b[0margs\u001b[0m\u001b[0;34m[\u001b[0m\u001b[0;34m:\u001b[0m\u001b[0;36m32\u001b[0m\u001b[0;34m]\u001b[0m\u001b[0;34m)\u001b[0m\u001b[0;34m\u001b[0m\u001b[0;34m\u001b[0m\u001b[0m\n\u001b[0m\u001b[1;32m    192\u001b[0m     \u001b[0;31m# unfortunately, it cannot handle 32 or more arguments directly\u001b[0m\u001b[0;34m\u001b[0m\u001b[0;34m\u001b[0m\u001b[0;34m\u001b[0m\u001b[0m\n\u001b[1;32m    193\u001b[0m     \u001b[0;32mfor\u001b[0m \u001b[0mpos\u001b[0m \u001b[0;32min\u001b[0m \u001b[0mrange\u001b[0m\u001b[0;34m(\u001b[0m\u001b[0;36m32\u001b[0m\u001b[0;34m,\u001b[0m \u001b[0mlen\u001b[0m\u001b[0;34m(\u001b[0m\u001b[0margs\u001b[0m\u001b[0;34m)\u001b[0m\u001b[0;34m,\u001b[0m \u001b[0;36m31\u001b[0m\u001b[0;34m)\u001b[0m\u001b[0;34m:\u001b[0m\u001b[0;34m\u001b[0m\u001b[0;34m\u001b[0m\u001b[0m\n",
          "\u001b[0;31mValueError\u001b[0m: shape mismatch: objects cannot be broadcast to a single shape"
         ]
        }
       ]
      }
     },
     "b9fbdfae36e2496e885e56f709fb5fcc": {
      "model_module": "@jupyter-widgets/controls",
      "model_module_version": "1.5.0",
      "model_name": "DescriptionStyleModel",
      "state": {
       "description_width": ""
      }
     },
     "bd1567d3b90d4f78bdb2d7b8de923cc0": {
      "model_module": "@jupyter-widgets/controls",
      "model_module_version": "1.5.0",
      "model_name": "DropdownModel",
      "state": {
       "_options_labels": [
        "2012",
        "2013",
        "2014",
        "2015",
        "2016",
        "2017"
       ],
       "description": "Year:",
       "index": 0,
       "layout": "IPY_MODEL_b3c163116d0b46ebba43bad7cd9a9166",
       "style": "IPY_MODEL_1f3be21afc0e4aeb99b8d0a041efe7f0"
      }
     },
     "bf7b9414a542471b9f4ad7b1546276b2": {
      "model_module": "@jupyter-widgets/base",
      "model_module_version": "1.2.0",
      "model_name": "LayoutModel",
      "state": {}
     },
     "c1efaec813ce424ab526c9f4cfd15e19": {
      "model_module": "@jupyter-widgets/base",
      "model_module_version": "1.2.0",
      "model_name": "LayoutModel",
      "state": {}
     },
     "c230c9ead1a34657bd056378e654c81e": {
      "model_module": "@jupyter-widgets/base",
      "model_module_version": "1.2.0",
      "model_name": "LayoutModel",
      "state": {}
     },
     "c2b3f2d16abf448bb8dc3104611fa055": {
      "model_module": "@jupyter-widgets/base",
      "model_module_version": "1.2.0",
      "model_name": "LayoutModel",
      "state": {}
     },
     "c312086f8f524b0c9d029727848c557b": {
      "model_module": "@jupyter-widgets/base",
      "model_module_version": "1.2.0",
      "model_name": "LayoutModel",
      "state": {}
     },
     "c4c2ea5c797247b2b7a791ef4a84da72": {
      "model_module": "@jupyter-widgets/controls",
      "model_module_version": "1.5.0",
      "model_name": "DropdownModel",
      "state": {
       "_options_labels": [
        "2012",
        "2013",
        "2014",
        "2015",
        "2016",
        "2017"
       ],
       "description": "Year:",
       "index": 0,
       "layout": "IPY_MODEL_b71b872f8acb461ba4f5ddf16dddd491",
       "style": "IPY_MODEL_dde4e42bf1744bb992bf915a4c79072f"
      }
     },
     "c6554c38c2b64e1483f0b63dc00b0b9f": {
      "model_module": "@jupyter-widgets/output",
      "model_module_version": "1.0.0",
      "model_name": "OutputModel",
      "state": {
       "layout": "IPY_MODEL_fe5d9555163b4d379860cda7a5bb89a3",
       "outputs": [
        {
         "data": {
          "image/png": "iVBORw0KGgoAAAANSUhEUgAAAF0AAABVCAYAAAArIuiuAAAABHNCSVQICAgIfAhkiAAAAAlwSFlzAAALEgAACxIB0t1+/AAAADh0RVh0U29mdHdhcmUAbWF0cGxvdGxpYiB2ZXJzaW9uMy4yLjEsIGh0dHA6Ly9tYXRwbG90bGliLm9yZy+j8jraAAAFEUlEQVR4nO2dz2tcRRzAP99dUyRYpSVLkfpjBYvQgwcNehDxoELFg/VmQehBCB76B+TgH1Dx4MkKORR7UsFDFYJKKaKCFkwEIYIlpVb6yyZRq5vm52a/HmYe+7rJ5m12N++77H4/8HhvZufNzPu8eTM7b8NEVBUnXwrWFRhEXLoBLt0Al26ASzfgnjwLGxkZ0XK5nGeRuTI9Pb2gqqWsdLlKL5fLTE1N5VlkrojIH62k8+7FAJfeJuXxybbPzZQuIqdFZE5EZlJx+0XknIjMxv2+tmswgLTS0j8CjjTEjQPnVfUQcD6GnRbJlK6q3wF/N0S/BpyJx2eAo12uV1/Tbp9+QFVvxuM/gQNdqs9A0PFAquE1ZdNXlSIyJiJTIjI1Pz/faXFdoZNBsBu0K/2WiDwIEPdzzRKq6oSqjqrqaKmUOW8YCNqV/gVwPB4fBz7vTnUGg1a+Mn4M/Ag8ISLXROQt4CTwsojMAi/FsNMima8BVPVYk49e7HJdTCmPT3Ll5Ku5lOUzUgNcugEu3QCXboBLZ/NkabcnTy7dAJdugEs3wKUbMFDStxogdzpodmOQHSjpvYJLN8ClG+DSDeh76c0Gvk4GxE4H076X3ou4dANcugF9LT3d91r/2UWavpbeq7h0A1y6AS7dgL6V3ksDZyN9K72XcekGuHQDXLoBLr2BPAZgl26ASzfApRvg0lPkNaFy6Qa4dANcugEu3YCBkN7sZzuLv2OEAZHea3QkXUSOiMhFEbkkIr78SIu0LV1EisAHwCvAYeCYiBzuVsX6mU5a+jPAJVW9rKprwCeEdWCcDDpZre4gcDUVvgY825hIRMaAsRhcFJGL8XikSb57gUoH9cqipfzl3eyMUmkW4v7RViqw60sEquoEMNEYLyLN1gosAb/vYpW6nr+qju4kfSfdy3Xg4VT4oRjnZNCJ9J+AQyLymIjsAd4grAPjZNB296KqVRE5AXwNFIHTqvrrDrLY1OVEnge+b7deLbDb+Wci/p8C8sdnpAa4dANyXVUaQEQ+BV6PZa/FfQGQvOvSBZRQ7zVgGfgZeFNVb2x3Uu59uogcBYaBdwiTqdtADfgH2B+PC9QvaBG4j3BhBWBPTLPO3Y1G4rZKGNiHYvhOPC4A1XhOEZgnTNCSp70W0yfrTBZjGUOpMqrAX7EuFcJEaxiYJCwK+jRhlv72dg5y715U9SzwA+EiH4jRAiStY5264KUYTgQXY5pVws0oxLibwL/xs/Q1JTdwKJ5fAVZieXvZfP3JjavG8FY9gRJm418C38byXwAuEG5iditW1dw3oAzMAP/FSlaj6I0Y3ojClglPwBL1Fpj+XFPnVxrS7HSrNeSflf4G8CHh5q/Gul4FSlnXbzmQ3k9ode8RWsuV1GdJ15KISLhDECyE1l9Lpb83lW6ZIK5KkLIR41fjlrDWUGZ6n7BAXXS6zBL1ZRIV+Ao4BZzY8mrTGLX0x+PF3ya0jqSP3ogiFmN4BbgV4zS1b9wuxzySm5R0SZqKrwHfxBvRjSfiAuEpTLqsYeARYKbnWrqICPA+QexB4ClCy7xO6GNrhBtSI/TFyeBXScU3ytxH/emoAJ8RWt46dz8tT1L/ljQPzFJv+UmeK9TfGs4Bv8S6prueKuE3hCHCE3ZWVZcIr7Z/y3Rg8O3lHGGpWKjLqFEfJK1I6tLqV9fkJifUCE/tc6q67Ys/fw1ggM9IDXDpBrh0A1y6AS7dAJdugEs34H9B33Ngu206rAAAAABJRU5ErkJggg==\n",
          "text/plain": "<Figure size 72x72 with 1 Axes>"
         },
         "metadata": {
          "needs_background": "light"
         },
         "output_type": "display_data"
        }
       ]
      }
     },
     "c747893ca1a6462f8ea01ef9ad19b22e": {
      "model_module": "@jupyter-widgets/base",
      "model_module_version": "1.2.0",
      "model_name": "LayoutModel",
      "state": {}
     },
     "ca1aa5ad5b514ad8b878b5c975f164ca": {
      "model_module": "@jupyter-widgets/controls",
      "model_module_version": "1.5.0",
      "model_name": "VBoxModel",
      "state": {
       "_dom_classes": [
        "widget-interact"
       ],
       "children": [
        "IPY_MODEL_bd1567d3b90d4f78bdb2d7b8de923cc0",
        "IPY_MODEL_2f4da8fb473544859019bcfb00140231"
       ],
       "layout": "IPY_MODEL_371ce9dc7e20455d83a2e005d4145ff5"
      }
     },
     "ca419d405b71472d9c5c7356102ce819": {
      "model_module": "@jupyter-widgets/base",
      "model_module_version": "1.2.0",
      "model_name": "LayoutModel",
      "state": {}
     },
     "ca48b4c1f0764f809632d98d07a27bc2": {
      "model_module": "@jupyter-widgets/controls",
      "model_module_version": "1.5.0",
      "model_name": "VBoxModel",
      "state": {
       "_dom_classes": [
        "widget-interact"
       ],
       "children": [
        "IPY_MODEL_7624a346d5f74902808bb1152883ef9d",
        "IPY_MODEL_9c9c86a22a3146d1a2edb2bd2921d2cc",
        "IPY_MODEL_ac11baff82dd434d88b05a2db3de4986"
       ],
       "layout": "IPY_MODEL_835d6a8bda544003925ef2be93fe5cb9"
      }
     },
     "cb5eaffb08714e7b9e3b2cd61958c73a": {
      "model_module": "@jupyter-widgets/base",
      "model_module_version": "1.2.0",
      "model_name": "LayoutModel",
      "state": {}
     },
     "cc1509dd2e804c58b39be3b98a71cf70": {
      "model_module": "@jupyter-widgets/controls",
      "model_module_version": "1.5.0",
      "model_name": "DescriptionStyleModel",
      "state": {
       "description_width": ""
      }
     },
     "cef224aaf99c47be94aee28f72d7eea1": {
      "model_module": "@jupyter-widgets/controls",
      "model_module_version": "1.5.0",
      "model_name": "DropdownModel",
      "state": {
       "_options_labels": [
        "2012",
        "2013",
        "2014",
        "2015",
        "2016",
        "2017"
       ],
       "description": "Year:",
       "index": 0,
       "layout": "IPY_MODEL_565385c20c63411aab8ac07682f55d6e",
       "style": "IPY_MODEL_6330291ee88e4da98c3d0fed92a3e011"
      }
     },
     "d2e0d7a3ade04feba698a968ae7c2ea6": {
      "model_module": "@jupyter-widgets/base",
      "model_module_version": "1.2.0",
      "model_name": "LayoutModel",
      "state": {}
     },
     "d305d08e90de47ec8c36d5558d88d717": {
      "model_module": "@jupyter-widgets/base",
      "model_module_version": "1.2.0",
      "model_name": "LayoutModel",
      "state": {}
     },
     "d3703b410d0544eb94d71f9ebc8347a9": {
      "model_module": "@jupyter-widgets/output",
      "model_module_version": "1.0.0",
      "model_name": "OutputModel",
      "state": {
       "layout": "IPY_MODEL_33479542c5e6449caaed742cd678e14f",
       "outputs": [
        {
         "data": {
          "image/png": "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\n",
          "text/plain": "<Figure size 432x288 with 1 Axes>"
         },
         "metadata": {
          "needs_background": "light"
         },
         "output_type": "display_data"
        }
       ]
      }
     },
     "d3a1a8194d814608aba4008942a48b35": {
      "model_module": "@jupyter-widgets/controls",
      "model_module_version": "1.5.0",
      "model_name": "BoundedFloatTextModel",
      "state": {
       "description": "Start Year:",
       "layout": "IPY_MODEL_23db743892844944be73a15b3aced133",
       "max": 2015,
       "min": 2012,
       "step": 1,
       "style": "IPY_MODEL_0f6b91d90f884fc6851c6e418daafe95",
       "value": 2012
      }
     },
     "d5e77e1e10cd4580b0b47120eb696f8a": {
      "model_module": "@jupyter-widgets/output",
      "model_module_version": "1.0.0",
      "model_name": "OutputModel",
      "state": {
       "layout": "IPY_MODEL_0a0d57b9cbe94caeb41d1384c57c2b16",
       "outputs": [
        {
         "data": {
          "image/png": "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\n",
          "text/plain": "<Figure size 576x432 with 1 Axes>"
         },
         "metadata": {
          "needs_background": "light"
         },
         "output_type": "display_data"
        }
       ]
      }
     },
     "d6720b70c6504aa199f40f2bd0093008": {
      "model_module": "@jupyter-widgets/controls",
      "model_module_version": "1.5.0",
      "model_name": "DescriptionStyleModel",
      "state": {
       "description_width": ""
      }
     },
     "d97b7744076540e182318dbfff38176c": {
      "model_module": "@jupyter-widgets/output",
      "model_module_version": "1.0.0",
      "model_name": "OutputModel",
      "state": {
       "layout": "IPY_MODEL_998bf3585b414f09b02156b2ae7c502d",
       "outputs": [
        {
         "data": {
          "image/png": "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\n",
          "text/plain": "<Figure size 432x288 with 1 Axes>"
         },
         "metadata": {
          "needs_background": "light"
         },
         "output_type": "display_data"
        }
       ]
      }
     },
     "db00d581862e4407b839c071535b56e2": {
      "model_module": "@jupyter-widgets/controls",
      "model_module_version": "1.5.0",
      "model_name": "DropdownModel",
      "state": {
       "_options_labels": [
        "2012",
        "2013",
        "2014",
        "2015",
        "2016",
        "2017"
       ],
       "description": "Year:",
       "index": 0,
       "layout": "IPY_MODEL_cb5eaffb08714e7b9e3b2cd61958c73a",
       "style": "IPY_MODEL_b9fbdfae36e2496e885e56f709fb5fcc"
      }
     },
     "dde4e42bf1744bb992bf915a4c79072f": {
      "model_module": "@jupyter-widgets/controls",
      "model_module_version": "1.5.0",
      "model_name": "DescriptionStyleModel",
      "state": {
       "description_width": ""
      }
     },
     "e1967d5a55154efaa762b6138e75deae": {
      "model_module": "@jupyter-widgets/controls",
      "model_module_version": "1.5.0",
      "model_name": "VBoxModel",
      "state": {
       "_dom_classes": [
        "widget-interact"
       ],
       "children": [
        "IPY_MODEL_577cae0cf51845fcafc0d958927322cf",
        "IPY_MODEL_b336b27c1b1a46e79b9afdb4718fcd8b"
       ],
       "layout": "IPY_MODEL_9add548442a645b4917c57097e99a10f"
      }
     },
     "e25a5252af7d43a88b7e47a2704e5836": {
      "model_module": "@jupyter-widgets/controls",
      "model_module_version": "1.5.0",
      "model_name": "VBoxModel",
      "state": {
       "_dom_classes": [
        "widget-interact"
       ],
       "children": [
        "IPY_MODEL_319fc727be914f52aca5ff7f7dff9c9a",
        "IPY_MODEL_d5e77e1e10cd4580b0b47120eb696f8a"
       ],
       "layout": "IPY_MODEL_b7f45a1ad0a64c95aadcc99a746c63aa"
      }
     },
     "e408b88464a44b8d8cc39922d5a344ba": {
      "model_module": "@jupyter-widgets/base",
      "model_module_version": "1.2.0",
      "model_name": "LayoutModel",
      "state": {}
     },
     "e526670475b04d0b880ffc9de81e0745": {
      "model_module": "@jupyter-widgets/base",
      "model_module_version": "1.2.0",
      "model_name": "LayoutModel",
      "state": {}
     },
     "e72bc28f38a94ffb973cbf43dcebe133": {
      "model_module": "@jupyter-widgets/base",
      "model_module_version": "1.2.0",
      "model_name": "LayoutModel",
      "state": {}
     },
     "e73db2910c90476ba3b5af7ba2781099": {
      "model_module": "@jupyter-widgets/base",
      "model_module_version": "1.2.0",
      "model_name": "LayoutModel",
      "state": {}
     },
     "e810401d749f48858628b641e572df8f": {
      "model_module": "@jupyter-widgets/controls",
      "model_module_version": "1.5.0",
      "model_name": "DescriptionStyleModel",
      "state": {
       "description_width": ""
      }
     },
     "e8e179fc884540639314e03a48bc1f11": {
      "model_module": "@jupyter-widgets/controls",
      "model_module_version": "1.5.0",
      "model_name": "VBoxModel",
      "state": {
       "_dom_classes": [
        "widget-interact"
       ],
       "children": [
        "IPY_MODEL_88d40c595a5f407da0748f530a814f67",
        "IPY_MODEL_d3a1a8194d814608aba4008942a48b35",
        "IPY_MODEL_0f235fc9fc2d4929983a345d0d0defe6",
        "IPY_MODEL_7c632af6d3c6425886fc508a2712cf28"
       ],
       "layout": "IPY_MODEL_026c7efa6e584a27a4c58474d6e820e8"
      }
     },
     "ea401e7d11f844e0a090cdb6665d0f99": {
      "model_module": "@jupyter-widgets/base",
      "model_module_version": "1.2.0",
      "model_name": "LayoutModel",
      "state": {}
     },
     "ed557db0fef045d692152e6f3f9d6c94": {
      "model_module": "@jupyter-widgets/base",
      "model_module_version": "1.2.0",
      "model_name": "LayoutModel",
      "state": {}
     },
     "ed836e5500f3429cb1435169c3e8cffc": {
      "model_module": "@jupyter-widgets/output",
      "model_module_version": "1.0.0",
      "model_name": "OutputModel",
      "state": {
       "layout": "IPY_MODEL_96d04500156d4782804d6217fc31d52a",
       "outputs": [
        {
         "ename": "NameError",
         "evalue": "name 'figure' is not defined",
         "output_type": "error",
         "traceback": [
          "\u001b[0;31m---------------------------------------------------------------------------\u001b[0m",
          "\u001b[0;31mNameError\u001b[0m                                 Traceback (most recent call last)",
          "\u001b[0;32m~/.local/lib/python3.6/site-packages/ipywidgets/widgets/interaction.py\u001b[0m in \u001b[0;36mupdate\u001b[0;34m(self, *args)\u001b[0m\n\u001b[1;32m    254\u001b[0m                     \u001b[0mvalue\u001b[0m \u001b[0;34m=\u001b[0m \u001b[0mwidget\u001b[0m\u001b[0;34m.\u001b[0m\u001b[0mget_interact_value\u001b[0m\u001b[0;34m(\u001b[0m\u001b[0;34m)\u001b[0m\u001b[0;34m\u001b[0m\u001b[0;34m\u001b[0m\u001b[0m\n\u001b[1;32m    255\u001b[0m                     \u001b[0mself\u001b[0m\u001b[0;34m.\u001b[0m\u001b[0mkwargs\u001b[0m\u001b[0;34m[\u001b[0m\u001b[0mwidget\u001b[0m\u001b[0;34m.\u001b[0m\u001b[0m_kwarg\u001b[0m\u001b[0;34m]\u001b[0m \u001b[0;34m=\u001b[0m \u001b[0mvalue\u001b[0m\u001b[0;34m\u001b[0m\u001b[0;34m\u001b[0m\u001b[0m\n\u001b[0;32m--> 256\u001b[0;31m                 \u001b[0mself\u001b[0m\u001b[0;34m.\u001b[0m\u001b[0mresult\u001b[0m \u001b[0;34m=\u001b[0m \u001b[0mself\u001b[0m\u001b[0;34m.\u001b[0m\u001b[0mf\u001b[0m\u001b[0;34m(\u001b[0m\u001b[0;34m**\u001b[0m\u001b[0mself\u001b[0m\u001b[0;34m.\u001b[0m\u001b[0mkwargs\u001b[0m\u001b[0;34m)\u001b[0m\u001b[0;34m\u001b[0m\u001b[0;34m\u001b[0m\u001b[0m\n\u001b[0m\u001b[1;32m    257\u001b[0m                 \u001b[0mshow_inline_matplotlib_plots\u001b[0m\u001b[0;34m(\u001b[0m\u001b[0;34m)\u001b[0m\u001b[0;34m\u001b[0m\u001b[0;34m\u001b[0m\u001b[0m\n\u001b[1;32m    258\u001b[0m                 \u001b[0;32mif\u001b[0m \u001b[0mself\u001b[0m\u001b[0;34m.\u001b[0m\u001b[0mauto_display\u001b[0m \u001b[0;32mand\u001b[0m \u001b[0mself\u001b[0m\u001b[0;34m.\u001b[0m\u001b[0mresult\u001b[0m \u001b[0;32mis\u001b[0m \u001b[0;32mnot\u001b[0m \u001b[0;32mNone\u001b[0m\u001b[0;34m:\u001b[0m\u001b[0;34m\u001b[0m\u001b[0;34m\u001b[0m\u001b[0m\n",
          "\u001b[0;32m<ipython-input-104-2af1ee88c1ba>\u001b[0m in \u001b[0;36mplot_first_query\u001b[0;34m(year)\u001b[0m\n\u001b[1;32m     18\u001b[0m     \u001b[0;31m# Plot it (only if there's data to plot)\u001b[0m\u001b[0;34m\u001b[0m\u001b[0;34m\u001b[0m\u001b[0;34m\u001b[0m\u001b[0m\n\u001b[1;32m     19\u001b[0m     \u001b[0;32mif\u001b[0m \u001b[0mlen\u001b[0m\u001b[0;34m(\u001b[0m\u001b[0mdf2\u001b[0m\u001b[0;34m)\u001b[0m \u001b[0;34m>\u001b[0m \u001b[0;36m0\u001b[0m\u001b[0;34m:\u001b[0m\u001b[0;34m\u001b[0m\u001b[0;34m\u001b[0m\u001b[0m\n\u001b[0;32m---> 20\u001b[0;31m         \u001b[0mfigure\u001b[0m\u001b[0;34m(\u001b[0m\u001b[0mfigsize\u001b[0m\u001b[0;34m=\u001b[0m\u001b[0;34m(\u001b[0m\u001b[0;36m1\u001b[0m\u001b[0;34m,\u001b[0m\u001b[0;36m1\u001b[0m\u001b[0;34m)\u001b[0m\u001b[0;34m)\u001b[0m\u001b[0;34m\u001b[0m\u001b[0;34m\u001b[0m\u001b[0m\n\u001b[0m\u001b[1;32m     21\u001b[0m         \u001b[0mplt\u001b[0m\u001b[0;34m.\u001b[0m\u001b[0mxticks\u001b[0m\u001b[0;34m(\u001b[0m\u001b[0mweek\u001b[0m\u001b[0;34m)\u001b[0m\u001b[0;34m\u001b[0m\u001b[0;34m\u001b[0m\u001b[0m\n\u001b[1;32m     22\u001b[0m         \u001b[0mplt\u001b[0m\u001b[0;34m.\u001b[0m\u001b[0mbar\u001b[0m\u001b[0;34m(\u001b[0m\u001b[0mweek\u001b[0m\u001b[0;34m,\u001b[0m\u001b[0mmycount\u001b[0m\u001b[0;34m)\u001b[0m\u001b[0;34m\u001b[0m\u001b[0;34m\u001b[0m\u001b[0m\n",
          "\u001b[0;31mNameError\u001b[0m: name 'figure' is not defined"
         ]
        }
       ]
      }
     },
     "ee15ad4373014a0eaf5f2be0ace739f6": {
      "model_module": "@jupyter-widgets/controls",
      "model_module_version": "1.5.0",
      "model_name": "VBoxModel",
      "state": {
       "_dom_classes": [
        "widget-interact"
       ],
       "children": [
        "IPY_MODEL_b5edaf93297a4bfab7bd07c25620f317",
        "IPY_MODEL_ed836e5500f3429cb1435169c3e8cffc"
       ],
       "layout": "IPY_MODEL_3d01feabe2a8412cb2b72832b8d7417a"
      }
     },
     "eed3799beaaa4fe888d53ab0ebad2586": {
      "model_module": "@jupyter-widgets/controls",
      "model_module_version": "1.5.0",
      "model_name": "DescriptionStyleModel",
      "state": {
       "description_width": ""
      }
     },
     "eeff19c76fb84c0b94de8c7f11fe6724": {
      "model_module": "@jupyter-widgets/base",
      "model_module_version": "1.2.0",
      "model_name": "LayoutModel",
      "state": {}
     },
     "f10e0e4458b84cfc8ec5989ec9242d3f": {
      "model_module": "@jupyter-widgets/controls",
      "model_module_version": "1.5.0",
      "model_name": "VBoxModel",
      "state": {
       "_dom_classes": [
        "widget-interact"
       ],
       "children": [
        "IPY_MODEL_b5edaf93297a4bfab7bd07c25620f317",
        "IPY_MODEL_6eb83f4108364081aa2fec4d9ddd166a"
       ],
       "layout": "IPY_MODEL_9b0b4769aaab473dbec2f3bf289eedc5"
      }
     },
     "f24b9f73d4a7405db8d4c00f4346aaa6": {
      "model_module": "@jupyter-widgets/controls",
      "model_module_version": "1.5.0",
      "model_name": "DescriptionStyleModel",
      "state": {
       "description_width": ""
      }
     },
     "f4790c3752104533a93b997c3b25f852": {
      "model_module": "@jupyter-widgets/output",
      "model_module_version": "1.0.0",
      "model_name": "OutputModel",
      "state": {
       "layout": "IPY_MODEL_1977cbcf9f1c4e2c8ad1e405900e71f9",
       "outputs": [
        {
         "data": {
          "image/png": "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\n",
          "text/plain": "<Figure size 1296x432 with 1 Axes>"
         },
         "metadata": {
          "needs_background": "light"
         },
         "output_type": "display_data"
        }
       ]
      }
     },
     "f50e043876c24b3cbd8f2ba269ed6a44": {
      "model_module": "@jupyter-widgets/base",
      "model_module_version": "1.2.0",
      "model_name": "LayoutModel",
      "state": {}
     },
     "f5e5ae8e600e4fc49dafebb52fbfff2e": {
      "model_module": "@jupyter-widgets/base",
      "model_module_version": "1.2.0",
      "model_name": "LayoutModel",
      "state": {}
     },
     "f66818e59cef465cb628d25c711c266a": {
      "model_module": "@jupyter-widgets/controls",
      "model_module_version": "1.5.0",
      "model_name": "VBoxModel",
      "state": {
       "_dom_classes": [
        "widget-interact"
       ],
       "children": [
        "IPY_MODEL_3ec0d3936ff845888eed344b01fae8bf",
        "IPY_MODEL_0f8c557c5fff4d51ab7bc21bdbaa1d73"
       ],
       "layout": "IPY_MODEL_501cb2d4f5c5445bb0edee370d48c06b"
      }
     },
     "f68a2d275922497cab08f6ff5355cff6": {
      "model_module": "@jupyter-widgets/base",
      "model_module_version": "1.2.0",
      "model_name": "LayoutModel",
      "state": {}
     },
     "f6f0519bfca04f5eb425b803fe125321": {
      "model_module": "@jupyter-widgets/base",
      "model_module_version": "1.2.0",
      "model_name": "LayoutModel",
      "state": {}
     },
     "fceb8c434c8a43e39e9da01109203972": {
      "model_module": "@jupyter-widgets/controls",
      "model_module_version": "1.5.0",
      "model_name": "VBoxModel",
      "state": {
       "_dom_classes": [
        "widget-interact"
       ],
       "children": [
        "IPY_MODEL_9f15e7ec208544a186d53a19ff82a2ef",
        "IPY_MODEL_77de853a2e2d4002895b0137d6a98ab3"
       ],
       "layout": "IPY_MODEL_d305d08e90de47ec8c36d5558d88d717"
      }
     },
     "fd32bdf38afc4334b71a132e501342b3": {
      "model_module": "@jupyter-widgets/output",
      "model_module_version": "1.0.0",
      "model_name": "OutputModel",
      "state": {
       "layout": "IPY_MODEL_c312086f8f524b0c9d029727848c557b",
       "outputs": [
        {
         "data": {
          "image/png": "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\n",
          "text/plain": "<Figure size 432x288 with 1 Axes>"
         },
         "metadata": {
          "needs_background": "light"
         },
         "output_type": "display_data"
        }
       ]
      }
     },
     "fd3abaad5d9b4da5a16edd8daec4aeaf": {
      "model_module": "@jupyter-widgets/base",
      "model_module_version": "1.2.0",
      "model_name": "LayoutModel",
      "state": {}
     },
     "fe1104a5d3e342dca134188065a6206a": {
      "model_module": "@jupyter-widgets/output",
      "model_module_version": "1.0.0",
      "model_name": "OutputModel",
      "state": {
       "layout": "IPY_MODEL_0c3b6311692f46599272133a845c1bcd",
       "outputs": [
        {
         "name": "stdout",
         "output_type": "stream",
         "text": "26\n"
        },
        {
         "data": {
          "image/png": "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\n",
          "text/plain": "<Figure size 432x288 with 1 Axes>"
         },
         "metadata": {
          "needs_background": "light"
         },
         "output_type": "display_data"
        }
       ]
      }
     },
     "fe5d9555163b4d379860cda7a5bb89a3": {
      "model_module": "@jupyter-widgets/base",
      "model_module_version": "1.2.0",
      "model_name": "LayoutModel",
      "state": {}
     }
    },
    "version_major": 2,
    "version_minor": 0
   }
  }
 },
 "nbformat": 4,
 "nbformat_minor": 4
}

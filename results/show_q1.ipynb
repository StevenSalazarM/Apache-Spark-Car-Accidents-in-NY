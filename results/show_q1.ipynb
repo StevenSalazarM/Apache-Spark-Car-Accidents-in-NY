{
 "cells": [
  {
   "cell_type": "markdown",
   "metadata": {},
   "source": [
    "# Query 1"
   ]
  },
  {
   "cell_type": "markdown",
   "metadata": {},
   "source": [
    "## Import of libraries"
   ]
  },
  {
   "cell_type": "code",
   "execution_count": 1,
   "metadata": {},
   "outputs": [],
   "source": [
    "import pandas as pd\n",
    "import numpy as np\n",
    "import matplotlib.pyplot as plt\n",
    "from matplotlib.pyplot import figure\n",
    "from ipywidgets import widgets, interactive\n",
    "from io import StringIO\n"
   ]
  },
  {
   "cell_type": "markdown",
   "metadata": {},
   "source": [
    "## Scan of the results"
   ]
  },
  {
   "cell_type": "code",
   "execution_count": 123,
   "metadata": {},
   "outputs": [],
   "source": [
    "df = pd.read_csv(\"files/first_query.csv\", sep=\",\",names=[\"Year\",\"Week\",\"Count\"])"
   ]
  },
  {
   "cell_type": "markdown",
   "metadata": {},
   "source": [
    "## Function to create the plot"
   ]
  },
  {
   "cell_type": "code",
   "execution_count": 124,
   "metadata": {},
   "outputs": [],
   "source": [
    "# Make a dropdown to select the Year\n",
    "year = widgets.Dropdown(\n",
    "    options=list(df['Year'].unique()),\n",
    "    value=2012,\n",
    "    description='Year:',\n",
    ")\n",
    "def plot_first_query(year):\n",
    "    df2 = df.copy()\n",
    "    df2 = df2[df2.Year == year]\n",
    "    week = range(1,54)\n",
    "    count = list(df2['Count'])\n",
    "    mycount = [0]*53\n",
    "    i=0\n",
    "    for w in list(df2['Week']):\n",
    "        mycount[w-1] = count[i]\n",
    "        i = i+1\n",
    "    # Plot it (only if there's data to plot)\n",
    "    if len(df2) > 0:\n",
    "       \tfig = plt.figure(figsize=(18,6))\n",
    "        ax = fig.add_subplot(111)\n",
    "        plt.xlabel('Week')\n",
    "        ax.set_title(\"Results of the first query for year: \"+str(year))\n",
    "        plt.ylabel('N. Lethal Accidents')\n",
    "        plt.xticks(week)\n",
    "        plt.bar(week,mycount)\n",
    "        plt.show();\n",
    "    else:\n",
    "        print(\"No data to show for current selection\")"
   ]
  },
  {
   "cell_type": "code",
   "execution_count": 125,
   "metadata": {},
   "outputs": [
    {
     "data": {
      "application/vnd.jupyter.widget-view+json": {
       "model_id": "8d1553d3ab47432ba7e07b107b851c76",
       "version_major": 2,
       "version_minor": 0
      },
      "text/plain": [
       "interactive(children=(Dropdown(description='Year:', options=(2012, 2013, 2014, 2015, 2016, 2017), value=2012),…"
      ]
     },
     "metadata": {},
     "output_type": "display_data"
    }
   ],
   "source": [
    "interactive(plot_first_query,year=year)"
   ]
  },
  {
   "cell_type": "code",
   "execution_count": null,
   "metadata": {},
   "outputs": [],
   "source": []
  }
 ],
 "metadata": {
  "kernelspec": {
   "display_name": "Python 3",
   "language": "python",
   "name": "python3"
  },
  "language_info": {
   "codemirror_mode": {
    "name": "ipython",
    "version": 3
   },
   "file_extension": ".py",
   "mimetype": "text/x-python",
   "name": "python",
   "nbconvert_exporter": "python",
   "pygments_lexer": "ipython3",
   "version": "3.6.9"
  }
 },
 "nbformat": 4,
 "nbformat_minor": 4
}

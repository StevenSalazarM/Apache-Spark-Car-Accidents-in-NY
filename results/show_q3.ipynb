{
 "cells": [
  {
   "cell_type": "markdown",
   "metadata": {},
   "source": [
    "# Query 3"
   ]
  },
  {
   "cell_type": "markdown",
   "metadata": {},
   "source": [
    "## Import of libraries"
   ]
  },
  {
   "cell_type": "code",
   "execution_count": 1,
   "metadata": {},
   "outputs": [],
   "source": [
    "import pandas as pd\n",
    "import numpy as np\n",
    "import matplotlib.pyplot as plt\n",
    "from matplotlib.pyplot import figure\n",
    "from ipywidgets import widgets, interactive\n",
    "from io import StringIO\n"
   ]
  },
  {
   "cell_type": "markdown",
   "metadata": {},
   "source": [
    "## Scan of the results"
   ]
  },
  {
   "cell_type": "code",
   "execution_count": 2,
   "metadata": {},
   "outputs": [],
   "source": [
    "df = pd.read_csv(\"files/third_query.csv\", sep=\",\",names=[\"Borough\",\"Year\",\"Week\",\"Count\",\"Average\"])"
   ]
  },
  {
   "cell_type": "markdown",
   "metadata": {},
   "source": [
    "## Function to create the plot"
   ]
  },
  {
   "cell_type": "code",
   "execution_count": 3,
   "metadata": {},
   "outputs": [],
   "source": [
    "# Make a dropdown to select the Year\n",
    "borough = widgets.Dropdown(\n",
    "    options=list(df['Borough'].unique()),\n",
    "    value='BRONX',\n",
    "    description='Borough:',\n",
    ")\n",
    "# Make a dropdown to select the Year\n",
    "year = widgets.Dropdown(\n",
    "    options=list(df['Year'].unique()),\n",
    "    value=2012,\n",
    "    description='Year:',\n",
    ")\n",
    "def plot_third_query(borough,year):\n",
    "\tdf2 = df.copy()\n",
    "\tdf2 = df2[(df2.Borough == borough) & (df2.Year == year)]\n",
    "\tweek = range(1,54)\n",
    "\tcount = list(df2['Count'])\n",
    "\tmycount = [0]*53\n",
    "\ti=0\n",
    "\tfor w in list(df2['Week']):\n",
    "\t\tmycount[w-1] = count[i]\n",
    "\t\ti = i+1\n",
    "\taverage = list(df2['Average'])\n",
    "\tfig = plt.figure(figsize=(24,12))\n",
    "\tax = fig.add_subplot(111)\n",
    "\tplt.xlabel('Week')\n",
    "\tfig.subplots_adjust(left=0.04,right=0.99)\n",
    "\tax.set_title(\"Results of the third query with Borough: \"+borough+\" and Year: \"+str(year))\n",
    "\tplt.ylabel('N. Accidents')\n",
    "\tplt.xticks(week)\n",
    "\tbar_contrib = ax.bar(week,mycount)\n",
    "\tfor rect, label in zip(bar_contrib, average):\n",
    "\t\theight = rect.get_height()\n",
    "\t\tax.text(rect.get_x() + rect.get_width() / 2, height + 5, label,\n",
    "\t\tha='center', va='bottom')\n",
    "\t\n",
    "\tplt.show();"
   ]
  },
  {
   "cell_type": "code",
   "execution_count": 4,
   "metadata": {},
   "outputs": [
    {
     "data": {
      "application/vnd.jupyter.widget-view+json": {
       "model_id": "b0ba17496f214146a1d94bdd524a1a49",
       "version_major": 2,
       "version_minor": 0
      },
      "text/plain": [
       "interactive(children=(Dropdown(description='Borough:', options=('BRONX', 'BROOKLYN', 'MANHATTAN', 'QUEENS', 'S…"
      ]
     },
     "metadata": {},
     "output_type": "display_data"
    }
   ],
   "source": [
    "interactive(plot_third_query,borough=borough,year=year)"
   ]
  },
  {
   "cell_type": "code",
   "execution_count": null,
   "metadata": {},
   "outputs": [],
   "source": []
  }
 ],
 "metadata": {
  "kernelspec": {
   "display_name": "Python 3",
   "language": "python",
   "name": "python3"
  },
  "language_info": {
   "codemirror_mode": {
    "name": "ipython",
    "version": 3
   },
   "file_extension": ".py",
   "mimetype": "text/x-python",
   "name": "python",
   "nbconvert_exporter": "python",
   "pygments_lexer": "ipython3",
   "version": "3.6.9"
  }
 },
 "nbformat": 4,
 "nbformat_minor": 4
}
